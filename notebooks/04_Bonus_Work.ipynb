{
 "cells": [
  {
   "cell_type": "markdown",
   "metadata": {},
   "source": [
    "# Bonus - Sentiment Analysis"
   ]
  },
  {
   "cell_type": "code",
   "execution_count": 1,
   "metadata": {},
   "outputs": [],
   "source": [
    "#Sentiment Analysis - method of identifying attitudes in text data about a subject of interest \n",
    "#code help from https://stackabuse.com/python-for-nlp-introduction-to-the-textblob-library/"
   ]
  },
  {
   "cell_type": "code",
   "execution_count": 44,
   "metadata": {},
   "outputs": [],
   "source": [
    "import numpy as np\n",
    "import pandas as pd\n",
    "import matplotlib.pyplot as plt\n",
    "import warnings\n",
    "warnings.filterwarnings(\"ignore\")"
   ]
  },
  {
   "cell_type": "code",
   "execution_count": 72,
   "metadata": {},
   "outputs": [],
   "source": [
    "df = pd.read_csv('/Users/annamitchell/Desktop/GA_Docs/Projects/NLP_Project_4/datasets/comments_clean.csv')"
   ]
  },
  {
   "cell_type": "code",
   "execution_count": null,
   "metadata": {},
   "outputs": [],
   "source": []
  },
  {
   "cell_type": "code",
   "execution_count": 73,
   "metadata": {},
   "outputs": [],
   "source": [
    "from textblob import TextBlob"
   ]
  },
  {
   "cell_type": "code",
   "execution_count": 74,
   "metadata": {},
   "outputs": [],
   "source": [
    "# Define a function that accepts text and returns the polarity.\n",
    "# SA is scored using polarity values that range from 1 to -1 \n",
    "# Values closer to 1 indicate more positivity, while closer to -1 indicate negativity \n",
    "#code help from https://textblob.readthedocs.io/en/dev/\n",
    "\n",
    "def detect_sentiment(text):\n",
    "    return TextBlob(text).sentiment.polarity"
   ]
  },
  {
   "cell_type": "code",
   "execution_count": 75,
   "metadata": {},
   "outputs": [
    {
     "name": "stdout",
     "output_type": "stream",
     "text": [
      "CPU times: user 1.83 s, sys: 71.3 ms, total: 1.9 s\n",
      "Wall time: 5.5 s\n"
     ]
    }
   ],
   "source": [
    "%%time\n",
    "#code help from https://textblob.readthedocs.io/en/dev/\n",
    "# Create a new DataFrame column for sentiment \n",
    "\n",
    "df['sentiment'] = df.body.apply(detect_sentiment)"
   ]
  },
  {
   "cell_type": "code",
   "execution_count": 76,
   "metadata": {},
   "outputs": [
    {
     "data": {
      "text/html": [
       "<div>\n",
       "<style scoped>\n",
       "    .dataframe tbody tr th:only-of-type {\n",
       "        vertical-align: middle;\n",
       "    }\n",
       "\n",
       "    .dataframe tbody tr th {\n",
       "        vertical-align: top;\n",
       "    }\n",
       "\n",
       "    .dataframe thead th {\n",
       "        text-align: right;\n",
       "    }\n",
       "</style>\n",
       "<table border=\"1\" class=\"dataframe\">\n",
       "  <thead>\n",
       "    <tr style=\"text-align: right;\">\n",
       "      <th></th>\n",
       "      <th>body</th>\n",
       "      <th>target</th>\n",
       "      <th>sentiment</th>\n",
       "    </tr>\n",
       "  </thead>\n",
       "  <tbody>\n",
       "    <tr>\n",
       "      <th>0</th>\n",
       "      <td>removed</td>\n",
       "      <td>1</td>\n",
       "      <td>0.0</td>\n",
       "    </tr>\n",
       "  </tbody>\n",
       "</table>\n",
       "</div>"
      ],
      "text/plain": [
       "       body  target  sentiment\n",
       "0  removed        1        0.0"
      ]
     },
     "execution_count": 76,
     "metadata": {},
     "output_type": "execute_result"
    }
   ],
   "source": [
    "df.head(1)"
   ]
  },
  {
   "cell_type": "code",
   "execution_count": 77,
   "metadata": {},
   "outputs": [
    {
     "name": "stdout",
     "output_type": "stream",
     "text": [
      "removed   -->  0.0\n"
     ]
    }
   ],
   "source": [
    "print(df[\"body\"].iloc[0], \" --> \", df[\"sentiment\"].iloc[0])"
   ]
  },
  {
   "cell_type": "code",
   "execution_count": 78,
   "metadata": {},
   "outputs": [
    {
     "data": {
      "image/png": "[encoded data removed]",
      "text/plain": [
       "<Figure size 432x288 with 1 Axes>"
      ]
     },
     "metadata": {
      "needs_background": "light"
     },
     "output_type": "display_data"
    }
   ],
   "source": [
    "# elon sentiment histogram\n",
    "df[df['target'] == 1].hist(column='sentiment');"
   ]
  },
  {
   "cell_type": "code",
   "execution_count": 79,
   "metadata": {},
   "outputs": [
    {
     "data": {
      "image/png": "[encoded data removed]",
      "text/plain": [
       "<Figure size 432x288 with 1 Axes>"
      ]
     },
     "metadata": {
      "needs_background": "light"
     },
     "output_type": "display_data"
    }
   ],
   "source": [
    "# Elon sentiment histogram\n",
    "elon = df[df['target'] == 1]\n",
    "plt.hist(elon['sentiment'])\n",
    "plt.title('Elon sentiment');"
   ]
  },
  {
   "cell_type": "code",
   "execution_count": 80,
   "metadata": {},
   "outputs": [
    {
     "data": {
      "image/png": "[encoded data removed]",
      "text/plain": [
       "<Figure size 432x288 with 1 Axes>"
      ]
     },
     "metadata": {
      "needs_background": "light"
     },
     "output_type": "display_data"
    }
   ],
   "source": [
    "# Future sentiment histogram\n",
    "future = df[df['target'] == 0]\n",
    "plt.hist(future['sentiment'])\n",
    "plt.title('Future sentiment');"
   ]
  },
  {
   "cell_type": "code",
   "execution_count": 81,
   "metadata": {},
   "outputs": [
    {
     "data": {
      "image/png": "[encoded data removed]",
      "text/plain": [
       "<Figure size 432x288 with 1 Axes>"
      ]
     },
     "metadata": {
      "needs_background": "light"
     },
     "output_type": "display_data"
    }
   ],
   "source": [
    "# future sentiment histogram\n",
    "df[df['target'] == 0].hist(column='sentiment');"
   ]
  },
  {
   "cell_type": "code",
   "execution_count": 82,
   "metadata": {},
   "outputs": [
    {
     "data": {
      "image/png": "[encoded data removed]",
      "text/plain": [
       "<Figure size 432x288 with 1 Axes>"
      ]
     },
     "metadata": {
      "needs_background": "light"
     },
     "output_type": "display_data"
    }
   ],
   "source": [
    "df.boxplot(column='sentiment', by='target');"
   ]
  },
  {
   "cell_type": "code",
   "execution_count": 83,
   "metadata": {},
   "outputs": [
    {
     "name": "stdout",
     "output_type": "stream",
     "text": [
      "Elon mean sentiment: 0.08282271723119758\n",
      "Future mean sentiment: 0.07870007673671667\n",
      "\n",
      "Elon median sentiment: 0.0\n",
      "Future median sentiment: 0.05624999999999999\n"
     ]
    }
   ],
   "source": [
    "print('Elon mean sentiment:', df[df['target'] == 1].sentiment.mean())\n",
    "print('Future mean sentiment:', df[df['target'] == 0].sentiment.mean())\n",
    "print('')\n",
    "print('Elon median sentiment:', df[df['target'] == 1].sentiment.median())\n",
    "print('Future median sentiment:', df[df['target'] == 0].sentiment.median())"
   ]
  },
  {
   "cell_type": "code",
   "execution_count": 17,
   "metadata": {},
   "outputs": [],
   "source": [
    "df.to_csv('add_sentiment.csv', index=False)"
   ]
  },
  {
   "cell_type": "markdown",
   "metadata": {},
   "source": [
    "#### Expirementing with textblob"
   ]
  },
  {
   "cell_type": "code",
   "execution_count": 84,
   "metadata": {},
   "outputs": [],
   "source": [
    "#code help from https://towardsdatascience.com/my-absolute-go-to-for-sentiment-analysis-textblob-3ac3a11d524\n",
    "\n",
    "text_blob_object = TextBlob('lol they all have live gerontocracy')"
   ]
  },
  {
   "cell_type": "code",
   "execution_count": 85,
   "metadata": {},
   "outputs": [
    {
     "name": "stdout",
     "output_type": "stream",
     "text": [
      "[Sentence(\"lol they all have live gerontocracy\")]\n",
      "1\n"
     ]
    }
   ],
   "source": [
    "#code help from https://towardsdatascience.com/my-absolute-go-to-for-sentiment-analysis-textblob-3ac3a11d524\n",
    "\n",
    "document_sentence = text_blob_object.sentences\n",
    "\n",
    "print(document_sentence)\n",
    "print(len(document_sentence))"
   ]
  },
  {
   "cell_type": "code",
   "execution_count": 86,
   "metadata": {},
   "outputs": [
    {
     "name": "stdout",
     "output_type": "stream",
     "text": [
      "['lol', 'they', 'all', 'have', 'live', 'gerontocracy']\n",
      "6\n"
     ]
    }
   ],
   "source": [
    "#code help from https://towardsdatascience.com/my-absolute-go-to-for-sentiment-analysis-textblob-3ac3a11d524\n",
    "\n",
    "document_words = text_blob_object.words\n",
    "\n",
    "print(document_words)\n",
    "print(len(document_words))"
   ]
  },
  {
   "cell_type": "markdown",
   "metadata": {},
   "source": [
    "### spaCy and GenSim"
   ]
  },
  {
   "cell_type": "code",
   "execution_count": 87,
   "metadata": {},
   "outputs": [],
   "source": [
    "#code help from https://www.dataquest.io/blog/tutorial-text-classification-in-python-using-spacy/\n",
    "import spacy"
   ]
  },
  {
   "cell_type": "code",
   "execution_count": 1,
   "metadata": {},
   "outputs": [],
   "source": [
    "#Cant get the model \"en_core_web_lg\" to work, commenting out but keeping incase I come back to this"
   ]
  },
  {
   "cell_type": "code",
   "execution_count": 89,
   "metadata": {},
   "outputs": [],
   "source": [
    "## call model\n",
    "#ner = spacy.load(\"en_core_web_lg\")\n",
    "## tag text\n",
    "#txt = df[\"body\"].iloc[0]\n",
    "#doc = ner(txt)\n",
    "## display result\n",
    "#spacy.displacy.render(doc, style=\"ent\")"
   ]
  },
  {
   "cell_type": "code",
   "execution_count": null,
   "metadata": {},
   "outputs": [],
   "source": []
  },
  {
   "cell_type": "code",
   "execution_count": 90,
   "metadata": {},
   "outputs": [],
   "source": [
    "#code help from https://www.machinelearningplus.com/nlp/gensim-tutorial/\n",
    "\n",
    "import gensim.downloader as gensim_api"
   ]
  },
  {
   "cell_type": "code",
   "execution_count": 91,
   "metadata": {},
   "outputs": [],
   "source": [
    "nlp = gensim_api.load(\"glove-wiki-gigaword-300\")"
   ]
  },
  {
   "cell_type": "code",
   "execution_count": 92,
   "metadata": {},
   "outputs": [
    {
     "data": {
      "text/plain": [
       "array([ 5.6732e-01,  3.7172e-01, -7.1755e-01, -2.7696e-01, -4.2490e-01,\n",
       "       -2.3132e-01, -2.4973e-01, -8.0251e-01,  2.2343e-02, -1.4905e-01,\n",
       "        2.1906e-01,  1.5724e-01,  5.2333e-01, -4.2956e-03,  3.0360e-01,\n",
       "        8.8224e-01, -1.5783e-01, -1.0697e+00,  1.7511e-02, -3.7927e-01,\n",
       "        7.6088e-01,  2.8916e-01, -2.0405e-01,  2.7459e-01,  7.0138e-01,\n",
       "        1.6498e-02,  1.0507e-01,  2.5980e-01,  4.2311e-01, -3.3175e-01,\n",
       "        2.4077e-01,  2.7404e-02,  6.3209e-02,  3.6149e-01,  3.4251e-01,\n",
       "       -7.0358e-02, -1.6776e-01,  5.0169e-02,  4.8273e-01, -1.3947e-01,\n",
       "        2.4401e-01,  1.5189e-01, -9.6140e-01,  8.9001e-01,  1.7506e-01,\n",
       "        1.1274e-02,  2.5021e-02, -2.6856e-01, -2.9203e-01,  1.1211e-01,\n",
       "        5.0084e-01, -8.4873e-02,  7.2807e-01,  3.9346e-01, -6.5378e-02,\n",
       "       -6.8980e-02,  1.9830e-01, -1.0551e-01,  2.2801e-01, -6.2504e-02,\n",
       "       -4.6082e-01, -3.7523e-02,  7.5292e-01, -5.8066e-01, -1.4573e-01,\n",
       "        3.1654e-01, -6.4370e-01,  1.9541e-01, -4.6504e-01, -8.7120e-02,\n",
       "        3.9863e-01,  3.4296e-01,  2.8129e-01,  3.6973e-01,  1.4889e-01,\n",
       "       -1.0002e-01, -3.2223e-01, -5.2910e-02,  1.4541e-01,  2.0420e-02,\n",
       "       -2.6581e-01, -3.8803e-01,  1.5162e-01,  1.1320e-01, -6.6360e-01,\n",
       "        2.2186e-01,  2.1170e-01, -1.9564e-01,  6.5404e-02, -2.2866e-01,\n",
       "        7.3828e-01, -2.5259e-02,  2.5104e-01,  8.1599e-03,  6.6762e-01,\n",
       "       -4.8945e-01, -1.7540e-01, -2.3608e-01, -2.3363e-01,  2.3763e-01,\n",
       "       -3.1149e-01, -6.6158e-01, -4.2195e-01,  6.7724e-02, -9.2961e-02,\n",
       "       -2.2533e-01,  4.1912e-01, -8.7710e-02, -1.2415e+00, -3.2600e-01,\n",
       "        1.6489e-01,  5.4965e-01, -1.3971e-01, -4.9355e-01,  7.2017e-02,\n",
       "       -3.6760e-02,  2.2547e-01, -1.7003e-01,  8.3862e-01, -8.1538e-02,\n",
       "        2.7614e-01, -2.5125e-01,  5.0902e-01, -3.6516e-01, -9.6221e-02,\n",
       "        4.2353e-01, -1.1415e-01, -1.6097e-01, -4.5927e-01, -3.5344e-02,\n",
       "        3.8647e-01,  2.8468e-02, -1.8813e-01,  5.4085e-01, -3.2774e-02,\n",
       "       -7.7376e-02,  1.8728e-01, -8.4998e-01, -4.6397e-02, -5.6020e-01,\n",
       "        1.9772e-01,  1.3822e-01,  2.8559e-01, -2.5619e-01,  4.2999e-01,\n",
       "       -1.7117e-01, -1.6651e-01, -1.3657e-01, -1.7917e-01,  2.7116e-02,\n",
       "        2.3880e-01,  1.3488e-01,  1.5367e-01, -1.2012e-01, -2.0161e-01,\n",
       "       -2.2451e-01,  3.3827e-01,  6.2494e-01,  2.8470e-01, -8.7315e-02,\n",
       "       -5.1621e-03, -2.6527e-01, -4.6997e-01,  4.9199e-02,  1.3036e-02,\n",
       "        2.5540e-01,  2.8641e-03,  5.6495e-01, -2.3225e-01, -8.1688e-01,\n",
       "        2.4032e-01,  5.2443e-01,  3.3958e-01, -3.2949e-01,  2.4500e-01,\n",
       "       -1.5100e-01, -3.9822e-01, -4.0396e-01,  4.5049e-01,  5.0649e-01,\n",
       "       -1.6783e-01,  2.2389e-01,  8.7405e-02,  9.5793e-01,  3.0146e-01,\n",
       "        9.0629e-02,  2.3386e-01,  2.6762e-02, -2.3033e-01, -3.0427e-01,\n",
       "       -6.7611e-02,  1.3264e-01, -3.6512e-01, -2.8588e-01, -6.9583e-01,\n",
       "        4.4023e-02, -7.5605e-02, -2.6140e-01, -4.4414e-01,  1.5362e-01,\n",
       "       -7.1484e-01,  6.6369e-02,  5.5462e-01,  4.8231e-01, -3.2759e-01,\n",
       "       -1.8664e-04,  1.6362e-01, -1.4746e-01,  4.4356e-01, -1.3985e-01,\n",
       "        6.1993e-01,  3.4220e-01,  1.6570e-01, -5.2351e-01, -2.8382e-01,\n",
       "        5.4798e-01,  4.5718e-03,  9.0024e-01, -7.3973e-01,  1.4604e-01,\n",
       "       -6.0036e-01,  2.0886e-01, -2.7899e-02,  2.2893e-01, -3.4619e-03,\n",
       "        7.6515e-01, -5.0188e-01, -7.1713e-01, -2.5012e-01, -2.6730e-01,\n",
       "       -4.8396e-01,  5.2807e-02,  1.7514e-01,  2.6013e-02, -2.3467e-02,\n",
       "       -3.1068e-01,  3.7393e-01, -5.6694e-01, -2.6257e-01,  3.6967e-01,\n",
       "        4.3921e-01,  3.2065e-02, -5.7741e-01, -5.2153e-01, -1.5172e-01,\n",
       "       -1.8448e-01,  3.8015e-01, -2.3651e-02, -4.0557e-01,  1.5551e-01,\n",
       "       -1.2467e-01,  3.5867e-01, -8.1372e-01, -1.1984e-01, -2.4675e-01,\n",
       "        7.4727e-02,  1.8541e-01,  1.2828e-03,  3.8457e-01, -1.0641e+00,\n",
       "        1.1584e-01,  1.4537e-01,  1.9807e-02,  1.8095e-01,  5.1172e-01,\n",
       "       -8.4862e-02,  4.2655e-01,  1.7980e-01,  1.0716e+00,  3.1262e-01,\n",
       "        1.2311e-01,  3.0050e-01, -1.0521e-01, -1.0083e-01,  5.0855e-01,\n",
       "        4.1518e-01,  3.4381e-02, -7.5457e-01,  1.7817e-01,  1.8297e-01,\n",
       "       -1.2150e-01,  1.5896e-01, -3.4618e-01,  7.1493e-01, -2.2807e-01,\n",
       "       -3.0964e-02, -2.0961e-01,  1.9751e-01, -2.8025e-01, -6.9209e-01,\n",
       "        2.1336e-01, -2.5803e-01,  1.2690e-01,  1.0120e-01,  2.9924e-01,\n",
       "        2.4741e-01,  7.0309e-01,  1.5197e-01,  8.2852e-01,  6.6241e-01],\n",
       "      dtype=float32)"
      ]
     },
     "execution_count": 92,
     "metadata": {},
     "output_type": "execute_result"
    }
   ],
   "source": [
    "word = \"tesla\"\n",
    "nlp[word]"
   ]
  },
  {
   "cell_type": "code",
   "execution_count": 66,
   "metadata": {},
   "outputs": [
    {
     "data": {
      "text/plain": [
       "(300,)"
      ]
     },
     "execution_count": 66,
     "metadata": {},
     "output_type": "execute_result"
    }
   ],
   "source": [
    "nlp['tesla'].shape"
   ]
  },
  {
   "cell_type": "code",
   "execution_count": 69,
   "metadata": {},
   "outputs": [],
   "source": [
    "from sklearn import feature_extraction, manifold"
   ]
  },
  {
   "cell_type": "code",
   "execution_count": 70,
   "metadata": {},
   "outputs": [
    {
     "data": {
      "text/plain": [
       "Text(5, 2, 'tesla')"
      ]
     },
     "execution_count": 70,
     "metadata": {},
     "output_type": "execute_result"
    },
    {
     "data": {
      "image/png": "[encoded data removed]",
      "text/plain": [
       "<Figure size 432x288 with 1 Axes>"
      ]
     },
     "metadata": {
      "needs_background": "light"
     },
     "output_type": "display_data"
    }
   ],
   "source": [
    "## find closest vectors\n",
    "labels, X, x, y = [], [], [], []\n",
    "for t in nlp.most_similar(word, topn=20):\n",
    "    X.append(nlp[t[0]])\n",
    "    labels.append(t[0])\n",
    "## reduce dimensions\n",
    "pca = manifold.TSNE(perplexity=40, n_components=2, init='pca')\n",
    "new_values = pca.fit_transform(X)\n",
    "for value in new_values:\n",
    "    x.append(value[0])\n",
    "    y.append(value[1])\n",
    "## plot\n",
    "fig = plt.figure()\n",
    "for i in range(len(x)):\n",
    "    plt.scatter(x[i], y[i], c=\"black\")\n",
    "    plt.annotate(labels[i], xy=(x[i],y[i]), xytext=(5,2), \n",
    "               textcoords='offset points', ha='right', va='bottom')\n",
    "## add center\n",
    "plt.scatter(x=0, y=0, c=\"red\")\n",
    "plt.annotate(word, xy=(0,0), xytext=(5,2), textcoords='offset points', ha='right', va='bottom')"
   ]
  },
  {
   "cell_type": "code",
   "execution_count": null,
   "metadata": {},
   "outputs": [],
   "source": [
    "#code help https://towardsdatascience.com/natural-language-processing-with-fasttext-part-1-an-intro-to-text-classification-with-fasttext-11b9771722d8"
   ]
  },
  {
   "cell_type": "code",
   "execution_count": null,
   "metadata": {},
   "outputs": [],
   "source": [
    "#Fasttext - USED THIS  IN THE TERMINAL per instructions in above link "
   ]
  },
  {
   "cell_type": "markdown",
   "metadata": {},
   "source": [
    "# Extra Bonus work - time series using quandl  (not used in presentation)"
   ]
  },
  {
   "cell_type": "code",
   "execution_count": 22,
   "metadata": {},
   "outputs": [],
   "source": [
    "#imported module and requested API key from https://www.quandl.com/sign-up\n",
    "\n",
    "import quandl\n",
    "quandl.ApiConfig.api_key = 'hrnnFQXzpxc6KLPGpnK2'"
   ]
  },
  {
   "cell_type": "code",
   "execution_count": 23,
   "metadata": {},
   "outputs": [
    {
     "data": {
      "text/html": [
       "<div>\n",
       "<style scoped>\n",
       "    .dataframe tbody tr th:only-of-type {\n",
       "        vertical-align: middle;\n",
       "    }\n",
       "\n",
       "    .dataframe tbody tr th {\n",
       "        vertical-align: top;\n",
       "    }\n",
       "\n",
       "    .dataframe thead th {\n",
       "        text-align: right;\n",
       "    }\n",
       "</style>\n",
       "<table border=\"1\" class=\"dataframe\">\n",
       "  <thead>\n",
       "    <tr style=\"text-align: right;\">\n",
       "      <th></th>\n",
       "      <th>Open</th>\n",
       "      <th>High</th>\n",
       "      <th>Low</th>\n",
       "      <th>Close</th>\n",
       "      <th>Volume</th>\n",
       "      <th>Ex-Dividend</th>\n",
       "      <th>Split Ratio</th>\n",
       "      <th>Adj. Open</th>\n",
       "      <th>Adj. High</th>\n",
       "      <th>Adj. Low</th>\n",
       "      <th>Adj. Close</th>\n",
       "      <th>Adj. Volume</th>\n",
       "    </tr>\n",
       "    <tr>\n",
       "      <th>Date</th>\n",
       "      <th></th>\n",
       "      <th></th>\n",
       "      <th></th>\n",
       "      <th></th>\n",
       "      <th></th>\n",
       "      <th></th>\n",
       "      <th></th>\n",
       "      <th></th>\n",
       "      <th></th>\n",
       "      <th></th>\n",
       "      <th></th>\n",
       "      <th></th>\n",
       "    </tr>\n",
       "  </thead>\n",
       "  <tbody>\n",
       "    <tr>\n",
       "      <th>2010-06-29</th>\n",
       "      <td>19.00</td>\n",
       "      <td>25.0000</td>\n",
       "      <td>17.54</td>\n",
       "      <td>23.89</td>\n",
       "      <td>18766300.0</td>\n",
       "      <td>0.0</td>\n",
       "      <td>1.0</td>\n",
       "      <td>19.00</td>\n",
       "      <td>25.0000</td>\n",
       "      <td>17.54</td>\n",
       "      <td>23.89</td>\n",
       "      <td>18766300.0</td>\n",
       "    </tr>\n",
       "    <tr>\n",
       "      <th>2010-06-30</th>\n",
       "      <td>25.79</td>\n",
       "      <td>30.4192</td>\n",
       "      <td>23.30</td>\n",
       "      <td>23.83</td>\n",
       "      <td>17187100.0</td>\n",
       "      <td>0.0</td>\n",
       "      <td>1.0</td>\n",
       "      <td>25.79</td>\n",
       "      <td>30.4192</td>\n",
       "      <td>23.30</td>\n",
       "      <td>23.83</td>\n",
       "      <td>17187100.0</td>\n",
       "    </tr>\n",
       "    <tr>\n",
       "      <th>2010-07-01</th>\n",
       "      <td>25.00</td>\n",
       "      <td>25.9200</td>\n",
       "      <td>20.27</td>\n",
       "      <td>21.96</td>\n",
       "      <td>8218800.0</td>\n",
       "      <td>0.0</td>\n",
       "      <td>1.0</td>\n",
       "      <td>25.00</td>\n",
       "      <td>25.9200</td>\n",
       "      <td>20.27</td>\n",
       "      <td>21.96</td>\n",
       "      <td>8218800.0</td>\n",
       "    </tr>\n",
       "    <tr>\n",
       "      <th>2010-07-02</th>\n",
       "      <td>23.00</td>\n",
       "      <td>23.1000</td>\n",
       "      <td>18.71</td>\n",
       "      <td>19.20</td>\n",
       "      <td>5139800.0</td>\n",
       "      <td>0.0</td>\n",
       "      <td>1.0</td>\n",
       "      <td>23.00</td>\n",
       "      <td>23.1000</td>\n",
       "      <td>18.71</td>\n",
       "      <td>19.20</td>\n",
       "      <td>5139800.0</td>\n",
       "    </tr>\n",
       "    <tr>\n",
       "      <th>2010-07-06</th>\n",
       "      <td>20.00</td>\n",
       "      <td>20.0000</td>\n",
       "      <td>15.83</td>\n",
       "      <td>16.11</td>\n",
       "      <td>6866900.0</td>\n",
       "      <td>0.0</td>\n",
       "      <td>1.0</td>\n",
       "      <td>20.00</td>\n",
       "      <td>20.0000</td>\n",
       "      <td>15.83</td>\n",
       "      <td>16.11</td>\n",
       "      <td>6866900.0</td>\n",
       "    </tr>\n",
       "  </tbody>\n",
       "</table>\n",
       "</div>"
      ],
      "text/plain": [
       "             Open     High    Low  Close      Volume  Ex-Dividend  \\\n",
       "Date                                                                \n",
       "2010-06-29  19.00  25.0000  17.54  23.89  18766300.0          0.0   \n",
       "2010-06-30  25.79  30.4192  23.30  23.83  17187100.0          0.0   \n",
       "2010-07-01  25.00  25.9200  20.27  21.96   8218800.0          0.0   \n",
       "2010-07-02  23.00  23.1000  18.71  19.20   5139800.0          0.0   \n",
       "2010-07-06  20.00  20.0000  15.83  16.11   6866900.0          0.0   \n",
       "\n",
       "            Split Ratio  Adj. Open  Adj. High  Adj. Low  Adj. Close  \\\n",
       "Date                                                                  \n",
       "2010-06-29          1.0      19.00    25.0000     17.54       23.89   \n",
       "2010-06-30          1.0      25.79    30.4192     23.30       23.83   \n",
       "2010-07-01          1.0      25.00    25.9200     20.27       21.96   \n",
       "2010-07-02          1.0      23.00    23.1000     18.71       19.20   \n",
       "2010-07-06          1.0      20.00    20.0000     15.83       16.11   \n",
       "\n",
       "            Adj. Volume  \n",
       "Date                     \n",
       "2010-06-29   18766300.0  \n",
       "2010-06-30   17187100.0  \n",
       "2010-07-01    8218800.0  \n",
       "2010-07-02    5139800.0  \n",
       "2010-07-06    6866900.0  "
      ]
     },
     "execution_count": 23,
     "metadata": {},
     "output_type": "execute_result"
    }
   ],
   "source": [
    "tesla = quandl.get('WIKI/TSLA')\n",
    "tesla.head()"
   ]
  },
  {
   "cell_type": "code",
   "execution_count": 24,
   "metadata": {},
   "outputs": [
    {
     "data": {
      "image/png": "[encoded data removed]",
      "text/plain": [
       "<Figure size 432x288 with 1 Axes>"
      ]
     },
     "metadata": {
      "needs_background": "light"
     },
     "output_type": "display_data"
    }
   ],
   "source": [
    "plt.plot(tesla.index, tesla['Adj. Close'], 'r')\n",
    "plt.title('Tesla Stock Price')\n",
    "plt.ylabel('Price ($)');\n",
    "plt.show();"
   ]
  },
  {
   "cell_type": "code",
   "execution_count": 25,
   "metadata": {},
   "outputs": [],
   "source": [
    "# Yearly average number of shares outstanding for Tesla\n",
    "#pulled from quandl.com\n",
    "tesla_shares = {2018: 168e6, 2017: 162e6, 2016: 144e6, 2015: 128e6, 2014: 125e6, 2013: 119e6, 2012: 107e6, 2011: 100e6, 2010: 51e6}"
   ]
  },
  {
   "cell_type": "code",
   "execution_count": 26,
   "metadata": {},
   "outputs": [],
   "source": [
    "# Create a year column \n",
    "tesla['Year'] = tesla.index.year"
   ]
  },
  {
   "cell_type": "code",
   "execution_count": 27,
   "metadata": {},
   "outputs": [],
   "source": [
    "# Take Dates from index and move to Date column \n",
    "tesla.reset_index(level=0, inplace = True)\n",
    "tesla['cap'] = 0"
   ]
  },
  {
   "cell_type": "code",
   "execution_count": 28,
   "metadata": {},
   "outputs": [],
   "source": [
    "import pandas as geek"
   ]
  },
  {
   "cell_type": "code",
   "execution_count": 29,
   "metadata": {},
   "outputs": [],
   "source": [
    "# Calculate market cap for all years\n",
    "for i, year in enumerate(tesla['Year']):\n",
    "    # Retrieve the shares for the year\n",
    "    shares = tesla_shares.get(year)"
   ]
  },
  {
   "cell_type": "code",
   "execution_count": 30,
   "metadata": {},
   "outputs": [],
   "source": [
    "# Update the cap column to shares times the price\n",
    "#ix is deprecated, changed to .loc\n",
    "#creates a \"cap\" column for tesla \n",
    "tesla.loc[i, 'cap'] = shares * tesla.loc[i, 'Adj. Close']"
   ]
  },
  {
   "cell_type": "code",
   "execution_count": 31,
   "metadata": {},
   "outputs": [
    {
     "data": {
      "text/html": [
       "<div>\n",
       "<style scoped>\n",
       "    .dataframe tbody tr th:only-of-type {\n",
       "        vertical-align: middle;\n",
       "    }\n",
       "\n",
       "    .dataframe tbody tr th {\n",
       "        vertical-align: top;\n",
       "    }\n",
       "\n",
       "    .dataframe thead th {\n",
       "        text-align: right;\n",
       "    }\n",
       "</style>\n",
       "<table border=\"1\" class=\"dataframe\">\n",
       "  <thead>\n",
       "    <tr style=\"text-align: right;\">\n",
       "      <th></th>\n",
       "      <th>Date</th>\n",
       "      <th>Open</th>\n",
       "      <th>High</th>\n",
       "      <th>Low</th>\n",
       "      <th>Close</th>\n",
       "      <th>Volume</th>\n",
       "      <th>Ex-Dividend</th>\n",
       "      <th>Split Ratio</th>\n",
       "      <th>Adj. Open</th>\n",
       "      <th>Adj. High</th>\n",
       "      <th>Adj. Low</th>\n",
       "      <th>Adj. Close</th>\n",
       "      <th>Adj. Volume</th>\n",
       "      <th>Year</th>\n",
       "      <th>cap</th>\n",
       "    </tr>\n",
       "  </thead>\n",
       "  <tbody>\n",
       "    <tr>\n",
       "      <th>0</th>\n",
       "      <td>2010-06-29</td>\n",
       "      <td>19.00</td>\n",
       "      <td>25.0000</td>\n",
       "      <td>17.54</td>\n",
       "      <td>23.89</td>\n",
       "      <td>18766300.0</td>\n",
       "      <td>0.0</td>\n",
       "      <td>1.0</td>\n",
       "      <td>19.00</td>\n",
       "      <td>25.0000</td>\n",
       "      <td>17.54</td>\n",
       "      <td>23.89</td>\n",
       "      <td>18766300.0</td>\n",
       "      <td>2010</td>\n",
       "      <td>0.0</td>\n",
       "    </tr>\n",
       "    <tr>\n",
       "      <th>1</th>\n",
       "      <td>2010-06-30</td>\n",
       "      <td>25.79</td>\n",
       "      <td>30.4192</td>\n",
       "      <td>23.30</td>\n",
       "      <td>23.83</td>\n",
       "      <td>17187100.0</td>\n",
       "      <td>0.0</td>\n",
       "      <td>1.0</td>\n",
       "      <td>25.79</td>\n",
       "      <td>30.4192</td>\n",
       "      <td>23.30</td>\n",
       "      <td>23.83</td>\n",
       "      <td>17187100.0</td>\n",
       "      <td>2010</td>\n",
       "      <td>0.0</td>\n",
       "    </tr>\n",
       "    <tr>\n",
       "      <th>2</th>\n",
       "      <td>2010-07-01</td>\n",
       "      <td>25.00</td>\n",
       "      <td>25.9200</td>\n",
       "      <td>20.27</td>\n",
       "      <td>21.96</td>\n",
       "      <td>8218800.0</td>\n",
       "      <td>0.0</td>\n",
       "      <td>1.0</td>\n",
       "      <td>25.00</td>\n",
       "      <td>25.9200</td>\n",
       "      <td>20.27</td>\n",
       "      <td>21.96</td>\n",
       "      <td>8218800.0</td>\n",
       "      <td>2010</td>\n",
       "      <td>0.0</td>\n",
       "    </tr>\n",
       "    <tr>\n",
       "      <th>3</th>\n",
       "      <td>2010-07-02</td>\n",
       "      <td>23.00</td>\n",
       "      <td>23.1000</td>\n",
       "      <td>18.71</td>\n",
       "      <td>19.20</td>\n",
       "      <td>5139800.0</td>\n",
       "      <td>0.0</td>\n",
       "      <td>1.0</td>\n",
       "      <td>23.00</td>\n",
       "      <td>23.1000</td>\n",
       "      <td>18.71</td>\n",
       "      <td>19.20</td>\n",
       "      <td>5139800.0</td>\n",
       "      <td>2010</td>\n",
       "      <td>0.0</td>\n",
       "    </tr>\n",
       "    <tr>\n",
       "      <th>4</th>\n",
       "      <td>2010-07-06</td>\n",
       "      <td>20.00</td>\n",
       "      <td>20.0000</td>\n",
       "      <td>15.83</td>\n",
       "      <td>16.11</td>\n",
       "      <td>6866900.0</td>\n",
       "      <td>0.0</td>\n",
       "      <td>1.0</td>\n",
       "      <td>20.00</td>\n",
       "      <td>20.0000</td>\n",
       "      <td>15.83</td>\n",
       "      <td>16.11</td>\n",
       "      <td>6866900.0</td>\n",
       "      <td>2010</td>\n",
       "      <td>0.0</td>\n",
       "    </tr>\n",
       "  </tbody>\n",
       "</table>\n",
       "</div>"
      ],
      "text/plain": [
       "        Date   Open     High    Low  Close      Volume  Ex-Dividend  \\\n",
       "0 2010-06-29  19.00  25.0000  17.54  23.89  18766300.0          0.0   \n",
       "1 2010-06-30  25.79  30.4192  23.30  23.83  17187100.0          0.0   \n",
       "2 2010-07-01  25.00  25.9200  20.27  21.96   8218800.0          0.0   \n",
       "3 2010-07-02  23.00  23.1000  18.71  19.20   5139800.0          0.0   \n",
       "4 2010-07-06  20.00  20.0000  15.83  16.11   6866900.0          0.0   \n",
       "\n",
       "   Split Ratio  Adj. Open  Adj. High  Adj. Low  Adj. Close  Adj. Volume  Year  \\\n",
       "0          1.0      19.00    25.0000     17.54       23.89   18766300.0  2010   \n",
       "1          1.0      25.79    30.4192     23.30       23.83   17187100.0  2010   \n",
       "2          1.0      25.00    25.9200     20.27       21.96    8218800.0  2010   \n",
       "3          1.0      23.00    23.1000     18.71       19.20    5139800.0  2010   \n",
       "4          1.0      20.00    20.0000     15.83       16.11    6866900.0  2010   \n",
       "\n",
       "   cap  \n",
       "0  0.0  \n",
       "1  0.0  \n",
       "2  0.0  \n",
       "3  0.0  \n",
       "4  0.0  "
      ]
     },
     "execution_count": 31,
     "metadata": {},
     "output_type": "execute_result"
    }
   ],
   "source": [
    "tesla.head()"
   ]
  },
  {
   "cell_type": "code",
   "execution_count": 32,
   "metadata": {},
   "outputs": [],
   "source": [
    "#adding GM details because now I am curious"
   ]
  },
  {
   "cell_type": "code",
   "execution_count": 33,
   "metadata": {},
   "outputs": [
    {
     "data": {
      "text/html": [
       "<div>\n",
       "<style scoped>\n",
       "    .dataframe tbody tr th:only-of-type {\n",
       "        vertical-align: middle;\n",
       "    }\n",
       "\n",
       "    .dataframe tbody tr th {\n",
       "        vertical-align: top;\n",
       "    }\n",
       "\n",
       "    .dataframe thead th {\n",
       "        text-align: right;\n",
       "    }\n",
       "</style>\n",
       "<table border=\"1\" class=\"dataframe\">\n",
       "  <thead>\n",
       "    <tr style=\"text-align: right;\">\n",
       "      <th></th>\n",
       "      <th>Open</th>\n",
       "      <th>High</th>\n",
       "      <th>Low</th>\n",
       "      <th>Close</th>\n",
       "      <th>Volume</th>\n",
       "      <th>Ex-Dividend</th>\n",
       "      <th>Split Ratio</th>\n",
       "      <th>Adj. Open</th>\n",
       "      <th>Adj. High</th>\n",
       "      <th>Adj. Low</th>\n",
       "      <th>Adj. Close</th>\n",
       "      <th>Adj. Volume</th>\n",
       "    </tr>\n",
       "    <tr>\n",
       "      <th>Date</th>\n",
       "      <th></th>\n",
       "      <th></th>\n",
       "      <th></th>\n",
       "      <th></th>\n",
       "      <th></th>\n",
       "      <th></th>\n",
       "      <th></th>\n",
       "      <th></th>\n",
       "      <th></th>\n",
       "      <th></th>\n",
       "      <th></th>\n",
       "      <th></th>\n",
       "    </tr>\n",
       "  </thead>\n",
       "  <tbody>\n",
       "    <tr>\n",
       "      <th>2010-11-18</th>\n",
       "      <td>35.00</td>\n",
       "      <td>35.99</td>\n",
       "      <td>33.89</td>\n",
       "      <td>34.19</td>\n",
       "      <td>457044300.0</td>\n",
       "      <td>0.0</td>\n",
       "      <td>1.0</td>\n",
       "      <td>29.988317</td>\n",
       "      <td>30.836558</td>\n",
       "      <td>29.037259</td>\n",
       "      <td>29.294302</td>\n",
       "      <td>457044300.0</td>\n",
       "    </tr>\n",
       "    <tr>\n",
       "      <th>2010-11-19</th>\n",
       "      <td>34.15</td>\n",
       "      <td>34.50</td>\n",
       "      <td>33.11</td>\n",
       "      <td>34.26</td>\n",
       "      <td>107842000.0</td>\n",
       "      <td>0.0</td>\n",
       "      <td>1.0</td>\n",
       "      <td>29.260029</td>\n",
       "      <td>29.559912</td>\n",
       "      <td>28.368948</td>\n",
       "      <td>29.354278</td>\n",
       "      <td>107842000.0</td>\n",
       "    </tr>\n",
       "    <tr>\n",
       "      <th>2010-11-22</th>\n",
       "      <td>34.20</td>\n",
       "      <td>34.48</td>\n",
       "      <td>33.81</td>\n",
       "      <td>34.08</td>\n",
       "      <td>36650600.0</td>\n",
       "      <td>0.0</td>\n",
       "      <td>1.0</td>\n",
       "      <td>29.302870</td>\n",
       "      <td>29.542776</td>\n",
       "      <td>28.968714</td>\n",
       "      <td>29.200053</td>\n",
       "      <td>36650600.0</td>\n",
       "    </tr>\n",
       "    <tr>\n",
       "      <th>2010-11-23</th>\n",
       "      <td>33.95</td>\n",
       "      <td>33.99</td>\n",
       "      <td>33.19</td>\n",
       "      <td>33.25</td>\n",
       "      <td>31170200.0</td>\n",
       "      <td>0.0</td>\n",
       "      <td>1.0</td>\n",
       "      <td>29.088668</td>\n",
       "      <td>29.122940</td>\n",
       "      <td>28.437493</td>\n",
       "      <td>28.488901</td>\n",
       "      <td>31170200.0</td>\n",
       "    </tr>\n",
       "    <tr>\n",
       "      <th>2010-11-24</th>\n",
       "      <td>33.73</td>\n",
       "      <td>33.80</td>\n",
       "      <td>33.22</td>\n",
       "      <td>33.48</td>\n",
       "      <td>26138000.0</td>\n",
       "      <td>0.0</td>\n",
       "      <td>1.0</td>\n",
       "      <td>28.900170</td>\n",
       "      <td>28.960146</td>\n",
       "      <td>28.463197</td>\n",
       "      <td>28.685967</td>\n",
       "      <td>26138000.0</td>\n",
       "    </tr>\n",
       "  </tbody>\n",
       "</table>\n",
       "</div>"
      ],
      "text/plain": [
       "             Open   High    Low  Close       Volume  Ex-Dividend  Split Ratio  \\\n",
       "Date                                                                            \n",
       "2010-11-18  35.00  35.99  33.89  34.19  457044300.0          0.0          1.0   \n",
       "2010-11-19  34.15  34.50  33.11  34.26  107842000.0          0.0          1.0   \n",
       "2010-11-22  34.20  34.48  33.81  34.08   36650600.0          0.0          1.0   \n",
       "2010-11-23  33.95  33.99  33.19  33.25   31170200.0          0.0          1.0   \n",
       "2010-11-24  33.73  33.80  33.22  33.48   26138000.0          0.0          1.0   \n",
       "\n",
       "            Adj. Open  Adj. High   Adj. Low  Adj. Close  Adj. Volume  \n",
       "Date                                                                  \n",
       "2010-11-18  29.988317  30.836558  29.037259   29.294302  457044300.0  \n",
       "2010-11-19  29.260029  29.559912  28.368948   29.354278  107842000.0  \n",
       "2010-11-22  29.302870  29.542776  28.968714   29.200053   36650600.0  \n",
       "2010-11-23  29.088668  29.122940  28.437493   28.488901   31170200.0  \n",
       "2010-11-24  28.900170  28.960146  28.463197   28.685967   26138000.0  "
      ]
     },
     "execution_count": 33,
     "metadata": {},
     "output_type": "execute_result"
    }
   ],
   "source": [
    "# Retrieve the GM data from Quandl\n",
    "gm = quandl.get('WIKI/GM')\n",
    "gm.head(5)"
   ]
  },
  {
   "cell_type": "code",
   "execution_count": 34,
   "metadata": {},
   "outputs": [
    {
     "data": {
      "image/png": "[encoded data removed]",
      "text/plain": [
       "<Figure size 432x288 with 1 Axes>"
      ]
     },
     "metadata": {
      "needs_background": "light"
     },
     "output_type": "display_data"
    },
    {
     "data": {
      "image/png": "[encoded data removed]",
      "text/plain": [
       "<Figure size 432x288 with 1 Axes>"
      ]
     },
     "metadata": {
      "needs_background": "light"
     },
     "output_type": "display_data"
    }
   ],
   "source": [
    "# The adjusted close accounts for stock splits, so that is what we should graph\n",
    "plt.plot(gm.index, gm['Adj. Close'])\n",
    "plt.title('GM Stock Price')\n",
    "plt.ylabel('Price ($)');\n",
    "plt.show()\n",
    "plt.plot(tesla.index, tesla['Adj. Close'], 'r')\n",
    "plt.title('Tesla Stock Price')\n",
    "plt.ylabel('Price ($)');\n",
    "plt.show();"
   ]
  },
  {
   "cell_type": "code",
   "execution_count": 35,
   "metadata": {},
   "outputs": [],
   "source": [
    "#pulled from quandl.com\n",
    "gm_shares = {2018: 1.42e9, \n",
    "             2017: 1.50e9, 2016: 1.54e9, 2015: 1.59e9, 2014: 1.61e9, 2013: 1.39e9, 2012: 1.57e9, 2011: 1.54e9, 2010:1.50e9}"
   ]
  },
  {
   "cell_type": "code",
   "execution_count": 36,
   "metadata": {},
   "outputs": [],
   "source": [
    "#help for this code comes from \n",
    "# Merge the two datasets and rename the columns\n",
    "cars = gm.merge(tesla, how='inner', on='Date')"
   ]
  },
  {
   "cell_type": "code",
   "execution_count": 37,
   "metadata": {},
   "outputs": [
    {
     "name": "stdout",
     "output_type": "stream",
     "text": [
      "['Adj. Close_x', 'Adj. Close_y', 'Adj. High_x', 'Adj. High_y', 'Adj. Low_x', 'Adj. Low_y', 'Adj. Open_x', 'Adj. Open_y', 'Adj. Volume_x', 'Adj. Volume_y', 'Close_x', 'Close_y', 'Date', 'Ex-Dividend_x', 'Ex-Dividend_y', 'High_x', 'High_y', 'Low_x', 'Low_y', 'Open_x', 'Open_y', 'Split Ratio_x', 'Split Ratio_y', 'Volume_x', 'Volume_y', 'Year', 'cap']\n"
     ]
    }
   ],
   "source": [
    "print(sorted(cars.columns))"
   ]
  },
  {
   "cell_type": "code",
   "execution_count": 38,
   "metadata": {},
   "outputs": [],
   "source": [
    "#cars.rename(columns={'cap_x': 'gm_cap', 'cap_y': 'tesla_cap'}, inplace=True)"
   ]
  },
  {
   "cell_type": "code",
   "execution_count": 39,
   "metadata": {},
   "outputs": [
    {
     "data": {
      "text/plain": [
       "Index(['Open', 'High', 'Low', 'Close', 'Volume', 'Ex-Dividend', 'Split Ratio',\n",
       "       'Adj. Open', 'Adj. High', 'Adj. Low', 'Adj. Close', 'Adj. Volume'],\n",
       "      dtype='object')"
      ]
     },
     "execution_count": 39,
     "metadata": {},
     "output_type": "execute_result"
    }
   ],
   "source": [
    "gm.columns"
   ]
  },
  {
   "cell_type": "code",
   "execution_count": 40,
   "metadata": {},
   "outputs": [
    {
     "data": {
      "text/plain": [
       "Index(['Date', 'Open', 'High', 'Low', 'Close', 'Volume', 'Ex-Dividend',\n",
       "       'Split Ratio', 'Adj. Open', 'Adj. High', 'Adj. Low', 'Adj. Close',\n",
       "       'Adj. Volume', 'Year', 'cap'],\n",
       "      dtype='object')"
      ]
     },
     "execution_count": 40,
     "metadata": {},
     "output_type": "execute_result"
    }
   ],
   "source": [
    "tesla.columns"
   ]
  },
  {
   "cell_type": "code",
   "execution_count": 41,
   "metadata": {},
   "outputs": [],
   "source": [
    "# Select only the relevant columns\n",
    "#cars = cars[['Date', 'gm_cap', 'tesla_cap']]\n",
    "\n",
    "# Divide to get market cap in billions of dollars\n",
    "#cars['gm_cap'] = cars['gm_cap'] / 1e9\n",
    "#cars['tesla_cap'] = cars['tesla_cap'] / 1e9\n",
    "#cars.head()"
   ]
  },
  {
   "cell_type": "code",
   "execution_count": null,
   "metadata": {},
   "outputs": [],
   "source": []
  }
 ],
 "metadata": {
  "kernelspec": {
   "display_name": "Python 3",
   "language": "python",
   "name": "python3"
  },
  "language_info": {
   "codemirror_mode": {
    "name": "ipython",
    "version": 3
   },
   "file_extension": ".py",
   "mimetype": "text/x-python",
   "name": "python",
   "nbconvert_exporter": "python",
   "pygments_lexer": "ipython3",
   "version": "3.7.6"
  }
 },
 "nbformat": 4,
 "nbformat_minor": 4
}
