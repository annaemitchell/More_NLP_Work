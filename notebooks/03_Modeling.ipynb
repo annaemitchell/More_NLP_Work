{
 "cells": [
  {
   "cell_type": "code",
   "execution_count": 433,
   "metadata": {},
   "outputs": [],
   "source": [
    "import numpy as np\n",
    "import pandas as pd\n",
    "import matplotlib.pyplot as plt\n",
    "import seaborn as sns\n",
    "from sklearn.feature_extraction.text import CountVectorizer, TfidfVectorizer\n",
    "from sklearn.pipeline import Pipeline\n",
    "from sklearn.linear_model import LogisticRegression\n",
    "from sklearn.naive_bayes import MultinomialNB\n",
    "from sklearn.model_selection import train_test_split, GridSearchCV\n",
    "from sklearn.ensemble import RandomForestClassifier, GradientBoostingClassifier, AdaBoostClassifier, VotingClassifier\n",
    "from sklearn import metrics\n",
    "\n",
    "\n",
    "%matplotlib inline"
   ]
  },
  {
   "cell_type": "code",
   "execution_count": 434,
   "metadata": {},
   "outputs": [],
   "source": [
    "import warnings\n",
    "warnings.filterwarnings(\"ignore\")"
   ]
  },
  {
   "cell_type": "code",
   "execution_count": 435,
   "metadata": {},
   "outputs": [
    {
     "data": {
      "text/html": [
       "<div>\n",
       "<style scoped>\n",
       "    .dataframe tbody tr th:only-of-type {\n",
       "        vertical-align: middle;\n",
       "    }\n",
       "\n",
       "    .dataframe tbody tr th {\n",
       "        vertical-align: top;\n",
       "    }\n",
       "\n",
       "    .dataframe thead th {\n",
       "        text-align: right;\n",
       "    }\n",
       "</style>\n",
       "<table border=\"1\" class=\"dataframe\">\n",
       "  <thead>\n",
       "    <tr style=\"text-align: right;\">\n",
       "      <th></th>\n",
       "      <th>body</th>\n",
       "      <th>target</th>\n",
       "    </tr>\n",
       "  </thead>\n",
       "  <tbody>\n",
       "    <tr>\n",
       "      <th>0</th>\n",
       "      <td>removed</td>\n",
       "      <td>1</td>\n",
       "    </tr>\n",
       "    <tr>\n",
       "      <th>1</th>\n",
       "      <td>the name like rex not ash nickname little vide...</td>\n",
       "      <td>1</td>\n",
       "    </tr>\n",
       "    <tr>\n",
       "      <th>2</th>\n",
       "      <td>probably the demand insane</td>\n",
       "      <td>1</td>\n",
       "    </tr>\n",
       "    <tr>\n",
       "      <th>3</th>\n",
       "      <td>these image emanate 2006 2014 and 2020</td>\n",
       "      <td>1</td>\n",
       "    </tr>\n",
       "    <tr>\n",
       "      <th>4</th>\n",
       "      <td>not having all the crazed medium attention act...</td>\n",
       "      <td>1</td>\n",
       "    </tr>\n",
       "  </tbody>\n",
       "</table>\n",
       "</div>"
      ],
      "text/plain": [
       "                                                body  target\n",
       "0                                           removed        1\n",
       "1  the name like rex not ash nickname little vide...       1\n",
       "2                        probably the demand insane        1\n",
       "3            these image emanate 2006 2014 and 2020        1\n",
       "4  not having all the crazed medium attention act...       1"
      ]
     },
     "execution_count": 435,
     "metadata": {},
     "output_type": "execute_result"
    }
   ],
   "source": [
    "# import cleaned comments data from csv\n",
    "df = pd.read_csv('/Users/annamitchell/Desktop/GA_Docs/Projects/NLP_Project_4/datasets/comments_clean.csv')\n",
    "df.head()"
   ]
  },
  {
   "cell_type": "code",
   "execution_count": 436,
   "metadata": {},
   "outputs": [
    {
     "name": "stdout",
     "output_type": "stream",
     "text": [
      "removed   -->  sl\n"
     ]
    }
   ],
   "source": [
    "import langdetect \n",
    "txt = df[\"body\"].iloc[0]\n",
    "print(txt, \" --> \", langdetect.detect(txt))"
   ]
  },
  {
   "cell_type": "code",
   "execution_count": 437,
   "metadata": {},
   "outputs": [
    {
     "data": {
      "text/plain": [
       "(5477, 2)"
      ]
     },
     "execution_count": 437,
     "metadata": {},
     "output_type": "execute_result"
    }
   ],
   "source": [
    "df.shape"
   ]
  },
  {
   "cell_type": "code",
   "execution_count": 438,
   "metadata": {},
   "outputs": [
    {
     "data": {
      "text/plain": [
       "0    3772\n",
       "1    1705\n",
       "Name: target, dtype: int64"
      ]
     },
     "execution_count": 438,
     "metadata": {},
     "output_type": "execute_result"
    }
   ],
   "source": [
    "df['target'].value_counts()"
   ]
  },
  {
   "cell_type": "code",
   "execution_count": 439,
   "metadata": {},
   "outputs": [
    {
     "name": "stdout",
     "output_type": "stream",
     "text": [
      "<class 'pandas.core.frame.DataFrame'>\n",
      "RangeIndex: 5477 entries, 0 to 5476\n",
      "Data columns (total 2 columns):\n",
      " #   Column  Non-Null Count  Dtype \n",
      "---  ------  --------------  ----- \n",
      " 0   body    5477 non-null   object\n",
      " 1   target  5477 non-null   int64 \n",
      "dtypes: int64(1), object(1)\n",
      "memory usage: 85.7+ KB\n"
     ]
    }
   ],
   "source": [
    "df.info()"
   ]
  },
  {
   "cell_type": "code",
   "execution_count": 440,
   "metadata": {},
   "outputs": [],
   "source": [
    "# Sent & word tokenizer\n",
    "from nltk.tokenize import sent_tokenize, word_tokenize"
   ]
  },
  {
   "cell_type": "code",
   "execution_count": 441,
   "metadata": {},
   "outputs": [
    {
     "data": {
      "text/html": [
       "<div>\n",
       "<style scoped>\n",
       "    .dataframe tbody tr th:only-of-type {\n",
       "        vertical-align: middle;\n",
       "    }\n",
       "\n",
       "    .dataframe tbody tr th {\n",
       "        vertical-align: top;\n",
       "    }\n",
       "\n",
       "    .dataframe thead th {\n",
       "        text-align: right;\n",
       "    }\n",
       "</style>\n",
       "<table border=\"1\" class=\"dataframe\">\n",
       "  <thead>\n",
       "    <tr style=\"text-align: right;\">\n",
       "      <th></th>\n",
       "      <th>body</th>\n",
       "      <th>target</th>\n",
       "    </tr>\n",
       "  </thead>\n",
       "  <tbody>\n",
       "    <tr>\n",
       "      <th>0</th>\n",
       "      <td>removed</td>\n",
       "      <td>1</td>\n",
       "    </tr>\n",
       "    <tr>\n",
       "      <th>1</th>\n",
       "      <td>the name like rex not ash nickname little vide...</td>\n",
       "      <td>1</td>\n",
       "    </tr>\n",
       "    <tr>\n",
       "      <th>2</th>\n",
       "      <td>probably the demand insane</td>\n",
       "      <td>1</td>\n",
       "    </tr>\n",
       "    <tr>\n",
       "      <th>3</th>\n",
       "      <td>these image emanate 2006 2014 and 2020</td>\n",
       "      <td>1</td>\n",
       "    </tr>\n",
       "    <tr>\n",
       "      <th>4</th>\n",
       "      <td>not having all the crazed medium attention act...</td>\n",
       "      <td>1</td>\n",
       "    </tr>\n",
       "    <tr>\n",
       "      <th>5</th>\n",
       "      <td>lame</td>\n",
       "      <td>1</td>\n",
       "    </tr>\n",
       "    <tr>\n",
       "      <th>6</th>\n",
       "      <td>look like bought some hair</td>\n",
       "      <td>1</td>\n",
       "    </tr>\n",
       "    <tr>\n",
       "      <th>7</th>\n",
       "      <td>itt most people think take this shit</td>\n",
       "      <td>1</td>\n",
       "    </tr>\n",
       "    <tr>\n",
       "      <th>8</th>\n",
       "      <td>dude whoa feel out the loop when did the last ...</td>\n",
       "      <td>1</td>\n",
       "    </tr>\n",
       "    <tr>\n",
       "      <th>9</th>\n",
       "      <td>would say most like howard hughes robert house</td>\n",
       "      <td>1</td>\n",
       "    </tr>\n",
       "  </tbody>\n",
       "</table>\n",
       "</div>"
      ],
      "text/plain": [
       "                                                body  target\n",
       "0                                           removed        1\n",
       "1  the name like rex not ash nickname little vide...       1\n",
       "2                        probably the demand insane        1\n",
       "3            these image emanate 2006 2014 and 2020        1\n",
       "4  not having all the crazed medium attention act...       1\n",
       "5                                              lame        1\n",
       "6                        look like bought some hair        1\n",
       "7              itt most people think take this shit        1\n",
       "8  dude whoa feel out the loop when did the last ...       1\n",
       "9    would say most like howard hughes robert house        1"
      ]
     },
     "execution_count": 441,
     "metadata": {},
     "output_type": "execute_result"
    }
   ],
   "source": [
    "df.head(10)"
   ]
  },
  {
   "cell_type": "markdown",
   "metadata": {},
   "source": [
    "#### Setting up X and y"
   ]
  },
  {
   "cell_type": "code",
   "execution_count": 442,
   "metadata": {},
   "outputs": [
    {
     "data": {
      "text/plain": [
       "0    0.688698\n",
       "1    0.311302\n",
       "Name: target, dtype: float64"
      ]
     },
     "execution_count": 442,
     "metadata": {},
     "output_type": "execute_result"
    }
   ],
   "source": [
    "X = df['body']\n",
    "y = df['target']\n",
    "\n",
    "y.value_counts(normalize=True)"
   ]
  },
  {
   "cell_type": "code",
   "execution_count": 443,
   "metadata": {},
   "outputs": [
    {
     "data": {
      "text/html": [
       "<div>\n",
       "<style scoped>\n",
       "    .dataframe tbody tr th:only-of-type {\n",
       "        vertical-align: middle;\n",
       "    }\n",
       "\n",
       "    .dataframe tbody tr th {\n",
       "        vertical-align: top;\n",
       "    }\n",
       "\n",
       "    .dataframe thead th {\n",
       "        text-align: right;\n",
       "    }\n",
       "</style>\n",
       "<table border=\"1\" class=\"dataframe\">\n",
       "  <thead>\n",
       "    <tr style=\"text-align: right;\">\n",
       "      <th></th>\n",
       "      <th>body</th>\n",
       "      <th>target</th>\n",
       "    </tr>\n",
       "  </thead>\n",
       "  <tbody>\n",
       "    <tr>\n",
       "      <th>0</th>\n",
       "      <td>removed</td>\n",
       "      <td>1</td>\n",
       "    </tr>\n",
       "  </tbody>\n",
       "</table>\n",
       "</div>"
      ],
      "text/plain": [
       "       body  target\n",
       "0  removed        1"
      ]
     },
     "execution_count": 443,
     "metadata": {},
     "output_type": "execute_result"
    }
   ],
   "source": [
    "df.head(1)"
   ]
  },
  {
   "cell_type": "code",
   "execution_count": 444,
   "metadata": {},
   "outputs": [],
   "source": [
    "#df.drop(df.columns[2], axis=1, inplace=True)"
   ]
  },
  {
   "cell_type": "code",
   "execution_count": 445,
   "metadata": {},
   "outputs": [
    {
     "data": {
      "text/html": [
       "<div>\n",
       "<style scoped>\n",
       "    .dataframe tbody tr th:only-of-type {\n",
       "        vertical-align: middle;\n",
       "    }\n",
       "\n",
       "    .dataframe tbody tr th {\n",
       "        vertical-align: top;\n",
       "    }\n",
       "\n",
       "    .dataframe thead th {\n",
       "        text-align: right;\n",
       "    }\n",
       "</style>\n",
       "<table border=\"1\" class=\"dataframe\">\n",
       "  <thead>\n",
       "    <tr style=\"text-align: right;\">\n",
       "      <th></th>\n",
       "      <th>body</th>\n",
       "      <th>target</th>\n",
       "    </tr>\n",
       "  </thead>\n",
       "  <tbody>\n",
       "    <tr>\n",
       "      <th>0</th>\n",
       "      <td>removed</td>\n",
       "      <td>1</td>\n",
       "    </tr>\n",
       "  </tbody>\n",
       "</table>\n",
       "</div>"
      ],
      "text/plain": [
       "       body  target\n",
       "0  removed        1"
      ]
     },
     "execution_count": 445,
     "metadata": {},
     "output_type": "execute_result"
    }
   ],
   "source": [
    "df.head(1)"
   ]
  },
  {
   "cell_type": "code",
   "execution_count": 446,
   "metadata": {},
   "outputs": [
    {
     "data": {
      "image/png": "[encoded data removed]",
      "text/plain": [
       "<Figure size 432x288 with 1 Axes>"
      ]
     },
     "metadata": {
      "needs_background": "light"
     },
     "output_type": "display_data"
    }
   ],
   "source": [
    "x = \"target\"\n",
    "fig, ax = plt.subplots()\n",
    "fig.suptitle(x, fontsize=12)\n",
    "df[x].reset_index().groupby(x).count().sort_values(by= \n",
    "       \"index\").plot(kind=\"barh\", legend=False, \n",
    "        ax=ax).grid(axis='x')\n",
    "plt.show()"
   ]
  },
  {
   "cell_type": "code",
   "execution_count": 447,
   "metadata": {},
   "outputs": [],
   "source": [
    "# Split the data into the training and testing sets.\n",
    "X_train, X_test, y_train, y_test = train_test_split(X, y,\n",
    "                                                    random_state=42)"
   ]
  },
  {
   "cell_type": "code",
   "execution_count": 448,
   "metadata": {},
   "outputs": [
    {
     "data": {
      "text/plain": [
       "((4107,), (1370,), (4107,), (1370,))"
      ]
     },
     "execution_count": 448,
     "metadata": {},
     "output_type": "execute_result"
    }
   ],
   "source": [
    "X_train.shape, X_test.shape, y_train.shape, y_test.shape"
   ]
  },
  {
   "cell_type": "markdown",
   "metadata": {},
   "source": [
    "#### Edit Stop Words"
   ]
  },
  {
   "cell_type": "code",
   "execution_count": 449,
   "metadata": {},
   "outputs": [],
   "source": [
    "from sklearn.feature_extraction import text\n",
    "\n",
    "text.ENGLISH_STOP_WORDS\n",
    "\n",
    "add_stop_words = ['did', 'doe', 'don', 'doesn', 'getting', 'going', 'got', 'ha', 'isn', 'wa']\n",
    "\n",
    "stop_words = text.ENGLISH_STOP_WORDS.union(add_stop_words)"
   ]
  },
  {
   "cell_type": "markdown",
   "metadata": {},
   "source": [
    "#### Preprocessing"
   ]
  },
  {
   "cell_type": "code",
   "execution_count": 450,
   "metadata": {},
   "outputs": [],
   "source": [
    "# ---->>> getting errors on my fit call in my Count Vectorizer so I am commenting this out but leaving in case "
   ]
  },
  {
   "cell_type": "code",
   "execution_count": 451,
   "metadata": {},
   "outputs": [],
   "source": [
    "# Instantiate a CountVectorizer with the default hyperparameters.\n",
    "#cvec = CountVectorizer()"
   ]
  },
  {
   "cell_type": "code",
   "execution_count": 452,
   "metadata": {},
   "outputs": [],
   "source": [
    "# Fit the vectorizer on our corpus.\n",
    "#cvec.fit(X_train)"
   ]
  },
  {
   "cell_type": "code",
   "execution_count": 453,
   "metadata": {},
   "outputs": [],
   "source": [
    "# Transform the corpus.\n",
    "#X_train = cvec.transform(X_train)"
   ]
  },
  {
   "cell_type": "code",
   "execution_count": 454,
   "metadata": {},
   "outputs": [],
   "source": [
    "# Convert X_train into a DataFrame.\n",
    "\n",
    "#X_train_df = pd.DataFrame(X_train.toarray(),\n",
    "                          #columns=cvec.get_feature_names())\n",
    "#print(X_train_df.shape)\n",
    "#X_train_df.head()"
   ]
  },
  {
   "cell_type": "code",
   "execution_count": 455,
   "metadata": {},
   "outputs": [],
   "source": [
    "# Transform test\n",
    "\n",
    "#X_test = cvec.transform(X_test)\n",
    "#X_test_df = pd.DataFrame(X_test.toarray(),\n",
    "                         #columns=cvec.get_feature_names())\n",
    "\n",
    "#print(X_test_df.shape)\n",
    "#X_test_df.head()"
   ]
  },
  {
   "cell_type": "code",
   "execution_count": 456,
   "metadata": {},
   "outputs": [],
   "source": [
    "import nltk"
   ]
  },
  {
   "cell_type": "code",
   "execution_count": 541,
   "metadata": {},
   "outputs": [
    {
     "name": "stdout",
     "output_type": "stream",
     "text": [
      "--- stemming ---\n",
      "['r', 'e', 'm', 'o', 'v', 'e', 'd', ' ']\n",
      "--- lemmatization ---\n",
      "['r', 'e', 'm', 'o', 'v', 'e', 'd', ' ']\n"
     ]
    }
   ],
   "source": [
    "print(\"--- stemming ---\")\n",
    "ps = nltk.stem.porter.PorterStemmer()\n",
    "print([ps.stem(word) for word in txt])\n",
    "print(\"--- lemmatization ---\")\n",
    "lem = nltk.stem.wordnet.WordNetLemmatizer()\n",
    "print([lem.lemmatize(word) for word in txt])"
   ]
  },
  {
   "cell_type": "code",
   "execution_count": 458,
   "metadata": {},
   "outputs": [
    {
     "data": {
      "text/html": [
       "<div>\n",
       "<style scoped>\n",
       "    .dataframe tbody tr th:only-of-type {\n",
       "        vertical-align: middle;\n",
       "    }\n",
       "\n",
       "    .dataframe tbody tr th {\n",
       "        vertical-align: top;\n",
       "    }\n",
       "\n",
       "    .dataframe thead th {\n",
       "        text-align: right;\n",
       "    }\n",
       "</style>\n",
       "<table border=\"1\" class=\"dataframe\">\n",
       "  <thead>\n",
       "    <tr style=\"text-align: right;\">\n",
       "      <th></th>\n",
       "      <th>body</th>\n",
       "      <th>target</th>\n",
       "      <th>word_count</th>\n",
       "      <th>char_count</th>\n",
       "      <th>sentence_count</th>\n",
       "      <th>avg_word_length</th>\n",
       "      <th>avg_sentence_length</th>\n",
       "    </tr>\n",
       "  </thead>\n",
       "  <tbody>\n",
       "    <tr>\n",
       "      <th>0</th>\n",
       "      <td>removed</td>\n",
       "      <td>1</td>\n",
       "      <td>2</td>\n",
       "      <td>7</td>\n",
       "      <td>1</td>\n",
       "      <td>3.500000</td>\n",
       "      <td>2.0</td>\n",
       "    </tr>\n",
       "    <tr>\n",
       "      <th>1</th>\n",
       "      <td>the name like rex not ash nickname little vide...</td>\n",
       "      <td>1</td>\n",
       "      <td>38</td>\n",
       "      <td>179</td>\n",
       "      <td>1</td>\n",
       "      <td>4.710526</td>\n",
       "      <td>38.0</td>\n",
       "    </tr>\n",
       "    <tr>\n",
       "      <th>2</th>\n",
       "      <td>probably the demand insane</td>\n",
       "      <td>1</td>\n",
       "      <td>5</td>\n",
       "      <td>23</td>\n",
       "      <td>1</td>\n",
       "      <td>4.600000</td>\n",
       "      <td>5.0</td>\n",
       "    </tr>\n",
       "    <tr>\n",
       "      <th>3</th>\n",
       "      <td>these image emanate 2006 2014 and 2020</td>\n",
       "      <td>1</td>\n",
       "      <td>8</td>\n",
       "      <td>32</td>\n",
       "      <td>1</td>\n",
       "      <td>4.000000</td>\n",
       "      <td>8.0</td>\n",
       "    </tr>\n",
       "    <tr>\n",
       "      <th>4</th>\n",
       "      <td>not having all the crazed medium attention act...</td>\n",
       "      <td>1</td>\n",
       "      <td>11</td>\n",
       "      <td>60</td>\n",
       "      <td>1</td>\n",
       "      <td>5.454545</td>\n",
       "      <td>11.0</td>\n",
       "    </tr>\n",
       "  </tbody>\n",
       "</table>\n",
       "</div>"
      ],
      "text/plain": [
       "                                                body  target  word_count  \\\n",
       "0                                           removed        1           2   \n",
       "1  the name like rex not ash nickname little vide...       1          38   \n",
       "2                        probably the demand insane        1           5   \n",
       "3            these image emanate 2006 2014 and 2020        1           8   \n",
       "4  not having all the crazed medium attention act...       1          11   \n",
       "\n",
       "   char_count  sentence_count  avg_word_length  avg_sentence_length  \n",
       "0           7               1         3.500000                  2.0  \n",
       "1         179               1         4.710526                 38.0  \n",
       "2          23               1         4.600000                  5.0  \n",
       "3          32               1         4.000000                  8.0  \n",
       "4          60               1         5.454545                 11.0  "
      ]
     },
     "execution_count": 458,
     "metadata": {},
     "output_type": "execute_result"
    }
   ],
   "source": [
    "df['word_count'] = df[\"body\"].apply(lambda x: len(str(x).split(\" \")))\n",
    "df['char_count'] = df[\"body\"].apply(lambda x: sum(len(word) for word in str(x).split(\" \")))\n",
    "df['sentence_count'] = df[\"body\"].apply(lambda x: len(str(x).split(\".\")))\n",
    "df['avg_word_length'] = df['char_count'] / df['word_count']\n",
    "df['avg_sentence_length'] = df['word_count'] / df['sentence_count']\n",
    "df.head()"
   ]
  },
  {
   "cell_type": "code",
   "execution_count": 459,
   "metadata": {},
   "outputs": [],
   "source": [
    "#df.drop(df.columns[6], axis=1, inplace=True)\n",
    "#df.head(1)"
   ]
  },
  {
   "cell_type": "code",
   "execution_count": 460,
   "metadata": {},
   "outputs": [
    {
     "data": {
      "text/plain": [
       "Text(0.5, 1.0, 'Distribution of Average Word Length')"
      ]
     },
     "execution_count": 460,
     "metadata": {},
     "output_type": "execute_result"
    },
    {
     "data": {
      "image/png": "[encoded data removed]",
      "text/plain": [
       "<Figure size 864x576 with 1 Axes>"
      ]
     },
     "metadata": {
      "needs_background": "light"
     },
     "output_type": "display_data"
    }
   ],
   "source": [
    "plt.figure(figsize = (12, 8))\n",
    "sns.distplot(df.avg_word_length, kde=False)\n",
    "plt.xlabel('Average Word Length', size=14)\n",
    "plt.ylabel('Count', size=14);\n",
    "plt.title('Distribution of Average Word Length', fontsize=36)"
   ]
  },
  {
   "cell_type": "code",
   "execution_count": 461,
   "metadata": {},
   "outputs": [
    {
     "data": {
      "text/plain": [
       "4.587028830431512"
      ]
     },
     "execution_count": 461,
     "metadata": {},
     "output_type": "execute_result"
    }
   ],
   "source": [
    "df[\"avg_word_length\"].mean()"
   ]
  },
  {
   "cell_type": "code",
   "execution_count": 462,
   "metadata": {},
   "outputs": [
    {
     "data": {
      "image/png": "[encoded data removed]",
      "text/plain": [
       "<Figure size 864x576 with 1 Axes>"
      ]
     },
     "metadata": {
      "needs_background": "light"
     },
     "output_type": "display_data"
    }
   ],
   "source": [
    "plt.figure(figsize = (12, 8))\n",
    "sns.distplot(df.avg_sentence_length, kde=False)\n",
    "plt.xlabel('Average Sentence Length', size=14)\n",
    "plt.ylabel('Count', size=14);\n",
    "plt.title('Distribution of Average Sentence Length', fontsize=36);"
   ]
  },
  {
   "cell_type": "code",
   "execution_count": 463,
   "metadata": {},
   "outputs": [
    {
     "data": {
      "text/plain": [
       "33.676465218185136"
      ]
     },
     "execution_count": 463,
     "metadata": {},
     "output_type": "execute_result"
    }
   ],
   "source": [
    "df[\"avg_sentence_length\"].mean()"
   ]
  },
  {
   "cell_type": "markdown",
   "metadata": {},
   "source": [
    "# Part 1: Logistic Regression "
   ]
  },
  {
   "cell_type": "markdown",
   "metadata": {},
   "source": [
    "#### Model 1 - Log Reg, standard stop words "
   ]
  },
  {
   "cell_type": "code",
   "execution_count": 464,
   "metadata": {},
   "outputs": [],
   "source": [
    "# using standard stop words = \"english\"\n",
    "#incorporating a pipeline for tranforming\n",
    "\n",
    "cvec = CountVectorizer(analyzer = \"word\",                        \n",
    "                         tokenizer = None, \n",
    "                         preprocessor = None,\n",
    "                         stop_words = \"english\", \n",
    "                         max_features = 10000)\n",
    "\n",
    "lr = LogisticRegression()\n",
    "\n",
    "pipe = Pipeline([\n",
    "    ('cvec', cvec),\n",
    "    ('lr', lr)\n",
    "])"
   ]
  },
  {
   "cell_type": "code",
   "execution_count": 465,
   "metadata": {},
   "outputs": [
    {
     "name": "stdout",
     "output_type": "stream",
     "text": [
      "There are 10000 features in the model.\n",
      "train score: 0.9581202824446068\n",
      "test score: 0.7846715328467153\n"
     ]
    }
   ],
   "source": [
    "# baseline Logistic model\n",
    "\n",
    "pipe.fit(X_train, y_train)\n",
    "print(\"There are {} features in the model.\".format(len(cvec.get_feature_names())))\n",
    "print('train score:', pipe.score(X_train, y_train))\n",
    "print('test score:', pipe.score(X_test, y_test))"
   ]
  },
  {
   "cell_type": "code",
   "execution_count": 466,
   "metadata": {},
   "outputs": [
    {
     "name": "stdout",
     "output_type": "stream",
     "text": [
      "Logistic Regression Intercept: [0.00022423]\n",
      "Logistic Regression Coefficient: [[ 0.18769812 -0.00772207 -0.00028316 ...  0.20491638 -0.1613094\n",
      "  -0.16065708]]\n"
     ]
    }
   ],
   "source": [
    "print(f'Logistic Regression Intercept: {lr.intercept_}')\n",
    "print(f'Logistic Regression Coefficient: {lr.coef_}')"
   ]
  },
  {
   "cell_type": "code",
   "execution_count": 467,
   "metadata": {},
   "outputs": [
    {
     "data": {
      "text/plain": [
       "0    0.688698\n",
       "1    0.311302\n",
       "Name: target, dtype: float64"
      ]
     },
     "execution_count": 467,
     "metadata": {},
     "output_type": "execute_result"
    }
   ],
   "source": [
    "# What is the accuracy of our baseline model?\n",
    "y.value_counts(normalize=True)"
   ]
  },
  {
   "cell_type": "code",
   "execution_count": 468,
   "metadata": {},
   "outputs": [
    {
     "name": "stdout",
     "output_type": "stream",
     "text": [
      "The baseline accuracy for this model is nan%.\n"
     ]
    }
   ],
   "source": [
    "print(\"The baseline accuracy for this model is {:.2f}%.\".format(\n",
    "    cross_val_score(lr, X_train, y_train).mean()*100))"
   ]
  },
  {
   "cell_type": "markdown",
   "metadata": {},
   "source": [
    "**FEATURE IMPORTANCE** "
   ]
  },
  {
   "cell_type": "code",
   "execution_count": 469,
   "metadata": {},
   "outputs": [
    {
     "data": {
      "text/html": [
       "<div>\n",
       "<style scoped>\n",
       "    .dataframe tbody tr th:only-of-type {\n",
       "        vertical-align: middle;\n",
       "    }\n",
       "\n",
       "    .dataframe tbody tr th {\n",
       "        vertical-align: top;\n",
       "    }\n",
       "\n",
       "    .dataframe thead th {\n",
       "        text-align: right;\n",
       "    }\n",
       "</style>\n",
       "<table border=\"1\" class=\"dataframe\">\n",
       "  <thead>\n",
       "    <tr style=\"text-align: right;\">\n",
       "      <th></th>\n",
       "      <th>coef_</th>\n",
       "      <th>abs_coef</th>\n",
       "    </tr>\n",
       "  </thead>\n",
       "  <tbody>\n",
       "    <tr>\n",
       "      <th>elon</th>\n",
       "      <td>2.105573</td>\n",
       "      <td>2.105573</td>\n",
       "    </tr>\n",
       "    <tr>\n",
       "      <th>mar</th>\n",
       "      <td>1.936468</td>\n",
       "      <td>1.936468</td>\n",
       "    </tr>\n",
       "    <tr>\n",
       "      <th>article</th>\n",
       "      <td>-1.484852</td>\n",
       "      <td>1.484852</td>\n",
       "    </tr>\n",
       "    <tr>\n",
       "      <th>self</th>\n",
       "      <td>-1.454748</td>\n",
       "      <td>1.454748</td>\n",
       "    </tr>\n",
       "    <tr>\n",
       "      <th>meme</th>\n",
       "      <td>1.453297</td>\n",
       "      <td>1.453297</td>\n",
       "    </tr>\n",
       "    <tr>\n",
       "      <th>stock</th>\n",
       "      <td>1.388775</td>\n",
       "      <td>1.388775</td>\n",
       "    </tr>\n",
       "    <tr>\n",
       "      <th>rocket</th>\n",
       "      <td>1.331333</td>\n",
       "      <td>1.331333</td>\n",
       "    </tr>\n",
       "    <tr>\n",
       "      <th>power</th>\n",
       "      <td>-1.330616</td>\n",
       "      <td>1.330616</td>\n",
       "    </tr>\n",
       "    <tr>\n",
       "      <th>hour</th>\n",
       "      <td>1.330210</td>\n",
       "      <td>1.330210</td>\n",
       "    </tr>\n",
       "    <tr>\n",
       "      <th>literally</th>\n",
       "      <td>-1.325280</td>\n",
       "      <td>1.325280</td>\n",
       "    </tr>\n",
       "    <tr>\n",
       "      <th>water</th>\n",
       "      <td>-1.324366</td>\n",
       "      <td>1.324366</td>\n",
       "    </tr>\n",
       "    <tr>\n",
       "      <th>password</th>\n",
       "      <td>1.298299</td>\n",
       "      <td>1.298299</td>\n",
       "    </tr>\n",
       "    <tr>\n",
       "      <th>norway</th>\n",
       "      <td>1.294580</td>\n",
       "      <td>1.294580</td>\n",
       "    </tr>\n",
       "    <tr>\n",
       "      <th>grime</th>\n",
       "      <td>1.287395</td>\n",
       "      <td>1.287395</td>\n",
       "    </tr>\n",
       "    <tr>\n",
       "      <th>bot</th>\n",
       "      <td>1.279083</td>\n",
       "      <td>1.279083</td>\n",
       "    </tr>\n",
       "    <tr>\n",
       "      <th>greatest</th>\n",
       "      <td>1.256050</td>\n",
       "      <td>1.256050</td>\n",
       "    </tr>\n",
       "    <tr>\n",
       "      <th>gif</th>\n",
       "      <td>1.246891</td>\n",
       "      <td>1.246891</td>\n",
       "    </tr>\n",
       "    <tr>\n",
       "      <th>neuralink</th>\n",
       "      <td>1.242132</td>\n",
       "      <td>1.242132</td>\n",
       "    </tr>\n",
       "    <tr>\n",
       "      <th>exist</th>\n",
       "      <td>-1.236697</td>\n",
       "      <td>1.236697</td>\n",
       "    </tr>\n",
       "    <tr>\n",
       "      <th>land</th>\n",
       "      <td>-1.225171</td>\n",
       "      <td>1.225171</td>\n",
       "    </tr>\n",
       "    <tr>\n",
       "      <th>living</th>\n",
       "      <td>-1.218789</td>\n",
       "      <td>1.218789</td>\n",
       "    </tr>\n",
       "    <tr>\n",
       "      <th>school</th>\n",
       "      <td>1.209546</td>\n",
       "      <td>1.209546</td>\n",
       "    </tr>\n",
       "    <tr>\n",
       "      <th>hydrogen</th>\n",
       "      <td>-1.166658</td>\n",
       "      <td>1.166658</td>\n",
       "    </tr>\n",
       "    <tr>\n",
       "      <th>spend</th>\n",
       "      <td>1.159940</td>\n",
       "      <td>1.159940</td>\n",
       "    </tr>\n",
       "    <tr>\n",
       "      <th>assuming</th>\n",
       "      <td>-1.157074</td>\n",
       "      <td>1.157074</td>\n",
       "    </tr>\n",
       "    <tr>\n",
       "      <th>ash</th>\n",
       "      <td>1.154230</td>\n",
       "      <td>1.154230</td>\n",
       "    </tr>\n",
       "    <tr>\n",
       "      <th>gas</th>\n",
       "      <td>-1.140874</td>\n",
       "      <td>1.140874</td>\n",
       "    </tr>\n",
       "    <tr>\n",
       "      <th>absolutely</th>\n",
       "      <td>-1.130238</td>\n",
       "      <td>1.130238</td>\n",
       "    </tr>\n",
       "    <tr>\n",
       "      <th>bmw</th>\n",
       "      <td>1.120600</td>\n",
       "      <td>1.120600</td>\n",
       "    </tr>\n",
       "    <tr>\n",
       "      <th>support</th>\n",
       "      <td>-1.114378</td>\n",
       "      <td>1.114378</td>\n",
       "    </tr>\n",
       "  </tbody>\n",
       "</table>\n",
       "</div>"
      ],
      "text/plain": [
       "               coef_  abs_coef\n",
       "elon        2.105573  2.105573\n",
       "mar         1.936468  1.936468\n",
       "article    -1.484852  1.484852\n",
       "self       -1.454748  1.454748\n",
       "meme        1.453297  1.453297\n",
       "stock       1.388775  1.388775\n",
       "rocket      1.331333  1.331333\n",
       "power      -1.330616  1.330616\n",
       "hour        1.330210  1.330210\n",
       "literally  -1.325280  1.325280\n",
       "water      -1.324366  1.324366\n",
       "password    1.298299  1.298299\n",
       "norway      1.294580  1.294580\n",
       "grime       1.287395  1.287395\n",
       "bot         1.279083  1.279083\n",
       "greatest    1.256050  1.256050\n",
       "gif         1.246891  1.246891\n",
       "neuralink   1.242132  1.242132\n",
       "exist      -1.236697  1.236697\n",
       "land       -1.225171  1.225171\n",
       "living     -1.218789  1.218789\n",
       "school      1.209546  1.209546\n",
       "hydrogen   -1.166658  1.166658\n",
       "spend       1.159940  1.159940\n",
       "assuming   -1.157074  1.157074\n",
       "ash         1.154230  1.154230\n",
       "gas        -1.140874  1.140874\n",
       "absolutely -1.130238  1.130238\n",
       "bmw         1.120600  1.120600\n",
       "support    -1.114378  1.114378"
      ]
     },
     "execution_count": 469,
     "metadata": {},
     "output_type": "execute_result"
    }
   ],
   "source": [
    "lr_feat00 = pd.DataFrame(data=lr.coef_.T, index=cvec.get_feature_names())\n",
    "lr_feat00.columns = ['coef_']\n",
    "lr_feat00['abs_coef'] = np.abs(lr_feat00['coef_'])\n",
    "lr_feat00.sort_values(by='abs_coef', ascending=False).head(30)"
   ]
  },
  {
   "cell_type": "markdown",
   "metadata": {},
   "source": [
    "#### Model 2 - Log Reg, custom stopwords "
   ]
  },
  {
   "cell_type": "code",
   "execution_count": 470,
   "metadata": {},
   "outputs": [],
   "source": [
    "# using additional stop words\n",
    "\n",
    "cvec2 = CountVectorizer(analyzer = \"word\",                        \n",
    "                         tokenizer = None, \n",
    "                         preprocessor = None,\n",
    "                         stop_words = stop_words, \n",
    "                         max_features = 10000)\n",
    "lr2 = LogisticRegression()\n",
    "\n",
    "pipe2 = Pipeline([\n",
    "    ('cvec2', cvec2),\n",
    "    ('lr2', lr2)\n",
    "])"
   ]
  },
  {
   "cell_type": "code",
   "execution_count": 471,
   "metadata": {},
   "outputs": [
    {
     "name": "stdout",
     "output_type": "stream",
     "text": [
      "There are 10000 features in the model.\n",
      "train score: 0.9556854151448746\n",
      "test score: 0.7839416058394161\n"
     ]
    }
   ],
   "source": [
    "# baseline Logistic model # 2\n",
    "\n",
    "pipe2.fit(X_train, y_train)\n",
    "print(\"There are {} features in the model.\".format(len(cvec2.get_feature_names())))\n",
    "print('train score:', pipe2.score(X_train, y_train))\n",
    "print('test score:', pipe2.score(X_test, y_test))"
   ]
  },
  {
   "cell_type": "code",
   "execution_count": 472,
   "metadata": {},
   "outputs": [
    {
     "data": {
      "text/html": [
       "<div>\n",
       "<style scoped>\n",
       "    .dataframe tbody tr th:only-of-type {\n",
       "        vertical-align: middle;\n",
       "    }\n",
       "\n",
       "    .dataframe tbody tr th {\n",
       "        vertical-align: top;\n",
       "    }\n",
       "\n",
       "    .dataframe thead th {\n",
       "        text-align: right;\n",
       "    }\n",
       "</style>\n",
       "<table border=\"1\" class=\"dataframe\">\n",
       "  <thead>\n",
       "    <tr style=\"text-align: right;\">\n",
       "      <th></th>\n",
       "      <th>coef_</th>\n",
       "      <th>abs_coef</th>\n",
       "    </tr>\n",
       "  </thead>\n",
       "  <tbody>\n",
       "    <tr>\n",
       "      <th>elite</th>\n",
       "      <td>2.070460</td>\n",
       "      <td>2.070460</td>\n",
       "    </tr>\n",
       "    <tr>\n",
       "      <th>mansion</th>\n",
       "      <td>1.912937</td>\n",
       "      <td>1.912937</td>\n",
       "    </tr>\n",
       "    <tr>\n",
       "      <th>megastructures</th>\n",
       "      <td>1.483922</td>\n",
       "      <td>1.483922</td>\n",
       "    </tr>\n",
       "    <tr>\n",
       "      <th>article</th>\n",
       "      <td>-1.458497</td>\n",
       "      <td>1.458497</td>\n",
       "    </tr>\n",
       "    <tr>\n",
       "      <th>stockfish</th>\n",
       "      <td>1.429008</td>\n",
       "      <td>1.429008</td>\n",
       "    </tr>\n",
       "    <tr>\n",
       "      <th>selfdrivingcars</th>\n",
       "      <td>-1.423398</td>\n",
       "      <td>1.423398</td>\n",
       "    </tr>\n",
       "    <tr>\n",
       "      <th>powerdrift</th>\n",
       "      <td>-1.347417</td>\n",
       "      <td>1.347417</td>\n",
       "    </tr>\n",
       "    <tr>\n",
       "      <th>hormone</th>\n",
       "      <td>1.328163</td>\n",
       "      <td>1.328163</td>\n",
       "    </tr>\n",
       "    <tr>\n",
       "      <th>rocketjesus</th>\n",
       "      <td>1.325239</td>\n",
       "      <td>1.325239</td>\n",
       "    </tr>\n",
       "    <tr>\n",
       "      <th>nope</th>\n",
       "      <td>1.313137</td>\n",
       "      <td>1.313137</td>\n",
       "    </tr>\n",
       "    <tr>\n",
       "      <th>water</th>\n",
       "      <td>-1.307126</td>\n",
       "      <td>1.307126</td>\n",
       "    </tr>\n",
       "    <tr>\n",
       "      <th>listened</th>\n",
       "      <td>-1.293630</td>\n",
       "      <td>1.293630</td>\n",
       "    </tr>\n",
       "    <tr>\n",
       "      <th>nerd</th>\n",
       "      <td>1.288694</td>\n",
       "      <td>1.288694</td>\n",
       "    </tr>\n",
       "    <tr>\n",
       "      <th>germany</th>\n",
       "      <td>1.287760</td>\n",
       "      <td>1.287760</td>\n",
       "    </tr>\n",
       "    <tr>\n",
       "      <th>bot</th>\n",
       "      <td>1.265281</td>\n",
       "      <td>1.265281</td>\n",
       "    </tr>\n",
       "    <tr>\n",
       "      <th>lady</th>\n",
       "      <td>-1.252152</td>\n",
       "      <td>1.252152</td>\n",
       "    </tr>\n",
       "    <tr>\n",
       "      <th>pas</th>\n",
       "      <td>1.251566</td>\n",
       "      <td>1.251566</td>\n",
       "    </tr>\n",
       "    <tr>\n",
       "      <th>grass</th>\n",
       "      <td>1.240221</td>\n",
       "      <td>1.240221</td>\n",
       "    </tr>\n",
       "    <tr>\n",
       "      <th>green</th>\n",
       "      <td>1.235978</td>\n",
       "      <td>1.235978</td>\n",
       "    </tr>\n",
       "    <tr>\n",
       "      <th>littering</th>\n",
       "      <td>-1.221977</td>\n",
       "      <td>1.221977</td>\n",
       "    </tr>\n",
       "    <tr>\n",
       "      <th>schooling</th>\n",
       "      <td>1.211843</td>\n",
       "      <td>1.211843</td>\n",
       "    </tr>\n",
       "    <tr>\n",
       "      <th>gangsta</th>\n",
       "      <td>-1.186164</td>\n",
       "      <td>1.186164</td>\n",
       "    </tr>\n",
       "    <tr>\n",
       "      <th>exercise</th>\n",
       "      <td>-1.182221</td>\n",
       "      <td>1.182221</td>\n",
       "    </tr>\n",
       "    <tr>\n",
       "      <th>husband</th>\n",
       "      <td>-1.177386</td>\n",
       "      <td>1.177386</td>\n",
       "    </tr>\n",
       "    <tr>\n",
       "      <th>ash</th>\n",
       "      <td>1.176897</td>\n",
       "      <td>1.176897</td>\n",
       "    </tr>\n",
       "    <tr>\n",
       "      <th>assuming</th>\n",
       "      <td>-1.170345</td>\n",
       "      <td>1.170345</td>\n",
       "    </tr>\n",
       "    <tr>\n",
       "      <th>supported</th>\n",
       "      <td>-1.168555</td>\n",
       "      <td>1.168555</td>\n",
       "    </tr>\n",
       "    <tr>\n",
       "      <th>bmw</th>\n",
       "      <td>1.168385</td>\n",
       "      <td>1.168385</td>\n",
       "    </tr>\n",
       "    <tr>\n",
       "      <th>shared</th>\n",
       "      <td>1.141225</td>\n",
       "      <td>1.141225</td>\n",
       "    </tr>\n",
       "    <tr>\n",
       "      <th>initiative</th>\n",
       "      <td>1.130856</td>\n",
       "      <td>1.130856</td>\n",
       "    </tr>\n",
       "  </tbody>\n",
       "</table>\n",
       "</div>"
      ],
      "text/plain": [
       "                    coef_  abs_coef\n",
       "elite            2.070460  2.070460\n",
       "mansion          1.912937  1.912937\n",
       "megastructures   1.483922  1.483922\n",
       "article         -1.458497  1.458497\n",
       "stockfish        1.429008  1.429008\n",
       "selfdrivingcars -1.423398  1.423398\n",
       "powerdrift      -1.347417  1.347417\n",
       "hormone          1.328163  1.328163\n",
       "rocketjesus      1.325239  1.325239\n",
       "nope             1.313137  1.313137\n",
       "water           -1.307126  1.307126\n",
       "listened        -1.293630  1.293630\n",
       "nerd             1.288694  1.288694\n",
       "germany          1.287760  1.287760\n",
       "bot              1.265281  1.265281\n",
       "lady            -1.252152  1.252152\n",
       "pas              1.251566  1.251566\n",
       "grass            1.240221  1.240221\n",
       "green            1.235978  1.235978\n",
       "littering       -1.221977  1.221977\n",
       "schooling        1.211843  1.211843\n",
       "gangsta         -1.186164  1.186164\n",
       "exercise        -1.182221  1.182221\n",
       "husband         -1.177386  1.177386\n",
       "ash              1.176897  1.176897\n",
       "assuming        -1.170345  1.170345\n",
       "supported       -1.168555  1.168555\n",
       "bmw              1.168385  1.168385\n",
       "shared           1.141225  1.141225\n",
       "initiative       1.130856  1.130856"
      ]
     },
     "execution_count": 472,
     "metadata": {},
     "output_type": "execute_result"
    }
   ],
   "source": [
    "lr_feat02 = pd.DataFrame(data=lr2.coef_.T, index=cvec.get_feature_names())\n",
    "lr_feat02.columns = ['coef_']\n",
    "lr_feat02['abs_coef'] = np.abs(lr_feat02['coef_'])\n",
    "lr_feat02.sort_values(by='abs_coef', ascending=False).head(30)"
   ]
  },
  {
   "cell_type": "code",
   "execution_count": 473,
   "metadata": {},
   "outputs": [
    {
     "data": {
      "text/plain": [
       "0    0.688698\n",
       "1    0.311302\n",
       "Name: target, dtype: float64"
      ]
     },
     "execution_count": 473,
     "metadata": {},
     "output_type": "execute_result"
    }
   ],
   "source": [
    "# What is the accuracy of our baseline model?\n",
    "y.value_counts(normalize=True)"
   ]
  },
  {
   "cell_type": "code",
   "execution_count": 474,
   "metadata": {},
   "outputs": [],
   "source": [
    "#print(f'Logistic Regression Intercept: {lr2.intercept_}')\n",
    "#print(f'Logistic Regression Coefficient: {lr2.coef_}')"
   ]
  },
  {
   "cell_type": "code",
   "execution_count": 475,
   "metadata": {},
   "outputs": [
    {
     "data": {
      "text/plain": [
       "0.6672"
      ]
     },
     "execution_count": 475,
     "metadata": {},
     "output_type": "execute_result"
    }
   ],
   "source": [
    "# Evaluate against the baseline.\n",
    "round(y_test.value_counts(normalize=True)[0], 4)"
   ]
  },
  {
   "cell_type": "markdown",
   "metadata": {},
   "source": [
    "#### Model 3 - Log Reg, custom stopwords, n-grams"
   ]
  },
  {
   "cell_type": "code",
   "execution_count": 476,
   "metadata": {},
   "outputs": [],
   "source": [
    "cvec3 = CountVectorizer(analyzer = \"word\", \n",
    "                       tokenizer = None, \n",
    "                       preprocessor = None,\n",
    "                       stop_words = stop_words, \n",
    "                       max_features = 10000, \n",
    "                       ngram_range = (1, 3)\n",
    "                      )\n",
    "\n",
    "lr3 = LogisticRegression()\n",
    "\n",
    "pipe3 = Pipeline([\n",
    "    ('cvec3', cvec3),\n",
    "    ('lr3', lr3)\n",
    "])"
   ]
  },
  {
   "cell_type": "code",
   "execution_count": 477,
   "metadata": {},
   "outputs": [
    {
     "name": "stdout",
     "output_type": "stream",
     "text": [
      "There are 10000 features in the model.\n",
      "train score: 0.9503287070854638\n",
      "test score: 0.789051094890511\n"
     ]
    }
   ],
   "source": [
    "pipe3.fit(X_train, y_train)\n",
    "print(\"There are {} features in the model.\".format(len(cvec3.get_feature_names())))\n",
    "print('train score:', pipe3.score(X_train, y_train))\n",
    "print('test score:', pipe3.score(X_test, y_test))"
   ]
  },
  {
   "cell_type": "code",
   "execution_count": 478,
   "metadata": {},
   "outputs": [
    {
     "data": {
      "text/html": [
       "<div>\n",
       "<style scoped>\n",
       "    .dataframe tbody tr th:only-of-type {\n",
       "        vertical-align: middle;\n",
       "    }\n",
       "\n",
       "    .dataframe tbody tr th {\n",
       "        vertical-align: top;\n",
       "    }\n",
       "\n",
       "    .dataframe thead th {\n",
       "        text-align: right;\n",
       "    }\n",
       "</style>\n",
       "<table border=\"1\" class=\"dataframe\">\n",
       "  <thead>\n",
       "    <tr style=\"text-align: right;\">\n",
       "      <th></th>\n",
       "      <th>coef_</th>\n",
       "      <th>abs_coef</th>\n",
       "    </tr>\n",
       "  </thead>\n",
       "  <tbody>\n",
       "    <tr>\n",
       "      <th>foot ground</th>\n",
       "      <td>2.105573</td>\n",
       "      <td>2.105573</td>\n",
       "    </tr>\n",
       "    <tr>\n",
       "      <th>mainly</th>\n",
       "      <td>1.936468</td>\n",
       "      <td>1.936468</td>\n",
       "    </tr>\n",
       "    <tr>\n",
       "      <th>bus</th>\n",
       "      <td>-1.484852</td>\n",
       "      <td>1.484852</td>\n",
       "    </tr>\n",
       "    <tr>\n",
       "      <th>running</th>\n",
       "      <td>-1.454748</td>\n",
       "      <td>1.454748</td>\n",
       "    </tr>\n",
       "    <tr>\n",
       "      <th>med</th>\n",
       "      <td>1.453297</td>\n",
       "      <td>1.453297</td>\n",
       "    </tr>\n",
       "    <tr>\n",
       "      <th>spam</th>\n",
       "      <td>1.388775</td>\n",
       "      <td>1.388775</td>\n",
       "    </tr>\n",
       "    <tr>\n",
       "      <th>repeal</th>\n",
       "      <td>1.331333</td>\n",
       "      <td>1.331333</td>\n",
       "    </tr>\n",
       "    <tr>\n",
       "      <th>pissing</th>\n",
       "      <td>-1.330616</td>\n",
       "      <td>1.330616</td>\n",
       "    </tr>\n",
       "    <tr>\n",
       "      <th>hydrogen</th>\n",
       "      <td>1.330210</td>\n",
       "      <td>1.330210</td>\n",
       "    </tr>\n",
       "    <tr>\n",
       "      <th>let happen</th>\n",
       "      <td>-1.325280</td>\n",
       "      <td>1.325280</td>\n",
       "    </tr>\n",
       "    <tr>\n",
       "      <th>vessel</th>\n",
       "      <td>-1.324366</td>\n",
       "      <td>1.324366</td>\n",
       "    </tr>\n",
       "    <tr>\n",
       "      <th>pain</th>\n",
       "      <td>1.298299</td>\n",
       "      <td>1.298299</td>\n",
       "    </tr>\n",
       "    <tr>\n",
       "      <th>normal</th>\n",
       "      <td>1.294580</td>\n",
       "      <td>1.294580</td>\n",
       "    </tr>\n",
       "    <tr>\n",
       "      <th>hear</th>\n",
       "      <td>1.287395</td>\n",
       "      <td>1.287395</td>\n",
       "    </tr>\n",
       "    <tr>\n",
       "      <th>communist</th>\n",
       "      <td>1.279083</td>\n",
       "      <td>1.279083</td>\n",
       "    </tr>\n",
       "    <tr>\n",
       "      <th>heal</th>\n",
       "      <td>1.256050</td>\n",
       "      <td>1.256050</td>\n",
       "    </tr>\n",
       "    <tr>\n",
       "      <th>hard</th>\n",
       "      <td>1.246891</td>\n",
       "      <td>1.246891</td>\n",
       "    </tr>\n",
       "    <tr>\n",
       "      <th>new york</th>\n",
       "      <td>1.242132</td>\n",
       "      <td>1.242132</td>\n",
       "    </tr>\n",
       "    <tr>\n",
       "      <th>generation 2020</th>\n",
       "      <td>-1.236697</td>\n",
       "      <td>1.236697</td>\n",
       "    </tr>\n",
       "    <tr>\n",
       "      <th>just bought</th>\n",
       "      <td>-1.225171</td>\n",
       "      <td>1.225171</td>\n",
       "    </tr>\n",
       "    <tr>\n",
       "      <th>libertarian</th>\n",
       "      <td>-1.218789</td>\n",
       "      <td>1.218789</td>\n",
       "    </tr>\n",
       "    <tr>\n",
       "      <th>right track</th>\n",
       "      <td>1.209546</td>\n",
       "      <td>1.209546</td>\n",
       "    </tr>\n",
       "    <tr>\n",
       "      <th>idgaf</th>\n",
       "      <td>-1.166658</td>\n",
       "      <td>1.166658</td>\n",
       "    </tr>\n",
       "    <tr>\n",
       "      <th>smaller</th>\n",
       "      <td>1.159940</td>\n",
       "      <td>1.159940</td>\n",
       "    </tr>\n",
       "    <tr>\n",
       "      <th>california</th>\n",
       "      <td>-1.157074</td>\n",
       "      <td>1.157074</td>\n",
       "    </tr>\n",
       "    <tr>\n",
       "      <th>busy</th>\n",
       "      <td>1.154230</td>\n",
       "      <td>1.154230</td>\n",
       "    </tr>\n",
       "    <tr>\n",
       "      <th>hand big</th>\n",
       "      <td>-1.140874</td>\n",
       "      <td>1.140874</td>\n",
       "    </tr>\n",
       "    <tr>\n",
       "      <th>authoritarian</th>\n",
       "      <td>-1.130238</td>\n",
       "      <td>1.130238</td>\n",
       "    </tr>\n",
       "    <tr>\n",
       "      <th>come day</th>\n",
       "      <td>1.120600</td>\n",
       "      <td>1.120600</td>\n",
       "    </tr>\n",
       "    <tr>\n",
       "      <th>stop burning</th>\n",
       "      <td>-1.114378</td>\n",
       "      <td>1.114378</td>\n",
       "    </tr>\n",
       "    <tr>\n",
       "      <th>losing</th>\n",
       "      <td>-1.110670</td>\n",
       "      <td>1.110670</td>\n",
       "    </tr>\n",
       "    <tr>\n",
       "      <th>say</th>\n",
       "      <td>1.106519</td>\n",
       "      <td>1.106519</td>\n",
       "    </tr>\n",
       "    <tr>\n",
       "      <th>evening</th>\n",
       "      <td>1.103018</td>\n",
       "      <td>1.103018</td>\n",
       "    </tr>\n",
       "    <tr>\n",
       "      <th>held responsible</th>\n",
       "      <td>1.096187</td>\n",
       "      <td>1.096187</td>\n",
       "    </tr>\n",
       "    <tr>\n",
       "      <th>indian</th>\n",
       "      <td>1.091095</td>\n",
       "      <td>1.091095</td>\n",
       "    </tr>\n",
       "    <tr>\n",
       "      <th>obtain</th>\n",
       "      <td>-1.082540</td>\n",
       "      <td>1.082540</td>\n",
       "    </tr>\n",
       "    <tr>\n",
       "      <th>refer</th>\n",
       "      <td>-1.079549</td>\n",
       "      <td>1.079549</td>\n",
       "    </tr>\n",
       "    <tr>\n",
       "      <th>horrible</th>\n",
       "      <td>1.078189</td>\n",
       "      <td>1.078189</td>\n",
       "    </tr>\n",
       "    <tr>\n",
       "      <th>really comparing</th>\n",
       "      <td>-1.070310</td>\n",
       "      <td>1.070310</td>\n",
       "    </tr>\n",
       "    <tr>\n",
       "      <th>concrete</th>\n",
       "      <td>-1.064663</td>\n",
       "      <td>1.064663</td>\n",
       "    </tr>\n",
       "    <tr>\n",
       "      <th>cycle count</th>\n",
       "      <td>-1.063419</td>\n",
       "      <td>1.063419</td>\n",
       "    </tr>\n",
       "    <tr>\n",
       "      <th>hey</th>\n",
       "      <td>1.059330</td>\n",
       "      <td>1.059330</td>\n",
       "    </tr>\n",
       "    <tr>\n",
       "      <th>just people</th>\n",
       "      <td>-1.038437</td>\n",
       "      <td>1.038437</td>\n",
       "    </tr>\n",
       "    <tr>\n",
       "      <th>wearing</th>\n",
       "      <td>-1.024922</td>\n",
       "      <td>1.024922</td>\n",
       "    </tr>\n",
       "    <tr>\n",
       "      <th>handing</th>\n",
       "      <td>1.024478</td>\n",
       "      <td>1.024478</td>\n",
       "    </tr>\n",
       "    <tr>\n",
       "      <th>rethink</th>\n",
       "      <td>1.012624</td>\n",
       "      <td>1.012624</td>\n",
       "    </tr>\n",
       "    <tr>\n",
       "      <th>detected</th>\n",
       "      <td>-1.012282</td>\n",
       "      <td>1.012282</td>\n",
       "    </tr>\n",
       "    <tr>\n",
       "      <th>tinderbox</th>\n",
       "      <td>1.005299</td>\n",
       "      <td>1.005299</td>\n",
       "    </tr>\n",
       "    <tr>\n",
       "      <th>photothermal</th>\n",
       "      <td>-1.000757</td>\n",
       "      <td>1.000757</td>\n",
       "    </tr>\n",
       "    <tr>\n",
       "      <th>fat belly</th>\n",
       "      <td>-0.994123</td>\n",
       "      <td>0.994123</td>\n",
       "    </tr>\n",
       "  </tbody>\n",
       "</table>\n",
       "</div>"
      ],
      "text/plain": [
       "                     coef_  abs_coef\n",
       "foot ground       2.105573  2.105573\n",
       "mainly            1.936468  1.936468\n",
       "bus              -1.484852  1.484852\n",
       "running          -1.454748  1.454748\n",
       "med               1.453297  1.453297\n",
       "spam              1.388775  1.388775\n",
       "repeal            1.331333  1.331333\n",
       "pissing          -1.330616  1.330616\n",
       "hydrogen          1.330210  1.330210\n",
       "let happen       -1.325280  1.325280\n",
       "vessel           -1.324366  1.324366\n",
       "pain              1.298299  1.298299\n",
       "normal            1.294580  1.294580\n",
       "hear              1.287395  1.287395\n",
       "communist         1.279083  1.279083\n",
       "heal              1.256050  1.256050\n",
       "hard              1.246891  1.246891\n",
       "new york          1.242132  1.242132\n",
       "generation 2020  -1.236697  1.236697\n",
       "just bought      -1.225171  1.225171\n",
       "libertarian      -1.218789  1.218789\n",
       "right track       1.209546  1.209546\n",
       "idgaf            -1.166658  1.166658\n",
       "smaller           1.159940  1.159940\n",
       "california       -1.157074  1.157074\n",
       "busy              1.154230  1.154230\n",
       "hand big         -1.140874  1.140874\n",
       "authoritarian    -1.130238  1.130238\n",
       "come day          1.120600  1.120600\n",
       "stop burning     -1.114378  1.114378\n",
       "losing           -1.110670  1.110670\n",
       "say               1.106519  1.106519\n",
       "evening           1.103018  1.103018\n",
       "held responsible  1.096187  1.096187\n",
       "indian            1.091095  1.091095\n",
       "obtain           -1.082540  1.082540\n",
       "refer            -1.079549  1.079549\n",
       "horrible          1.078189  1.078189\n",
       "really comparing -1.070310  1.070310\n",
       "concrete         -1.064663  1.064663\n",
       "cycle count      -1.063419  1.063419\n",
       "hey               1.059330  1.059330\n",
       "just people      -1.038437  1.038437\n",
       "wearing          -1.024922  1.024922\n",
       "handing           1.024478  1.024478\n",
       "rethink           1.012624  1.012624\n",
       "detected         -1.012282  1.012282\n",
       "tinderbox         1.005299  1.005299\n",
       "photothermal     -1.000757  1.000757\n",
       "fat belly        -0.994123  0.994123"
      ]
     },
     "execution_count": 478,
     "metadata": {},
     "output_type": "execute_result"
    }
   ],
   "source": [
    "lr_feat03 = pd.DataFrame(data=lr.coef_.T, index=cvec3.get_feature_names())\n",
    "lr_feat03.columns = ['coef_']\n",
    "lr_feat03['abs_coef'] = np.abs(lr_feat03['coef_'])\n",
    "lr_feat03.sort_values(by='abs_coef', ascending=False).head(50)"
   ]
  },
  {
   "cell_type": "code",
   "execution_count": 479,
   "metadata": {},
   "outputs": [
    {
     "data": {
      "text/html": [
       "<div>\n",
       "<style scoped>\n",
       "    .dataframe tbody tr th:only-of-type {\n",
       "        vertical-align: middle;\n",
       "    }\n",
       "\n",
       "    .dataframe tbody tr th {\n",
       "        vertical-align: top;\n",
       "    }\n",
       "\n",
       "    .dataframe thead th {\n",
       "        text-align: right;\n",
       "    }\n",
       "</style>\n",
       "<table border=\"1\" class=\"dataframe\">\n",
       "  <thead>\n",
       "    <tr style=\"text-align: right;\">\n",
       "      <th></th>\n",
       "      <th>coef_</th>\n",
       "    </tr>\n",
       "  </thead>\n",
       "  <tbody>\n",
       "    <tr>\n",
       "      <th>elon</th>\n",
       "      <td>2.368718</td>\n",
       "    </tr>\n",
       "    <tr>\n",
       "      <th>mar</th>\n",
       "      <td>2.030582</td>\n",
       "    </tr>\n",
       "    <tr>\n",
       "      <th>meme</th>\n",
       "      <td>1.472988</td>\n",
       "    </tr>\n",
       "    <tr>\n",
       "      <th>stock</th>\n",
       "      <td>1.448897</td>\n",
       "    </tr>\n",
       "    <tr>\n",
       "      <th>bot</th>\n",
       "      <td>1.262168</td>\n",
       "    </tr>\n",
       "    <tr>\n",
       "      <th>gif</th>\n",
       "      <td>1.246472</td>\n",
       "    </tr>\n",
       "    <tr>\n",
       "      <th>neuralink</th>\n",
       "      <td>1.242925</td>\n",
       "    </tr>\n",
       "    <tr>\n",
       "      <th>hour</th>\n",
       "      <td>1.212570</td>\n",
       "    </tr>\n",
       "    <tr>\n",
       "      <th>musk</th>\n",
       "      <td>1.198856</td>\n",
       "    </tr>\n",
       "    <tr>\n",
       "      <th>norway</th>\n",
       "      <td>1.192203</td>\n",
       "    </tr>\n",
       "    <tr>\n",
       "      <th>grime</th>\n",
       "      <td>1.169565</td>\n",
       "    </tr>\n",
       "    <tr>\n",
       "      <th>bmw</th>\n",
       "      <td>1.155197</td>\n",
       "    </tr>\n",
       "    <tr>\n",
       "      <th>rocket</th>\n",
       "      <td>1.138923</td>\n",
       "    </tr>\n",
       "    <tr>\n",
       "      <th>ash</th>\n",
       "      <td>1.126105</td>\n",
       "    </tr>\n",
       "    <tr>\n",
       "      <th>innovator</th>\n",
       "      <td>1.099734</td>\n",
       "    </tr>\n",
       "    <tr>\n",
       "      <th>hair</th>\n",
       "      <td>1.072019</td>\n",
       "    </tr>\n",
       "    <tr>\n",
       "      <th>heard</th>\n",
       "      <td>1.048936</td>\n",
       "    </tr>\n",
       "    <tr>\n",
       "      <th>greatest</th>\n",
       "      <td>1.045180</td>\n",
       "    </tr>\n",
       "    <tr>\n",
       "      <th>gen</th>\n",
       "      <td>1.036295</td>\n",
       "    </tr>\n",
       "    <tr>\n",
       "      <th>password</th>\n",
       "      <td>1.030718</td>\n",
       "    </tr>\n",
       "    <tr>\n",
       "      <th>school</th>\n",
       "      <td>1.019725</td>\n",
       "    </tr>\n",
       "    <tr>\n",
       "      <th>spend</th>\n",
       "      <td>1.012199</td>\n",
       "    </tr>\n",
       "    <tr>\n",
       "      <th>hell</th>\n",
       "      <td>1.010122</td>\n",
       "    </tr>\n",
       "    <tr>\n",
       "      <th>didnt</th>\n",
       "      <td>1.008738</td>\n",
       "    </tr>\n",
       "    <tr>\n",
       "      <th>shirt</th>\n",
       "      <td>0.990331</td>\n",
       "    </tr>\n",
       "    <tr>\n",
       "      <th>split</th>\n",
       "      <td>0.975871</td>\n",
       "    </tr>\n",
       "    <tr>\n",
       "      <th>high school</th>\n",
       "      <td>0.966762</td>\n",
       "    </tr>\n",
       "    <tr>\n",
       "      <th>handwriting</th>\n",
       "      <td>0.963111</td>\n",
       "    </tr>\n",
       "    <tr>\n",
       "      <th>letter</th>\n",
       "      <td>0.961190</td>\n",
       "    </tr>\n",
       "    <tr>\n",
       "      <th>figured</th>\n",
       "      <td>0.959214</td>\n",
       "    </tr>\n",
       "  </tbody>\n",
       "</table>\n",
       "</div>"
      ],
      "text/plain": [
       "                coef_\n",
       "elon         2.368718\n",
       "mar          2.030582\n",
       "meme         1.472988\n",
       "stock        1.448897\n",
       "bot          1.262168\n",
       "gif          1.246472\n",
       "neuralink    1.242925\n",
       "hour         1.212570\n",
       "musk         1.198856\n",
       "norway       1.192203\n",
       "grime        1.169565\n",
       "bmw          1.155197\n",
       "rocket       1.138923\n",
       "ash          1.126105\n",
       "innovator    1.099734\n",
       "hair         1.072019\n",
       "heard        1.048936\n",
       "greatest     1.045180\n",
       "gen          1.036295\n",
       "password     1.030718\n",
       "school       1.019725\n",
       "spend        1.012199\n",
       "hell         1.010122\n",
       "didnt        1.008738\n",
       "shirt        0.990331\n",
       "split        0.975871\n",
       "high school  0.966762\n",
       "handwriting  0.963111\n",
       "letter       0.961190\n",
       "figured      0.959214"
      ]
     },
     "execution_count": 479,
     "metadata": {},
     "output_type": "execute_result"
    }
   ],
   "source": [
    "logreg_feat03 = pd.DataFrame(data=lr3.coef_.T, index=cvec3.get_feature_names())\n",
    "logreg_feat03.columns = ['coef_']\n",
    "logreg_feat03.sort_values(by='coef_', ascending=False).head(30)"
   ]
  },
  {
   "cell_type": "markdown",
   "metadata": {},
   "source": [
    "#### Model 4 - Log Reg using tf-idf, custom stop words, n-grams "
   ]
  },
  {
   "cell_type": "code",
   "execution_count": 480,
   "metadata": {},
   "outputs": [
    {
     "name": "stdout",
     "output_type": "stream",
     "text": [
      "There are 10000 features in the model.\n",
      "train score: 0.8463598733869004\n",
      "test score: 0.7700729927007299\n"
     ]
    }
   ],
   "source": [
    "tf = TfidfVectorizer(analyzer = \"word\", \n",
    "                     stop_words = stop_words, \n",
    "                     max_features = 10000, \n",
    "                     ngram_range = (1, 3))\n",
    "\n",
    "lr4 = LogisticRegression()\n",
    "\n",
    "pipe4 = Pipeline([\n",
    "    ('tf', tf),\n",
    "    ('lr4', lr4)\n",
    "])\n",
    "\n",
    "pipe4.fit(X_train, y_train)\n",
    "print(\"There are {} features in the model.\".format(len(tf.get_feature_names())))\n",
    "print('train score:', pipe4.score(X_train, y_train))\n",
    "print('test score:', pipe4.score(X_test, y_test))"
   ]
  },
  {
   "cell_type": "code",
   "execution_count": 481,
   "metadata": {},
   "outputs": [
    {
     "name": "stdout",
     "output_type": "stream",
     "text": [
      "Logistic Regression Intercept: [-0.50562276]\n",
      "Logistic Regression Coefficient: [[-0.25640487 -0.11148296 -0.0242847  ... -0.06054537 -0.06054537\n",
      "   0.07144286]]\n"
     ]
    }
   ],
   "source": [
    "print(f'Logistic Regression Intercept: {lr4.intercept_}')\n",
    "print(f'Logistic Regression Coefficient: {lr4.coef_}')"
   ]
  },
  {
   "cell_type": "code",
   "execution_count": 482,
   "metadata": {},
   "outputs": [
    {
     "data": {
      "text/html": [
       "<div>\n",
       "<style scoped>\n",
       "    .dataframe tbody tr th:only-of-type {\n",
       "        vertical-align: middle;\n",
       "    }\n",
       "\n",
       "    .dataframe tbody tr th {\n",
       "        vertical-align: top;\n",
       "    }\n",
       "\n",
       "    .dataframe thead th {\n",
       "        text-align: right;\n",
       "    }\n",
       "</style>\n",
       "<table border=\"1\" class=\"dataframe\">\n",
       "  <thead>\n",
       "    <tr style=\"text-align: right;\">\n",
       "      <th></th>\n",
       "      <th>coef_</th>\n",
       "      <th>abs_coef</th>\n",
       "    </tr>\n",
       "  </thead>\n",
       "  <tbody>\n",
       "    <tr>\n",
       "      <th>deaf</th>\n",
       "      <td>5.378897</td>\n",
       "      <td>5.378897</td>\n",
       "    </tr>\n",
       "    <tr>\n",
       "      <th>maximize</th>\n",
       "      <td>3.158363</td>\n",
       "      <td>3.158363</td>\n",
       "    </tr>\n",
       "    <tr>\n",
       "      <th>mmsi</th>\n",
       "      <td>2.558394</td>\n",
       "      <td>2.558394</td>\n",
       "    </tr>\n",
       "    <tr>\n",
       "      <th>promote</th>\n",
       "      <td>-2.405181</td>\n",
       "      <td>2.405181</td>\n",
       "    </tr>\n",
       "    <tr>\n",
       "      <th>superimpose</th>\n",
       "      <td>2.056270</td>\n",
       "      <td>2.056270</td>\n",
       "    </tr>\n",
       "    <tr>\n",
       "      <th>whore</th>\n",
       "      <td>-1.937604</td>\n",
       "      <td>1.937604</td>\n",
       "    </tr>\n",
       "    <tr>\n",
       "      <th>yellow</th>\n",
       "      <td>-1.913854</td>\n",
       "      <td>1.913854</td>\n",
       "    </tr>\n",
       "    <tr>\n",
       "      <th>cerpheus27</th>\n",
       "      <td>-1.911301</td>\n",
       "      <td>1.911301</td>\n",
       "    </tr>\n",
       "    <tr>\n",
       "      <th>delighted</th>\n",
       "      <td>-1.884095</td>\n",
       "      <td>1.884095</td>\n",
       "    </tr>\n",
       "    <tr>\n",
       "      <th>nature</th>\n",
       "      <td>1.775707</td>\n",
       "      <td>1.775707</td>\n",
       "    </tr>\n",
       "    <tr>\n",
       "      <th>morally</th>\n",
       "      <td>-1.750682</td>\n",
       "      <td>1.750682</td>\n",
       "    </tr>\n",
       "    <tr>\n",
       "      <th>796</th>\n",
       "      <td>-1.700714</td>\n",
       "      <td>1.700714</td>\n",
       "    </tr>\n",
       "    <tr>\n",
       "      <th>mercantile</th>\n",
       "      <td>1.681061</td>\n",
       "      <td>1.681061</td>\n",
       "    </tr>\n",
       "    <tr>\n",
       "      <th>biofuels</th>\n",
       "      <td>-1.636286</td>\n",
       "      <td>1.636286</td>\n",
       "    </tr>\n",
       "    <tr>\n",
       "      <th>squeegee</th>\n",
       "      <td>-1.627070</td>\n",
       "      <td>1.627070</td>\n",
       "    </tr>\n",
       "    <tr>\n",
       "      <th>outgassing</th>\n",
       "      <td>-1.576345</td>\n",
       "      <td>1.576345</td>\n",
       "    </tr>\n",
       "    <tr>\n",
       "      <th>field</th>\n",
       "      <td>-1.556054</td>\n",
       "      <td>1.556054</td>\n",
       "    </tr>\n",
       "    <tr>\n",
       "      <th>sticking</th>\n",
       "      <td>1.545644</td>\n",
       "      <td>1.545644</td>\n",
       "    </tr>\n",
       "    <tr>\n",
       "      <th>caused</th>\n",
       "      <td>-1.526932</td>\n",
       "      <td>1.526932</td>\n",
       "    </tr>\n",
       "    <tr>\n",
       "      <th>expressed</th>\n",
       "      <td>1.521964</td>\n",
       "      <td>1.521964</td>\n",
       "    </tr>\n",
       "    <tr>\n",
       "      <th>sister</th>\n",
       "      <td>-1.476681</td>\n",
       "      <td>1.476681</td>\n",
       "    </tr>\n",
       "    <tr>\n",
       "      <th>levere</th>\n",
       "      <td>-1.474745</td>\n",
       "      <td>1.474745</td>\n",
       "    </tr>\n",
       "    <tr>\n",
       "      <th>tinderbox</th>\n",
       "      <td>1.450180</td>\n",
       "      <td>1.450180</td>\n",
       "    </tr>\n",
       "    <tr>\n",
       "      <th>machinery</th>\n",
       "      <td>1.448674</td>\n",
       "      <td>1.448674</td>\n",
       "    </tr>\n",
       "    <tr>\n",
       "      <th>eucalyptus</th>\n",
       "      <td>-1.441256</td>\n",
       "      <td>1.441256</td>\n",
       "    </tr>\n",
       "    <tr>\n",
       "      <th>forgetting</th>\n",
       "      <td>1.432802</td>\n",
       "      <td>1.432802</td>\n",
       "    </tr>\n",
       "    <tr>\n",
       "      <th>uterus</th>\n",
       "      <td>1.408669</td>\n",
       "      <td>1.408669</td>\n",
       "    </tr>\n",
       "    <tr>\n",
       "      <th>heavily</th>\n",
       "      <td>1.407832</td>\n",
       "      <td>1.407832</td>\n",
       "    </tr>\n",
       "    <tr>\n",
       "      <th>louis</th>\n",
       "      <td>-1.360687</td>\n",
       "      <td>1.360687</td>\n",
       "    </tr>\n",
       "    <tr>\n",
       "      <th>shortage</th>\n",
       "      <td>1.355582</td>\n",
       "      <td>1.355582</td>\n",
       "    </tr>\n",
       "    <tr>\n",
       "      <th>nickel</th>\n",
       "      <td>1.347784</td>\n",
       "      <td>1.347784</td>\n",
       "    </tr>\n",
       "    <tr>\n",
       "      <th>screenshots</th>\n",
       "      <td>1.329926</td>\n",
       "      <td>1.329926</td>\n",
       "    </tr>\n",
       "    <tr>\n",
       "      <th>successful</th>\n",
       "      <td>-1.329157</td>\n",
       "      <td>1.329157</td>\n",
       "    </tr>\n",
       "    <tr>\n",
       "      <th>anthropogenic</th>\n",
       "      <td>1.292111</td>\n",
       "      <td>1.292111</td>\n",
       "    </tr>\n",
       "    <tr>\n",
       "      <th>assuming</th>\n",
       "      <td>-1.291692</td>\n",
       "      <td>1.291692</td>\n",
       "    </tr>\n",
       "    <tr>\n",
       "      <th>clumsy</th>\n",
       "      <td>-1.277905</td>\n",
       "      <td>1.277905</td>\n",
       "    </tr>\n",
       "    <tr>\n",
       "      <th>hour</th>\n",
       "      <td>-1.277333</td>\n",
       "      <td>1.277333</td>\n",
       "    </tr>\n",
       "    <tr>\n",
       "      <th>quiet</th>\n",
       "      <td>-1.275383</td>\n",
       "      <td>1.275383</td>\n",
       "    </tr>\n",
       "    <tr>\n",
       "      <th>stepped</th>\n",
       "      <td>1.258255</td>\n",
       "      <td>1.258255</td>\n",
       "    </tr>\n",
       "    <tr>\n",
       "      <th>batts</th>\n",
       "      <td>-1.256008</td>\n",
       "      <td>1.256008</td>\n",
       "    </tr>\n",
       "    <tr>\n",
       "      <th>necessary</th>\n",
       "      <td>-1.246024</td>\n",
       "      <td>1.246024</td>\n",
       "    </tr>\n",
       "    <tr>\n",
       "      <th>beta</th>\n",
       "      <td>-1.244757</td>\n",
       "      <td>1.244757</td>\n",
       "    </tr>\n",
       "    <tr>\n",
       "      <th>lucky</th>\n",
       "      <td>1.244421</td>\n",
       "      <td>1.244421</td>\n",
       "    </tr>\n",
       "    <tr>\n",
       "      <th>anger</th>\n",
       "      <td>1.236381</td>\n",
       "      <td>1.236381</td>\n",
       "    </tr>\n",
       "    <tr>\n",
       "      <th>collide</th>\n",
       "      <td>-1.223941</td>\n",
       "      <td>1.223941</td>\n",
       "    </tr>\n",
       "    <tr>\n",
       "      <th>counterexample</th>\n",
       "      <td>-1.222887</td>\n",
       "      <td>1.222887</td>\n",
       "    </tr>\n",
       "    <tr>\n",
       "      <th>rioter</th>\n",
       "      <td>-1.220632</td>\n",
       "      <td>1.220632</td>\n",
       "    </tr>\n",
       "    <tr>\n",
       "      <th>defense</th>\n",
       "      <td>1.211632</td>\n",
       "      <td>1.211632</td>\n",
       "    </tr>\n",
       "    <tr>\n",
       "      <th>makeup</th>\n",
       "      <td>-1.209765</td>\n",
       "      <td>1.209765</td>\n",
       "    </tr>\n",
       "    <tr>\n",
       "      <th>awareness</th>\n",
       "      <td>-1.207143</td>\n",
       "      <td>1.207143</td>\n",
       "    </tr>\n",
       "  </tbody>\n",
       "</table>\n",
       "</div>"
      ],
      "text/plain": [
       "                   coef_  abs_coef\n",
       "deaf            5.378897  5.378897\n",
       "maximize        3.158363  3.158363\n",
       "mmsi            2.558394  2.558394\n",
       "promote        -2.405181  2.405181\n",
       "superimpose     2.056270  2.056270\n",
       "whore          -1.937604  1.937604\n",
       "yellow         -1.913854  1.913854\n",
       "cerpheus27     -1.911301  1.911301\n",
       "delighted      -1.884095  1.884095\n",
       "nature          1.775707  1.775707\n",
       "morally        -1.750682  1.750682\n",
       "796            -1.700714  1.700714\n",
       "mercantile      1.681061  1.681061\n",
       "biofuels       -1.636286  1.636286\n",
       "squeegee       -1.627070  1.627070\n",
       "outgassing     -1.576345  1.576345\n",
       "field          -1.556054  1.556054\n",
       "sticking        1.545644  1.545644\n",
       "caused         -1.526932  1.526932\n",
       "expressed       1.521964  1.521964\n",
       "sister         -1.476681  1.476681\n",
       "levere         -1.474745  1.474745\n",
       "tinderbox       1.450180  1.450180\n",
       "machinery       1.448674  1.448674\n",
       "eucalyptus     -1.441256  1.441256\n",
       "forgetting      1.432802  1.432802\n",
       "uterus          1.408669  1.408669\n",
       "heavily         1.407832  1.407832\n",
       "louis          -1.360687  1.360687\n",
       "shortage        1.355582  1.355582\n",
       "nickel          1.347784  1.347784\n",
       "screenshots     1.329926  1.329926\n",
       "successful     -1.329157  1.329157\n",
       "anthropogenic   1.292111  1.292111\n",
       "assuming       -1.291692  1.291692\n",
       "clumsy         -1.277905  1.277905\n",
       "hour           -1.277333  1.277333\n",
       "quiet          -1.275383  1.275383\n",
       "stepped         1.258255  1.258255\n",
       "batts          -1.256008  1.256008\n",
       "necessary      -1.246024  1.246024\n",
       "beta           -1.244757  1.244757\n",
       "lucky           1.244421  1.244421\n",
       "anger           1.236381  1.236381\n",
       "collide        -1.223941  1.223941\n",
       "counterexample -1.222887  1.222887\n",
       "rioter         -1.220632  1.220632\n",
       "defense         1.211632  1.211632\n",
       "makeup         -1.209765  1.209765\n",
       "awareness      -1.207143  1.207143"
      ]
     },
     "execution_count": 482,
     "metadata": {},
     "output_type": "execute_result"
    }
   ],
   "source": [
    "lr_tf_feat04 = pd.DataFrame(data=lr4.coef_.T, index=cvec.get_feature_names())\n",
    "lr_tf_feat04.columns = ['coef_']\n",
    "lr_tf_feat04['abs_coef'] = np.abs(lr_tf_feat04['coef_'])\n",
    "lr_tf_feat04.sort_values(by='abs_coef', ascending=False).head(50)"
   ]
  },
  {
   "cell_type": "code",
   "execution_count": 483,
   "metadata": {},
   "outputs": [
    {
     "data": {
      "text/html": [
       "<div>\n",
       "<style scoped>\n",
       "    .dataframe tbody tr th:only-of-type {\n",
       "        vertical-align: middle;\n",
       "    }\n",
       "\n",
       "    .dataframe tbody tr th {\n",
       "        vertical-align: top;\n",
       "    }\n",
       "\n",
       "    .dataframe thead th {\n",
       "        text-align: right;\n",
       "    }\n",
       "</style>\n",
       "<table border=\"1\" class=\"dataframe\">\n",
       "  <thead>\n",
       "    <tr style=\"text-align: right;\">\n",
       "      <th></th>\n",
       "      <th>coef_</th>\n",
       "      <th>abs_coef</th>\n",
       "    </tr>\n",
       "  </thead>\n",
       "  <tbody>\n",
       "    <tr>\n",
       "      <th>longest</th>\n",
       "      <td>-0.001130</td>\n",
       "      <td>0.001130</td>\n",
       "    </tr>\n",
       "    <tr>\n",
       "      <th>contain</th>\n",
       "      <td>0.001122</td>\n",
       "      <td>0.001122</td>\n",
       "    </tr>\n",
       "    <tr>\n",
       "      <th>progressed</th>\n",
       "      <td>0.001108</td>\n",
       "      <td>0.001108</td>\n",
       "    </tr>\n",
       "    <tr>\n",
       "      <th>watching</th>\n",
       "      <td>0.001065</td>\n",
       "      <td>0.001065</td>\n",
       "    </tr>\n",
       "    <tr>\n",
       "      <th>particulate</th>\n",
       "      <td>-0.001062</td>\n",
       "      <td>0.001062</td>\n",
       "    </tr>\n",
       "    <tr>\n",
       "      <th>refuse</th>\n",
       "      <td>-0.001032</td>\n",
       "      <td>0.001032</td>\n",
       "    </tr>\n",
       "    <tr>\n",
       "      <th>obstacle</th>\n",
       "      <td>-0.000997</td>\n",
       "      <td>0.000997</td>\n",
       "    </tr>\n",
       "    <tr>\n",
       "      <th>recognise</th>\n",
       "      <td>-0.000997</td>\n",
       "      <td>0.000997</td>\n",
       "    </tr>\n",
       "    <tr>\n",
       "      <th>reclaim</th>\n",
       "      <td>-0.000997</td>\n",
       "      <td>0.000997</td>\n",
       "    </tr>\n",
       "    <tr>\n",
       "      <th>victim</th>\n",
       "      <td>-0.000997</td>\n",
       "      <td>0.000997</td>\n",
       "    </tr>\n",
       "    <tr>\n",
       "      <th>contrarian</th>\n",
       "      <td>0.000900</td>\n",
       "      <td>0.000900</td>\n",
       "    </tr>\n",
       "    <tr>\n",
       "      <th>eminescu</th>\n",
       "      <td>-0.000873</td>\n",
       "      <td>0.000873</td>\n",
       "    </tr>\n",
       "    <tr>\n",
       "      <th>autonomy</th>\n",
       "      <td>-0.000873</td>\n",
       "      <td>0.000873</td>\n",
       "    </tr>\n",
       "    <tr>\n",
       "      <th>emission</th>\n",
       "      <td>-0.000873</td>\n",
       "      <td>0.000873</td>\n",
       "    </tr>\n",
       "    <tr>\n",
       "      <th>supplier</th>\n",
       "      <td>0.000804</td>\n",
       "      <td>0.000804</td>\n",
       "    </tr>\n",
       "    <tr>\n",
       "      <th>consultant</th>\n",
       "      <td>-0.000799</td>\n",
       "      <td>0.000799</td>\n",
       "    </tr>\n",
       "    <tr>\n",
       "      <th>versatile</th>\n",
       "      <td>0.000759</td>\n",
       "      <td>0.000759</td>\n",
       "    </tr>\n",
       "    <tr>\n",
       "      <th>communist</th>\n",
       "      <td>-0.000746</td>\n",
       "      <td>0.000746</td>\n",
       "    </tr>\n",
       "    <tr>\n",
       "      <th>insist</th>\n",
       "      <td>-0.000609</td>\n",
       "      <td>0.000609</td>\n",
       "    </tr>\n",
       "    <tr>\n",
       "      <th>nightmare</th>\n",
       "      <td>-0.000607</td>\n",
       "      <td>0.000607</td>\n",
       "    </tr>\n",
       "    <tr>\n",
       "      <th>addicted</th>\n",
       "      <td>-0.000564</td>\n",
       "      <td>0.000564</td>\n",
       "    </tr>\n",
       "    <tr>\n",
       "      <th>send</th>\n",
       "      <td>0.000545</td>\n",
       "      <td>0.000545</td>\n",
       "    </tr>\n",
       "    <tr>\n",
       "      <th>given</th>\n",
       "      <td>0.000497</td>\n",
       "      <td>0.000497</td>\n",
       "    </tr>\n",
       "    <tr>\n",
       "      <th>statement</th>\n",
       "      <td>-0.000458</td>\n",
       "      <td>0.000458</td>\n",
       "    </tr>\n",
       "    <tr>\n",
       "      <th>hardware</th>\n",
       "      <td>0.000450</td>\n",
       "      <td>0.000450</td>\n",
       "    </tr>\n",
       "    <tr>\n",
       "      <th>linux</th>\n",
       "      <td>-0.000368</td>\n",
       "      <td>0.000368</td>\n",
       "    </tr>\n",
       "    <tr>\n",
       "      <th>leisure</th>\n",
       "      <td>-0.000283</td>\n",
       "      <td>0.000283</td>\n",
       "    </tr>\n",
       "    <tr>\n",
       "      <th>tinier</th>\n",
       "      <td>0.000184</td>\n",
       "      <td>0.000184</td>\n",
       "    </tr>\n",
       "    <tr>\n",
       "      <th>linking</th>\n",
       "      <td>-0.000125</td>\n",
       "      <td>0.000125</td>\n",
       "    </tr>\n",
       "    <tr>\n",
       "      <th>untrue</th>\n",
       "      <td>0.000081</td>\n",
       "      <td>0.000081</td>\n",
       "    </tr>\n",
       "  </tbody>\n",
       "</table>\n",
       "</div>"
      ],
      "text/plain": [
       "                coef_  abs_coef\n",
       "longest     -0.001130  0.001130\n",
       "contain      0.001122  0.001122\n",
       "progressed   0.001108  0.001108\n",
       "watching     0.001065  0.001065\n",
       "particulate -0.001062  0.001062\n",
       "refuse      -0.001032  0.001032\n",
       "obstacle    -0.000997  0.000997\n",
       "recognise   -0.000997  0.000997\n",
       "reclaim     -0.000997  0.000997\n",
       "victim      -0.000997  0.000997\n",
       "contrarian   0.000900  0.000900\n",
       "eminescu    -0.000873  0.000873\n",
       "autonomy    -0.000873  0.000873\n",
       "emission    -0.000873  0.000873\n",
       "supplier     0.000804  0.000804\n",
       "consultant  -0.000799  0.000799\n",
       "versatile    0.000759  0.000759\n",
       "communist   -0.000746  0.000746\n",
       "insist      -0.000609  0.000609\n",
       "nightmare   -0.000607  0.000607\n",
       "addicted    -0.000564  0.000564\n",
       "send         0.000545  0.000545\n",
       "given        0.000497  0.000497\n",
       "statement   -0.000458  0.000458\n",
       "hardware     0.000450  0.000450\n",
       "linux       -0.000368  0.000368\n",
       "leisure     -0.000283  0.000283\n",
       "tinier       0.000184  0.000184\n",
       "linking     -0.000125  0.000125\n",
       "untrue       0.000081  0.000081"
      ]
     },
     "execution_count": 483,
     "metadata": {},
     "output_type": "execute_result"
    }
   ],
   "source": [
    "lr_tf_feat04.sort_values(by='abs_coef', ascending=False).tail(30)"
   ]
  },
  {
   "cell_type": "markdown",
   "metadata": {},
   "source": [
    "#### Model 5 - Log Reg, custom stop words, GridsearchCV"
   ]
  },
  {
   "cell_type": "code",
   "execution_count": 484,
   "metadata": {},
   "outputs": [],
   "source": [
    "# initialize\n",
    "cvec = CountVectorizer(stop_words = stop_words)\n",
    "\n",
    "lr5 = LogisticRegression()\n",
    "\n",
    "pipe5 = Pipeline([\n",
    "    ('cvec', cvec),\n",
    "    ('lr5', lr5)\n",
    "])"
   ]
  },
  {
   "cell_type": "code",
   "execution_count": 485,
   "metadata": {},
   "outputs": [
    {
     "name": "stdout",
     "output_type": "stream",
     "text": [
      "There are 11223 features in the model.\n",
      "train score: 0.9598246895544192\n",
      "test score: 0.7817518248175183\n"
     ]
    }
   ],
   "source": [
    "# baseline Logistic model\n",
    "\n",
    "pipe5.fit(X_train, y_train)\n",
    "print(\"There are {} features in the model.\".format(len(cvec.get_feature_names())))\n",
    "print('train score:', pipe5.score(X_train, y_train))\n",
    "print('test score:', pipe5.score(X_test, y_test))"
   ]
  },
  {
   "cell_type": "code",
   "execution_count": 486,
   "metadata": {},
   "outputs": [
    {
     "name": "stdout",
     "output_type": "stream",
     "text": [
      "Logistic Regression Intercept: [-0.031114]\n",
      "Logistic Regression Coefficient: [[ 0.19954085 -0.00722808 -0.00065491 ... -0.15415459  0.35349915\n",
      "   0.17640627]]\n"
     ]
    }
   ],
   "source": [
    "print(f'Logistic Regression Intercept: {lr5.intercept_}')\n",
    "print(f'Logistic Regression Coefficient: {lr5.coef_}')"
   ]
  },
  {
   "cell_type": "markdown",
   "metadata": {},
   "source": [
    "**GridSearchCV**"
   ]
  },
  {
   "cell_type": "code",
   "execution_count": 487,
   "metadata": {},
   "outputs": [
    {
     "name": "stdout",
     "output_type": "stream",
     "text": [
      "Fitting 3 folds for each of 60 candidates, totalling 180 fits\n"
     ]
    },
    {
     "name": "stderr",
     "output_type": "stream",
     "text": [
      "[Parallel(n_jobs=1)]: Using backend SequentialBackend with 1 concurrent workers.\n",
      "[Parallel(n_jobs=1)]: Done 180 out of 180 | elapsed:   21.6s finished\n"
     ]
    },
    {
     "name": "stdout",
     "output_type": "stream",
     "text": [
      "CPU times: user 35.9 s, sys: 355 ms, total: 36.3 s\n",
      "Wall time: 25.3 s\n"
     ]
    },
    {
     "data": {
      "text/plain": [
       "GridSearchCV(cv=3, error_score=nan,\n",
       "             estimator=Pipeline(memory=None,\n",
       "                                steps=[('cvec',\n",
       "                                        CountVectorizer(analyzer='word',\n",
       "                                                        binary=False,\n",
       "                                                        decode_error='strict',\n",
       "                                                        dtype=<class 'numpy.int64'>,\n",
       "                                                        encoding='utf-8',\n",
       "                                                        input='content',\n",
       "                                                        lowercase=True,\n",
       "                                                        max_df=1.0,\n",
       "                                                        max_features=10000,\n",
       "                                                        min_df=1,\n",
       "                                                        ngram_range=(1, 1),\n",
       "                                                        preprocessor=None,\n",
       "                                                        stop_words='english',\n",
       "                                                        strip_accents=None,\n",
       "                                                        token_pattern...\n",
       "             iid='deprecated', n_jobs=None,\n",
       "             param_grid={'cvec__max_features': [5000, 10000, 20000],\n",
       "                         'lr__C': array([1.00000000e-10, 1.29154967e-09, 1.66810054e-08, 2.15443469e-07,\n",
       "       2.78255940e-06, 3.59381366e-05, 4.64158883e-04, 5.99484250e-03,\n",
       "       7.74263683e-02, 1.00000000e+00]),\n",
       "                         'lr__penalty': ['l1', 'l2']},\n",
       "             pre_dispatch='2*n_jobs', refit=True, return_train_score=False,\n",
       "             scoring=None, verbose=1)"
      ]
     },
     "execution_count": 487,
     "metadata": {},
     "output_type": "execute_result"
    }
   ],
   "source": [
    "%%time\n",
    "\n",
    "# gridsearchCV tests cross-validation for the parameters\n",
    "# pipe\n",
    "\n",
    "params = {\n",
    "#     'cvec__stop_words': [stop_words], \n",
    "    'cvec__max_features': [5000, 10000, 20000], \n",
    "#     'cvec__ngram_range': [(1, 1), (1, 2)], \n",
    "    'lr__penalty': ['l1', 'l2'], \n",
    "    'lr__C': np.logspace(-10, 0, 10)\n",
    "}\n",
    "gs = GridSearchCV(pipe, param_grid=params, cv=3, verbose=1)\n",
    "gs.fit(X_train, y_train)"
   ]
  },
  {
   "cell_type": "code",
   "execution_count": 488,
   "metadata": {},
   "outputs": [
    {
     "data": {
      "text/plain": [
       "dict_keys(['analyzer', 'binary', 'decode_error', 'dtype', 'encoding', 'input', 'lowercase', 'max_df', 'max_features', 'min_df', 'ngram_range', 'preprocessor', 'stop_words', 'strip_accents', 'token_pattern', 'tokenizer', 'vocabulary'])"
      ]
     },
     "execution_count": 488,
     "metadata": {},
     "output_type": "execute_result"
    }
   ],
   "source": [
    "cvec.get_params().keys()"
   ]
  },
  {
   "cell_type": "code",
   "execution_count": 489,
   "metadata": {},
   "outputs": [
    {
     "name": "stdout",
     "output_type": "stream",
     "text": [
      "gs.best_score_ 0.7772096420745069\n",
      "gs.best_params_ {'cvec__max_features': 10000, 'lr__C': 1.0, 'lr__penalty': 'l2'}\n",
      "gs.score(X_test, y_test) 0.7846715328467153\n"
     ]
    }
   ],
   "source": [
    "print('gs.best_score_', gs.best_score_)\n",
    "print('gs.best_params_', gs.best_params_)\n",
    "print('gs.score(X_test, y_test)', gs.score(X_test, y_test))"
   ]
  },
  {
   "cell_type": "markdown",
   "metadata": {},
   "source": [
    "# Part 2: Random Forest"
   ]
  },
  {
   "cell_type": "code",
   "execution_count": 490,
   "metadata": {},
   "outputs": [],
   "source": [
    "from sklearn.ensemble import RandomForestClassifier, ExtraTreesClassifier\n",
    "from sklearn.model_selection import cross_val_score"
   ]
  },
  {
   "cell_type": "code",
   "execution_count": 549,
   "metadata": {},
   "outputs": [],
   "source": [
    "# train/test split\n",
    "# stratify y just in case\n",
    "# test_size : default = 0.25\n",
    "# shuffle: default = True\n",
    "\n",
    "X_train2, X_test2, y_train2, y_test2 = train_test_split(X, y, test_size = 0.15, random_state=42)"
   ]
  },
  {
   "cell_type": "code",
   "execution_count": 550,
   "metadata": {},
   "outputs": [
    {
     "data": {
      "text/plain": [
       "((4655,), (822,), (4655,), (822,))"
      ]
     },
     "execution_count": 550,
     "metadata": {},
     "output_type": "execute_result"
    }
   ],
   "source": [
    "X_train2.shape, X_test2.shape, y_train2.shape, y_test2.shape"
   ]
  },
  {
   "cell_type": "markdown",
   "metadata": {},
   "source": [
    "#### Model 6 - RF, standard stop words"
   ]
  },
  {
   "cell_type": "code",
   "execution_count": 551,
   "metadata": {},
   "outputs": [
    {
     "name": "stdout",
     "output_type": "stream",
     "text": [
      "There are 10000 features in the model.\n",
      "train score: 0.9950590762620838\n",
      "test score: 0.7749391727493917\n"
     ]
    }
   ],
   "source": [
    "cvec6 = CountVectorizer(analyzer = \"word\",                        \n",
    "                         tokenizer = None, \n",
    "                         preprocessor = None,\n",
    "                         stop_words = \"english\", \n",
    "                         max_features = 10000)\n",
    "rf = RandomForestClassifier(random_state = 42)\n",
    "\n",
    "pipe6 = Pipeline([\n",
    "    ('cve6', cvec6),\n",
    "    ('rf', rf)\n",
    "])\n",
    "\n",
    "pipe6.fit(X_train2, y_train2)\n",
    "print(\"There are {} features in the model.\".format(len(cvec6.get_feature_names())))\n",
    "print('train score:', pipe6.score(X_train2, y_train2))\n",
    "print('test score:', pipe6.score(X_test2, y_test2))"
   ]
  },
  {
   "cell_type": "markdown",
   "metadata": {},
   "source": [
    "#### Model 7 - RF, custom stop words "
   ]
  },
  {
   "cell_type": "code",
   "execution_count": 552,
   "metadata": {},
   "outputs": [
    {
     "name": "stdout",
     "output_type": "stream",
     "text": [
      "There are 10000 features in the model.\n",
      "train score: 0.9952738990332975\n",
      "test score: 0.7907542579075426\n"
     ]
    }
   ],
   "source": [
    "# using additional stop words\n",
    "\n",
    "cvec7 = CountVectorizer(analyzer = \"word\",                        \n",
    "                         tokenizer = None, \n",
    "                         preprocessor = None,\n",
    "                         stop_words = stop_words, \n",
    "                         max_features = 10000)\n",
    "rf2 = RandomForestClassifier(random_state = 42)\n",
    "\n",
    "pipe7 = Pipeline([\n",
    "    ('cvec7', cvec7),\n",
    "    ('rf2', rf2)\n",
    "])\n",
    "\n",
    "pipe7.fit(X_train2, y_train2)\n",
    "print(\"There are {} features in the model.\".format(len(cvec7.get_feature_names())))\n",
    "print('train score:', pipe7.score(X_train2, y_train2))\n",
    "print('test score:', pipe7.score(X_test2, y_test2))"
   ]
  },
  {
   "cell_type": "code",
   "execution_count": 496,
   "metadata": {},
   "outputs": [],
   "source": [
    "rf_feat = cvec7.get_feature_names()\n",
    "rf_feat_import = rf.feature_importances_\n",
    "\n",
    "df_rf_frame = pd.DataFrame(data=rf_feat_import, index=rf_feat)"
   ]
  },
  {
   "cell_type": "code",
   "execution_count": 497,
   "metadata": {},
   "outputs": [
    {
     "data": {
      "text/html": [
       "<div>\n",
       "<style scoped>\n",
       "    .dataframe tbody tr th:only-of-type {\n",
       "        vertical-align: middle;\n",
       "    }\n",
       "\n",
       "    .dataframe tbody tr th {\n",
       "        vertical-align: top;\n",
       "    }\n",
       "\n",
       "    .dataframe thead th {\n",
       "        text-align: right;\n",
       "    }\n",
       "</style>\n",
       "<table border=\"1\" class=\"dataframe\">\n",
       "  <thead>\n",
       "    <tr style=\"text-align: right;\">\n",
       "      <th></th>\n",
       "      <th>0</th>\n",
       "    </tr>\n",
       "  </thead>\n",
       "  <tbody>\n",
       "    <tr>\n",
       "      <th>eloquent</th>\n",
       "      <td>0.036400</td>\n",
       "    </tr>\n",
       "    <tr>\n",
       "      <th>mark</th>\n",
       "      <td>0.008860</td>\n",
       "    </tr>\n",
       "    <tr>\n",
       "      <th>nailed</th>\n",
       "      <td>0.008719</td>\n",
       "    </tr>\n",
       "    <tr>\n",
       "      <th>period</th>\n",
       "      <td>0.005255</td>\n",
       "    </tr>\n",
       "    <tr>\n",
       "      <th>powder</th>\n",
       "      <td>0.005235</td>\n",
       "    </tr>\n",
       "    <tr>\n",
       "      <th>year</th>\n",
       "      <td>0.004411</td>\n",
       "    </tr>\n",
       "    <tr>\n",
       "      <th>good</th>\n",
       "      <td>0.004331</td>\n",
       "    </tr>\n",
       "    <tr>\n",
       "      <th>kanye</th>\n",
       "      <td>0.004191</td>\n",
       "    </tr>\n",
       "    <tr>\n",
       "      <th>neighborhood</th>\n",
       "      <td>0.004108</td>\n",
       "    </tr>\n",
       "    <tr>\n",
       "      <th>enforcing</th>\n",
       "      <td>0.004082</td>\n",
       "    </tr>\n",
       "    <tr>\n",
       "      <th>country</th>\n",
       "      <td>0.004058</td>\n",
       "    </tr>\n",
       "    <tr>\n",
       "      <th>climate</th>\n",
       "      <td>0.003956</td>\n",
       "    </tr>\n",
       "    <tr>\n",
       "      <th>mentality</th>\n",
       "      <td>0.003710</td>\n",
       "    </tr>\n",
       "    <tr>\n",
       "      <th>dogma</th>\n",
       "      <td>0.003665</td>\n",
       "    </tr>\n",
       "    <tr>\n",
       "      <th>terug</th>\n",
       "      <td>0.003528</td>\n",
       "    </tr>\n",
       "    <tr>\n",
       "      <th>hahaha</th>\n",
       "      <td>0.003463</td>\n",
       "    </tr>\n",
       "    <tr>\n",
       "      <th>solace</th>\n",
       "      <td>0.003461</td>\n",
       "    </tr>\n",
       "    <tr>\n",
       "      <th>newest</th>\n",
       "      <td>0.003347</td>\n",
       "    </tr>\n",
       "    <tr>\n",
       "      <th>donators</th>\n",
       "      <td>0.003344</td>\n",
       "    </tr>\n",
       "    <tr>\n",
       "      <th>limelight</th>\n",
       "      <td>0.003285</td>\n",
       "    </tr>\n",
       "    <tr>\n",
       "      <th>stint</th>\n",
       "      <td>0.003218</td>\n",
       "    </tr>\n",
       "    <tr>\n",
       "      <th>thinfingers</th>\n",
       "      <td>0.003202</td>\n",
       "    </tr>\n",
       "    <tr>\n",
       "      <th>article</th>\n",
       "      <td>0.003050</td>\n",
       "    </tr>\n",
       "    <tr>\n",
       "      <th>onshore</th>\n",
       "      <td>0.002939</td>\n",
       "    </tr>\n",
       "    <tr>\n",
       "      <th>water</th>\n",
       "      <td>0.002902</td>\n",
       "    </tr>\n",
       "    <tr>\n",
       "      <th>vuvuvu</th>\n",
       "      <td>0.002896</td>\n",
       "    </tr>\n",
       "    <tr>\n",
       "      <th>cost</th>\n",
       "      <td>0.002844</td>\n",
       "    </tr>\n",
       "    <tr>\n",
       "      <th>low</th>\n",
       "      <td>0.002620</td>\n",
       "    </tr>\n",
       "    <tr>\n",
       "      <th>grain</th>\n",
       "      <td>0.002609</td>\n",
       "    </tr>\n",
       "    <tr>\n",
       "      <th>company</th>\n",
       "      <td>0.002593</td>\n",
       "    </tr>\n",
       "  </tbody>\n",
       "</table>\n",
       "</div>"
      ],
      "text/plain": [
       "                     0\n",
       "eloquent      0.036400\n",
       "mark          0.008860\n",
       "nailed        0.008719\n",
       "period        0.005255\n",
       "powder        0.005235\n",
       "year          0.004411\n",
       "good          0.004331\n",
       "kanye         0.004191\n",
       "neighborhood  0.004108\n",
       "enforcing     0.004082\n",
       "country       0.004058\n",
       "climate       0.003956\n",
       "mentality     0.003710\n",
       "dogma         0.003665\n",
       "terug         0.003528\n",
       "hahaha        0.003463\n",
       "solace        0.003461\n",
       "newest        0.003347\n",
       "donators      0.003344\n",
       "limelight     0.003285\n",
       "stint         0.003218\n",
       "thinfingers   0.003202\n",
       "article       0.003050\n",
       "onshore       0.002939\n",
       "water         0.002902\n",
       "vuvuvu        0.002896\n",
       "cost          0.002844\n",
       "low           0.002620\n",
       "grain         0.002609\n",
       "company       0.002593"
      ]
     },
     "execution_count": 497,
     "metadata": {},
     "output_type": "execute_result"
    }
   ],
   "source": [
    "df_rf_frame.sort_values(by=0, ascending=False).head(30)"
   ]
  },
  {
   "cell_type": "code",
   "execution_count": 499,
   "metadata": {},
   "outputs": [],
   "source": [
    "rf_feat = cvec7.get_feature_names()\n",
    "rf_feat_imp = rf2.feature_importances_\n",
    "\n",
    "df_rf_feat01 = pd.DataFrame(data=rf_feat_imp, index=rf_feat)\n",
    "\n",
    "df_rf_feat01.columns = ['feature_importances_']"
   ]
  },
  {
   "cell_type": "code",
   "execution_count": 500,
   "metadata": {},
   "outputs": [
    {
     "data": {
      "text/html": [
       "<div>\n",
       "<style scoped>\n",
       "    .dataframe tbody tr th:only-of-type {\n",
       "        vertical-align: middle;\n",
       "    }\n",
       "\n",
       "    .dataframe tbody tr th {\n",
       "        vertical-align: top;\n",
       "    }\n",
       "\n",
       "    .dataframe thead th {\n",
       "        text-align: right;\n",
       "    }\n",
       "</style>\n",
       "<table border=\"1\" class=\"dataframe\">\n",
       "  <thead>\n",
       "    <tr style=\"text-align: right;\">\n",
       "      <th></th>\n",
       "      <th>feature_importances_</th>\n",
       "    </tr>\n",
       "  </thead>\n",
       "  <tbody>\n",
       "    <tr>\n",
       "      <th>elon</th>\n",
       "      <td>0.031665</td>\n",
       "    </tr>\n",
       "    <tr>\n",
       "      <th>musk</th>\n",
       "      <td>0.009600</td>\n",
       "    </tr>\n",
       "    <tr>\n",
       "      <th>mar</th>\n",
       "      <td>0.009240</td>\n",
       "    </tr>\n",
       "    <tr>\n",
       "      <th>power</th>\n",
       "      <td>0.005880</td>\n",
       "    </tr>\n",
       "    <tr>\n",
       "      <th>year</th>\n",
       "      <td>0.005291</td>\n",
       "    </tr>\n",
       "    <tr>\n",
       "      <th>people</th>\n",
       "      <td>0.004987</td>\n",
       "    </tr>\n",
       "    <tr>\n",
       "      <th>need</th>\n",
       "      <td>0.004769</td>\n",
       "    </tr>\n",
       "    <tr>\n",
       "      <th>country</th>\n",
       "      <td>0.004327</td>\n",
       "    </tr>\n",
       "    <tr>\n",
       "      <th>energy</th>\n",
       "      <td>0.003972</td>\n",
       "    </tr>\n",
       "    <tr>\n",
       "      <th>water</th>\n",
       "      <td>0.003911</td>\n",
       "    </tr>\n",
       "    <tr>\n",
       "      <th>stock</th>\n",
       "      <td>0.003708</td>\n",
       "    </tr>\n",
       "    <tr>\n",
       "      <th>just</th>\n",
       "      <td>0.003708</td>\n",
       "    </tr>\n",
       "    <tr>\n",
       "      <th>like</th>\n",
       "      <td>0.003658</td>\n",
       "    </tr>\n",
       "    <tr>\n",
       "      <th>climate</th>\n",
       "      <td>0.003615</td>\n",
       "    </tr>\n",
       "    <tr>\n",
       "      <th>meme</th>\n",
       "      <td>0.003486</td>\n",
       "    </tr>\n",
       "    <tr>\n",
       "      <th>article</th>\n",
       "      <td>0.003298</td>\n",
       "    </tr>\n",
       "    <tr>\n",
       "      <th>tesla</th>\n",
       "      <td>0.003252</td>\n",
       "    </tr>\n",
       "    <tr>\n",
       "      <th>lot</th>\n",
       "      <td>0.003233</td>\n",
       "    </tr>\n",
       "    <tr>\n",
       "      <th>neuralink</th>\n",
       "      <td>0.003231</td>\n",
       "    </tr>\n",
       "    <tr>\n",
       "      <th>thing</th>\n",
       "      <td>0.003202</td>\n",
       "    </tr>\n",
       "    <tr>\n",
       "      <th>oil</th>\n",
       "      <td>0.003080</td>\n",
       "    </tr>\n",
       "    <tr>\n",
       "      <th>grime</th>\n",
       "      <td>0.003059</td>\n",
       "    </tr>\n",
       "    <tr>\n",
       "      <th>solar</th>\n",
       "      <td>0.002953</td>\n",
       "    </tr>\n",
       "    <tr>\n",
       "      <th>government</th>\n",
       "      <td>0.002887</td>\n",
       "    </tr>\n",
       "    <tr>\n",
       "      <th>gif</th>\n",
       "      <td>0.002786</td>\n",
       "    </tr>\n",
       "    <tr>\n",
       "      <th>right</th>\n",
       "      <td>0.002737</td>\n",
       "    </tr>\n",
       "    <tr>\n",
       "      <th>cost</th>\n",
       "      <td>0.002714</td>\n",
       "    </tr>\n",
       "    <tr>\n",
       "      <th>know</th>\n",
       "      <td>0.002701</td>\n",
       "    </tr>\n",
       "    <tr>\n",
       "      <th>car</th>\n",
       "      <td>0.002668</td>\n",
       "    </tr>\n",
       "    <tr>\n",
       "      <th>think</th>\n",
       "      <td>0.002648</td>\n",
       "    </tr>\n",
       "  </tbody>\n",
       "</table>\n",
       "</div>"
      ],
      "text/plain": [
       "            feature_importances_\n",
       "elon                    0.031665\n",
       "musk                    0.009600\n",
       "mar                     0.009240\n",
       "power                   0.005880\n",
       "year                    0.005291\n",
       "people                  0.004987\n",
       "need                    0.004769\n",
       "country                 0.004327\n",
       "energy                  0.003972\n",
       "water                   0.003911\n",
       "stock                   0.003708\n",
       "just                    0.003708\n",
       "like                    0.003658\n",
       "climate                 0.003615\n",
       "meme                    0.003486\n",
       "article                 0.003298\n",
       "tesla                   0.003252\n",
       "lot                     0.003233\n",
       "neuralink               0.003231\n",
       "thing                   0.003202\n",
       "oil                     0.003080\n",
       "grime                   0.003059\n",
       "solar                   0.002953\n",
       "government              0.002887\n",
       "gif                     0.002786\n",
       "right                   0.002737\n",
       "cost                    0.002714\n",
       "know                    0.002701\n",
       "car                     0.002668\n",
       "think                   0.002648"
      ]
     },
     "execution_count": 500,
     "metadata": {},
     "output_type": "execute_result"
    }
   ],
   "source": [
    "df_rf_feat01.sort_values(by='feature_importances_', ascending=False).head(30)"
   ]
  },
  {
   "cell_type": "code",
   "execution_count": 501,
   "metadata": {},
   "outputs": [
    {
     "data": {
      "text/html": [
       "<div>\n",
       "<style scoped>\n",
       "    .dataframe tbody tr th:only-of-type {\n",
       "        vertical-align: middle;\n",
       "    }\n",
       "\n",
       "    .dataframe tbody tr th {\n",
       "        vertical-align: top;\n",
       "    }\n",
       "\n",
       "    .dataframe thead th {\n",
       "        text-align: right;\n",
       "    }\n",
       "</style>\n",
       "<table border=\"1\" class=\"dataframe\">\n",
       "  <thead>\n",
       "    <tr style=\"text-align: right;\">\n",
       "      <th></th>\n",
       "      <th>feature_importances_</th>\n",
       "    </tr>\n",
       "  </thead>\n",
       "  <tbody>\n",
       "    <tr>\n",
       "      <th>revolves</th>\n",
       "      <td>0.0</td>\n",
       "    </tr>\n",
       "    <tr>\n",
       "      <th>revved</th>\n",
       "      <td>0.0</td>\n",
       "    </tr>\n",
       "    <tr>\n",
       "      <th>cased</th>\n",
       "      <td>0.0</td>\n",
       "    </tr>\n",
       "    <tr>\n",
       "      <th>cascade</th>\n",
       "      <td>0.0</td>\n",
       "    </tr>\n",
       "    <tr>\n",
       "      <th>rhetorical</th>\n",
       "      <td>0.0</td>\n",
       "    </tr>\n",
       "    <tr>\n",
       "      <th>rhythm</th>\n",
       "      <td>0.0</td>\n",
       "    </tr>\n",
       "    <tr>\n",
       "      <th>carved</th>\n",
       "      <td>0.0</td>\n",
       "    </tr>\n",
       "    <tr>\n",
       "      <th>cartoonish</th>\n",
       "      <td>0.0</td>\n",
       "    </tr>\n",
       "    <tr>\n",
       "      <th>richmond</th>\n",
       "      <td>0.0</td>\n",
       "    </tr>\n",
       "    <tr>\n",
       "      <th>ridge</th>\n",
       "      <td>0.0</td>\n",
       "    </tr>\n",
       "    <tr>\n",
       "      <th>caribbean</th>\n",
       "      <td>0.0</td>\n",
       "    </tr>\n",
       "    <tr>\n",
       "      <th>enforced</th>\n",
       "      <td>0.0</td>\n",
       "    </tr>\n",
       "    <tr>\n",
       "      <th>kruger</th>\n",
       "      <td>0.0</td>\n",
       "    </tr>\n",
       "    <tr>\n",
       "      <th>carcass</th>\n",
       "      <td>0.0</td>\n",
       "    </tr>\n",
       "    <tr>\n",
       "      <th>caravan</th>\n",
       "      <td>0.0</td>\n",
       "    </tr>\n",
       "    <tr>\n",
       "      <th>righteousness</th>\n",
       "      <td>0.0</td>\n",
       "    </tr>\n",
       "    <tr>\n",
       "      <th>capybara</th>\n",
       "      <td>0.0</td>\n",
       "    </tr>\n",
       "    <tr>\n",
       "      <th>rigid</th>\n",
       "      <td>0.0</td>\n",
       "    </tr>\n",
       "    <tr>\n",
       "      <th>rigorously</th>\n",
       "      <td>0.0</td>\n",
       "    </tr>\n",
       "    <tr>\n",
       "      <th>breed</th>\n",
       "      <td>0.0</td>\n",
       "    </tr>\n",
       "  </tbody>\n",
       "</table>\n",
       "</div>"
      ],
      "text/plain": [
       "               feature_importances_\n",
       "revolves                        0.0\n",
       "revved                          0.0\n",
       "cased                           0.0\n",
       "cascade                         0.0\n",
       "rhetorical                      0.0\n",
       "rhythm                          0.0\n",
       "carved                          0.0\n",
       "cartoonish                      0.0\n",
       "richmond                        0.0\n",
       "ridge                           0.0\n",
       "caribbean                       0.0\n",
       "enforced                        0.0\n",
       "kruger                          0.0\n",
       "carcass                         0.0\n",
       "caravan                         0.0\n",
       "righteousness                   0.0\n",
       "capybara                        0.0\n",
       "rigid                           0.0\n",
       "rigorously                      0.0\n",
       "breed                           0.0"
      ]
     },
     "execution_count": 501,
     "metadata": {},
     "output_type": "execute_result"
    }
   ],
   "source": [
    "df_rf_feat01.sort_values(by='feature_importances_', ascending=False).tail(20)"
   ]
  },
  {
   "cell_type": "markdown",
   "metadata": {},
   "source": [
    "#### Model 8 - RF, custom stop words, n-grams"
   ]
  },
  {
   "cell_type": "code",
   "execution_count": 553,
   "metadata": {},
   "outputs": [
    {
     "name": "stdout",
     "output_type": "stream",
     "text": [
      "There are 10000 features in the model.\n",
      "train score: 0.9922084246408571\n",
      "test score: 0.7489051094890511\n"
     ]
    }
   ],
   "source": [
    "# CountVectorizer & Random forest using additional stop words and 1 - 3 n-grams\n",
    "\n",
    "tf = TfidfVectorizer(analyzer = \"word\", \n",
    "                       tokenizer = None, \n",
    "                       preprocessor = None,\n",
    "                       stop_words = stop_words, \n",
    "                       max_features = 10000, \n",
    "                       ngram_range = (1, 3)\n",
    "                      )\n",
    "rf = RandomForestClassifier(random_state = 42)\n",
    "\n",
    "pipe = Pipeline([\n",
    "    ('tf', tf),\n",
    "    ('rf', rf)\n",
    "])\n",
    "\n",
    "pipe.fit(X_train, y_train)\n",
    "print(\"There are {} features in the model.\".format(len(tf.get_feature_names())))\n",
    "print('train score:', pipe.score(X_train, y_train))\n",
    "print('test score:', pipe.score(X_test, y_test))"
   ]
  },
  {
   "cell_type": "code",
   "execution_count": 503,
   "metadata": {},
   "outputs": [],
   "source": [
    "rf_feat = cvec.get_feature_names()\n",
    "rf_feat_imp = rf.feature_importances_\n",
    "\n",
    "df_rf_feat02 = pd.DataFrame(data=rf_feat_imp, index=rf_feat)\n",
    "\n",
    "df_rf_feat02.columns = ['feature_importances_']"
   ]
  },
  {
   "cell_type": "code",
   "execution_count": 504,
   "metadata": {},
   "outputs": [
    {
     "data": {
      "text/html": [
       "<div>\n",
       "<style scoped>\n",
       "    .dataframe tbody tr th:only-of-type {\n",
       "        vertical-align: middle;\n",
       "    }\n",
       "\n",
       "    .dataframe tbody tr th {\n",
       "        vertical-align: top;\n",
       "    }\n",
       "\n",
       "    .dataframe thead th {\n",
       "        text-align: right;\n",
       "    }\n",
       "</style>\n",
       "<table border=\"1\" class=\"dataframe\">\n",
       "  <thead>\n",
       "    <tr style=\"text-align: right;\">\n",
       "      <th></th>\n",
       "      <th>feature_importances_</th>\n",
       "    </tr>\n",
       "  </thead>\n",
       "  <tbody>\n",
       "    <tr>\n",
       "      <th>elon</th>\n",
       "      <td>0.031368</td>\n",
       "    </tr>\n",
       "    <tr>\n",
       "      <th>mar</th>\n",
       "      <td>0.010007</td>\n",
       "    </tr>\n",
       "    <tr>\n",
       "      <th>musk</th>\n",
       "      <td>0.008902</td>\n",
       "    </tr>\n",
       "    <tr>\n",
       "      <th>power</th>\n",
       "      <td>0.006244</td>\n",
       "    </tr>\n",
       "    <tr>\n",
       "      <th>year</th>\n",
       "      <td>0.005263</td>\n",
       "    </tr>\n",
       "    <tr>\n",
       "      <th>people</th>\n",
       "      <td>0.005102</td>\n",
       "    </tr>\n",
       "    <tr>\n",
       "      <th>country</th>\n",
       "      <td>0.004461</td>\n",
       "    </tr>\n",
       "    <tr>\n",
       "      <th>energy</th>\n",
       "      <td>0.004336</td>\n",
       "    </tr>\n",
       "    <tr>\n",
       "      <th>need</th>\n",
       "      <td>0.003939</td>\n",
       "    </tr>\n",
       "    <tr>\n",
       "      <th>water</th>\n",
       "      <td>0.003923</td>\n",
       "    </tr>\n",
       "    <tr>\n",
       "      <th>just</th>\n",
       "      <td>0.003863</td>\n",
       "    </tr>\n",
       "    <tr>\n",
       "      <th>stock</th>\n",
       "      <td>0.003835</td>\n",
       "    </tr>\n",
       "    <tr>\n",
       "      <th>solar</th>\n",
       "      <td>0.003523</td>\n",
       "    </tr>\n",
       "    <tr>\n",
       "      <th>like</th>\n",
       "      <td>0.003413</td>\n",
       "    </tr>\n",
       "    <tr>\n",
       "      <th>lot</th>\n",
       "      <td>0.003379</td>\n",
       "    </tr>\n",
       "    <tr>\n",
       "      <th>article</th>\n",
       "      <td>0.003352</td>\n",
       "    </tr>\n",
       "    <tr>\n",
       "      <th>meme</th>\n",
       "      <td>0.003264</td>\n",
       "    </tr>\n",
       "    <tr>\n",
       "      <th>cost</th>\n",
       "      <td>0.003242</td>\n",
       "    </tr>\n",
       "    <tr>\n",
       "      <th>oil</th>\n",
       "      <td>0.003114</td>\n",
       "    </tr>\n",
       "    <tr>\n",
       "      <th>thing</th>\n",
       "      <td>0.003077</td>\n",
       "    </tr>\n",
       "    <tr>\n",
       "      <th>neuralink</th>\n",
       "      <td>0.002985</td>\n",
       "    </tr>\n",
       "    <tr>\n",
       "      <th>tesla</th>\n",
       "      <td>0.002939</td>\n",
       "    </tr>\n",
       "    <tr>\n",
       "      <th>government</th>\n",
       "      <td>0.002768</td>\n",
       "    </tr>\n",
       "    <tr>\n",
       "      <th>climate</th>\n",
       "      <td>0.002752</td>\n",
       "    </tr>\n",
       "    <tr>\n",
       "      <th>new</th>\n",
       "      <td>0.002620</td>\n",
       "    </tr>\n",
       "    <tr>\n",
       "      <th>grime</th>\n",
       "      <td>0.002615</td>\n",
       "    </tr>\n",
       "    <tr>\n",
       "      <th>state</th>\n",
       "      <td>0.002608</td>\n",
       "    </tr>\n",
       "    <tr>\n",
       "      <th>gif</th>\n",
       "      <td>0.002530</td>\n",
       "    </tr>\n",
       "    <tr>\n",
       "      <th>right</th>\n",
       "      <td>0.002529</td>\n",
       "    </tr>\n",
       "    <tr>\n",
       "      <th>problem</th>\n",
       "      <td>0.002512</td>\n",
       "    </tr>\n",
       "    <tr>\n",
       "      <th>change</th>\n",
       "      <td>0.002507</td>\n",
       "    </tr>\n",
       "    <tr>\n",
       "      <th>work</th>\n",
       "      <td>0.002484</td>\n",
       "    </tr>\n",
       "    <tr>\n",
       "      <th>wind</th>\n",
       "      <td>0.002484</td>\n",
       "    </tr>\n",
       "    <tr>\n",
       "      <th>lol</th>\n",
       "      <td>0.002473</td>\n",
       "    </tr>\n",
       "    <tr>\n",
       "      <th>california</th>\n",
       "      <td>0.002451</td>\n",
       "    </tr>\n",
       "    <tr>\n",
       "      <th>car</th>\n",
       "      <td>0.002428</td>\n",
       "    </tr>\n",
       "    <tr>\n",
       "      <th>literally</th>\n",
       "      <td>0.002397</td>\n",
       "    </tr>\n",
       "    <tr>\n",
       "      <th>twitter</th>\n",
       "      <td>0.002321</td>\n",
       "    </tr>\n",
       "    <tr>\n",
       "      <th>elon musk</th>\n",
       "      <td>0.002313</td>\n",
       "    </tr>\n",
       "    <tr>\n",
       "      <th>company</th>\n",
       "      <td>0.002269</td>\n",
       "    </tr>\n",
       "    <tr>\n",
       "      <th>know</th>\n",
       "      <td>0.002263</td>\n",
       "    </tr>\n",
       "    <tr>\n",
       "      <th>land</th>\n",
       "      <td>0.002248</td>\n",
       "    </tr>\n",
       "    <tr>\n",
       "      <th>think</th>\n",
       "      <td>0.002171</td>\n",
       "    </tr>\n",
       "    <tr>\n",
       "      <th>decade</th>\n",
       "      <td>0.002153</td>\n",
       "    </tr>\n",
       "    <tr>\n",
       "      <th>spacex</th>\n",
       "      <td>0.002125</td>\n",
       "    </tr>\n",
       "    <tr>\n",
       "      <th>issue</th>\n",
       "      <td>0.002098</td>\n",
       "    </tr>\n",
       "    <tr>\n",
       "      <th>make</th>\n",
       "      <td>0.002092</td>\n",
       "    </tr>\n",
       "    <tr>\n",
       "      <th>use</th>\n",
       "      <td>0.002065</td>\n",
       "    </tr>\n",
       "    <tr>\n",
       "      <th>money</th>\n",
       "      <td>0.002044</td>\n",
       "    </tr>\n",
       "    <tr>\n",
       "      <th>gas</th>\n",
       "      <td>0.002037</td>\n",
       "    </tr>\n",
       "  </tbody>\n",
       "</table>\n",
       "</div>"
      ],
      "text/plain": [
       "            feature_importances_\n",
       "elon                    0.031368\n",
       "mar                     0.010007\n",
       "musk                    0.008902\n",
       "power                   0.006244\n",
       "year                    0.005263\n",
       "people                  0.005102\n",
       "country                 0.004461\n",
       "energy                  0.004336\n",
       "need                    0.003939\n",
       "water                   0.003923\n",
       "just                    0.003863\n",
       "stock                   0.003835\n",
       "solar                   0.003523\n",
       "like                    0.003413\n",
       "lot                     0.003379\n",
       "article                 0.003352\n",
       "meme                    0.003264\n",
       "cost                    0.003242\n",
       "oil                     0.003114\n",
       "thing                   0.003077\n",
       "neuralink               0.002985\n",
       "tesla                   0.002939\n",
       "government              0.002768\n",
       "climate                 0.002752\n",
       "new                     0.002620\n",
       "grime                   0.002615\n",
       "state                   0.002608\n",
       "gif                     0.002530\n",
       "right                   0.002529\n",
       "problem                 0.002512\n",
       "change                  0.002507\n",
       "work                    0.002484\n",
       "wind                    0.002484\n",
       "lol                     0.002473\n",
       "california              0.002451\n",
       "car                     0.002428\n",
       "literally               0.002397\n",
       "twitter                 0.002321\n",
       "elon musk               0.002313\n",
       "company                 0.002269\n",
       "know                    0.002263\n",
       "land                    0.002248\n",
       "think                   0.002171\n",
       "decade                  0.002153\n",
       "spacex                  0.002125\n",
       "issue                   0.002098\n",
       "make                    0.002092\n",
       "use                     0.002065\n",
       "money                   0.002044\n",
       "gas                     0.002037"
      ]
     },
     "execution_count": 504,
     "metadata": {},
     "output_type": "execute_result"
    }
   ],
   "source": [
    "df_rf_feat02.sort_values(by='feature_importances_', ascending=False).head(50)"
   ]
  },
  {
   "cell_type": "markdown",
   "metadata": {},
   "source": [
    "#### Model 9 - RF, custom stop words, GridsearchCV"
   ]
  },
  {
   "cell_type": "code",
   "execution_count": 554,
   "metadata": {},
   "outputs": [],
   "source": [
    "# initialize\n",
    "cvec = CountVectorizer(analyzer = \"word\",                        \n",
    "                         tokenizer = None, \n",
    "                         preprocessor = None,\n",
    "                         stop_words = stop_words, \n",
    "                         max_features = 10000)\n",
    "rf = RandomForestClassifier(random_state = 42)\n",
    "\n",
    "pipe = Pipeline([\n",
    "    ('cvec', cvec),\n",
    "    ('rf', rf)\n",
    "])"
   ]
  },
  {
   "cell_type": "code",
   "execution_count": 555,
   "metadata": {},
   "outputs": [
    {
     "name": "stdout",
     "output_type": "stream",
     "text": [
      "There are 10000 features in the model.\n",
      "train score: 0.9952738990332975\n",
      "test score: 0.7907542579075426\n"
     ]
    }
   ],
   "source": [
    "# baseline Random forest\n",
    "\n",
    "pipe.fit(X_train2, y_train2)\n",
    "print(\"There are {} features in the model.\".format(len(cvec.get_feature_names())))\n",
    "print('train score:', pipe.score(X_train2, y_train2))\n",
    "print('test score:', pipe.score(X_test2, y_test2))"
   ]
  },
  {
   "cell_type": "code",
   "execution_count": 507,
   "metadata": {},
   "outputs": [
    {
     "name": "stdout",
     "output_type": "stream",
     "text": [
      "Fitting 3 folds for each of 54 candidates, totalling 162 fits\n"
     ]
    },
    {
     "name": "stderr",
     "output_type": "stream",
     "text": [
      "[Parallel(n_jobs=1)]: Using backend SequentialBackend with 1 concurrent workers.\n",
      "[Parallel(n_jobs=1)]: Done 162 out of 162 | elapsed:  3.8min finished\n"
     ]
    },
    {
     "name": "stdout",
     "output_type": "stream",
     "text": [
      "CPU times: user 58.8 s, sys: 1.88 s, total: 1min\n",
      "Wall time: 3min 52s\n"
     ]
    },
    {
     "data": {
      "text/plain": [
       "GridSearchCV(cv=3, error_score=nan,\n",
       "             estimator=Pipeline(memory=None,\n",
       "                                steps=[('cvec',\n",
       "                                        CountVectorizer(analyzer='word',\n",
       "                                                        binary=False,\n",
       "                                                        decode_error='strict',\n",
       "                                                        dtype=<class 'numpy.int64'>,\n",
       "                                                        encoding='utf-8',\n",
       "                                                        input='content',\n",
       "                                                        lowercase=True,\n",
       "                                                        max_df=1.0,\n",
       "                                                        max_features=10000,\n",
       "                                                        min_df=1,\n",
       "                                                        ngram_range=(1, 1),\n",
       "                                                        preprocessor=None,\n",
       "                                                        stop_words=frozenset({'a',\n",
       "                                                                              'about',\n",
       "                                                                              'above',\n",
       "                                                                              'across',\n",
       "                                                                              'a...\n",
       "                                                               n_estimators=100,\n",
       "                                                               n_jobs=None,\n",
       "                                                               oob_score=False,\n",
       "                                                               random_state=42,\n",
       "                                                               verbose=0,\n",
       "                                                               warm_start=False))],\n",
       "                                verbose=False),\n",
       "             iid='deprecated', n_jobs=None,\n",
       "             param_grid={'cvec__max_features': [5000, 10000, 20000],\n",
       "                         'cvec__ngram_range': [(1, 1), (1, 2)],\n",
       "                         'rf__max_depth': [None, 10, 20],\n",
       "                         'rf__n_estimators': [10, 20, 30]},\n",
       "             pre_dispatch='2*n_jobs', refit=True, return_train_score=False,\n",
       "             scoring=None, verbose=1)"
      ]
     },
     "execution_count": 507,
     "metadata": {},
     "output_type": "execute_result"
    }
   ],
   "source": [
    "%%time\n",
    "\n",
    "# gridsearchCV tests cross-validation for the parameters\n",
    "# pipe\n",
    "\n",
    "params = {\n",
    "#     'cvec__stop_words': [None, 'english'], \n",
    "    'cvec__max_features': [5000, 10000, 20000], \n",
    "    'cvec__ngram_range': [(1, 1), (1, 2)], \n",
    "    'rf__n_estimators': [10, 20, 30],\n",
    "    'rf__max_depth': [None, 10, 20]\n",
    "}\n",
    "\n",
    "gs = GridSearchCV(pipe, param_grid=params, cv=3, verbose=1)\n",
    "gs.fit(X_train, y_train)"
   ]
  },
  {
   "cell_type": "code",
   "execution_count": 508,
   "metadata": {},
   "outputs": [
    {
     "name": "stdout",
     "output_type": "stream",
     "text": [
      "gs.best_score_ 0.7560262965668372\n",
      "gs.best_params_ {'cvec__max_features': 20000, 'cvec__ngram_range': (1, 2), 'rf__max_depth': None, 'rf__n_estimators': 30}\n",
      "gs.score(X_test, y_test) 0.772992700729927\n"
     ]
    }
   ],
   "source": [
    "print('gs.best_score_', gs.best_score_)\n",
    "print('gs.best_params_', gs.best_params_)\n",
    "print('gs.score(X_test, y_test)', gs.score(X_test, y_test))"
   ]
  },
  {
   "cell_type": "markdown",
   "metadata": {},
   "source": [
    "# Part 3: Naive Bayes"
   ]
  },
  {
   "cell_type": "code",
   "execution_count": 509,
   "metadata": {},
   "outputs": [
    {
     "data": {
      "text/html": [
       "<div>\n",
       "<style scoped>\n",
       "    .dataframe tbody tr th:only-of-type {\n",
       "        vertical-align: middle;\n",
       "    }\n",
       "\n",
       "    .dataframe tbody tr th {\n",
       "        vertical-align: top;\n",
       "    }\n",
       "\n",
       "    .dataframe thead th {\n",
       "        text-align: right;\n",
       "    }\n",
       "</style>\n",
       "<table border=\"1\" class=\"dataframe\">\n",
       "  <thead>\n",
       "    <tr style=\"text-align: right;\">\n",
       "      <th></th>\n",
       "      <th>body</th>\n",
       "      <th>target</th>\n",
       "      <th>word_count</th>\n",
       "      <th>char_count</th>\n",
       "      <th>sentence_count</th>\n",
       "      <th>avg_word_length</th>\n",
       "      <th>avg_sentence_length</th>\n",
       "    </tr>\n",
       "  </thead>\n",
       "  <tbody>\n",
       "    <tr>\n",
       "      <th>0</th>\n",
       "      <td>removed</td>\n",
       "      <td>1</td>\n",
       "      <td>2</td>\n",
       "      <td>7</td>\n",
       "      <td>1</td>\n",
       "      <td>3.5</td>\n",
       "      <td>2.0</td>\n",
       "    </tr>\n",
       "  </tbody>\n",
       "</table>\n",
       "</div>"
      ],
      "text/plain": [
       "       body  target  word_count  char_count  sentence_count  avg_word_length  \\\n",
       "0  removed        1           2           7               1              3.5   \n",
       "\n",
       "   avg_sentence_length  \n",
       "0                  2.0  "
      ]
     },
     "execution_count": 509,
     "metadata": {},
     "output_type": "execute_result"
    }
   ],
   "source": [
    "df.head(1)"
   ]
  },
  {
   "cell_type": "code",
   "execution_count": null,
   "metadata": {},
   "outputs": [],
   "source": []
  },
  {
   "cell_type": "code",
   "execution_count": 510,
   "metadata": {},
   "outputs": [],
   "source": [
    "# Split data into X and y\n",
    "X = df.body\n",
    "y = df.target"
   ]
  },
  {
   "cell_type": "code",
   "execution_count": 511,
   "metadata": {},
   "outputs": [
    {
     "data": {
      "text/html": [
       "<div>\n",
       "<style scoped>\n",
       "    .dataframe tbody tr th:only-of-type {\n",
       "        vertical-align: middle;\n",
       "    }\n",
       "\n",
       "    .dataframe tbody tr th {\n",
       "        vertical-align: top;\n",
       "    }\n",
       "\n",
       "    .dataframe thead th {\n",
       "        text-align: right;\n",
       "    }\n",
       "</style>\n",
       "<table border=\"1\" class=\"dataframe\">\n",
       "  <thead>\n",
       "    <tr style=\"text-align: right;\">\n",
       "      <th></th>\n",
       "      <th>body</th>\n",
       "      <th>target</th>\n",
       "      <th>word_count</th>\n",
       "      <th>char_count</th>\n",
       "      <th>sentence_count</th>\n",
       "      <th>avg_word_length</th>\n",
       "      <th>avg_sentence_length</th>\n",
       "    </tr>\n",
       "  </thead>\n",
       "  <tbody>\n",
       "    <tr>\n",
       "      <th>0</th>\n",
       "      <td>removed</td>\n",
       "      <td>1</td>\n",
       "      <td>2</td>\n",
       "      <td>7</td>\n",
       "      <td>1</td>\n",
       "      <td>3.500000</td>\n",
       "      <td>2.0</td>\n",
       "    </tr>\n",
       "    <tr>\n",
       "      <th>1</th>\n",
       "      <td>the name like rex not ash nickname little vide...</td>\n",
       "      <td>1</td>\n",
       "      <td>38</td>\n",
       "      <td>179</td>\n",
       "      <td>1</td>\n",
       "      <td>4.710526</td>\n",
       "      <td>38.0</td>\n",
       "    </tr>\n",
       "    <tr>\n",
       "      <th>2</th>\n",
       "      <td>probably the demand insane</td>\n",
       "      <td>1</td>\n",
       "      <td>5</td>\n",
       "      <td>23</td>\n",
       "      <td>1</td>\n",
       "      <td>4.600000</td>\n",
       "      <td>5.0</td>\n",
       "    </tr>\n",
       "    <tr>\n",
       "      <th>3</th>\n",
       "      <td>these image emanate 2006 2014 and 2020</td>\n",
       "      <td>1</td>\n",
       "      <td>8</td>\n",
       "      <td>32</td>\n",
       "      <td>1</td>\n",
       "      <td>4.000000</td>\n",
       "      <td>8.0</td>\n",
       "    </tr>\n",
       "    <tr>\n",
       "      <th>4</th>\n",
       "      <td>not having all the crazed medium attention act...</td>\n",
       "      <td>1</td>\n",
       "      <td>11</td>\n",
       "      <td>60</td>\n",
       "      <td>1</td>\n",
       "      <td>5.454545</td>\n",
       "      <td>11.0</td>\n",
       "    </tr>\n",
       "    <tr>\n",
       "      <th>5</th>\n",
       "      <td>lame</td>\n",
       "      <td>1</td>\n",
       "      <td>2</td>\n",
       "      <td>4</td>\n",
       "      <td>1</td>\n",
       "      <td>2.000000</td>\n",
       "      <td>2.0</td>\n",
       "    </tr>\n",
       "    <tr>\n",
       "      <th>6</th>\n",
       "      <td>look like bought some hair</td>\n",
       "      <td>1</td>\n",
       "      <td>6</td>\n",
       "      <td>22</td>\n",
       "      <td>1</td>\n",
       "      <td>3.666667</td>\n",
       "      <td>6.0</td>\n",
       "    </tr>\n",
       "    <tr>\n",
       "      <th>7</th>\n",
       "      <td>itt most people think take this shit</td>\n",
       "      <td>1</td>\n",
       "      <td>8</td>\n",
       "      <td>30</td>\n",
       "      <td>1</td>\n",
       "      <td>3.750000</td>\n",
       "      <td>8.0</td>\n",
       "    </tr>\n",
       "    <tr>\n",
       "      <th>8</th>\n",
       "      <td>dude whoa feel out the loop when did the last ...</td>\n",
       "      <td>1</td>\n",
       "      <td>18</td>\n",
       "      <td>72</td>\n",
       "      <td>1</td>\n",
       "      <td>4.000000</td>\n",
       "      <td>18.0</td>\n",
       "    </tr>\n",
       "    <tr>\n",
       "      <th>9</th>\n",
       "      <td>would say most like howard hughes robert house</td>\n",
       "      <td>1</td>\n",
       "      <td>9</td>\n",
       "      <td>39</td>\n",
       "      <td>1</td>\n",
       "      <td>4.333333</td>\n",
       "      <td>9.0</td>\n",
       "    </tr>\n",
       "  </tbody>\n",
       "</table>\n",
       "</div>"
      ],
      "text/plain": [
       "                                                body  target  word_count  \\\n",
       "0                                           removed        1           2   \n",
       "1  the name like rex not ash nickname little vide...       1          38   \n",
       "2                        probably the demand insane        1           5   \n",
       "3            these image emanate 2006 2014 and 2020        1           8   \n",
       "4  not having all the crazed medium attention act...       1          11   \n",
       "5                                              lame        1           2   \n",
       "6                        look like bought some hair        1           6   \n",
       "7              itt most people think take this shit        1           8   \n",
       "8  dude whoa feel out the loop when did the last ...       1          18   \n",
       "9    would say most like howard hughes robert house        1           9   \n",
       "\n",
       "   char_count  sentence_count  avg_word_length  avg_sentence_length  \n",
       "0           7               1         3.500000                  2.0  \n",
       "1         179               1         4.710526                 38.0  \n",
       "2          23               1         4.600000                  5.0  \n",
       "3          32               1         4.000000                  8.0  \n",
       "4          60               1         5.454545                 11.0  \n",
       "5           4               1         2.000000                  2.0  \n",
       "6          22               1         3.666667                  6.0  \n",
       "7          30               1         3.750000                  8.0  \n",
       "8          72               1         4.000000                 18.0  \n",
       "9          39               1         4.333333                  9.0  "
      ]
     },
     "execution_count": 511,
     "metadata": {},
     "output_type": "execute_result"
    }
   ],
   "source": [
    "df.head(10)"
   ]
  },
  {
   "cell_type": "code",
   "execution_count": 512,
   "metadata": {},
   "outputs": [],
   "source": [
    "# train/test split\n",
    "# stratify y just in case\n",
    "# test_size : default = 0.25\n",
    "# shuffle: default = True\n",
    "\n",
    "X_train, X_test, y_train, y_test = train_test_split(X,\n",
    "                                                    y,\n",
    "                                                    test_size=0.25,\n",
    "                                                    random_state=42,\n",
    "                                                    stratify=y)"
   ]
  },
  {
   "cell_type": "markdown",
   "metadata": {},
   "source": [
    "#### Model 10 - Bayes, MultinomialNB classifier, custom stop words, GridSearchCV"
   ]
  },
  {
   "cell_type": "markdown",
   "metadata": {},
   "source": [
    "**baseline**"
   ]
  },
  {
   "cell_type": "code",
   "execution_count": 513,
   "metadata": {},
   "outputs": [],
   "source": [
    "# set up pipeline, using mnb\n",
    "\n",
    "# initialize\n",
    "cvec = CountVectorizer(stop_words = stop_words)\n",
    "mnb = MultinomialNB()\n",
    "\n",
    "pipe10 = Pipeline([\n",
    "    ('cvec', cvec),\n",
    "    ('mnb', mnb)\n",
    "])"
   ]
  },
  {
   "cell_type": "code",
   "execution_count": 514,
   "metadata": {},
   "outputs": [
    {
     "name": "stdout",
     "output_type": "stream",
     "text": [
      "Multinomial naive Bayes classifier\n",
      "Train score: 0.8654, Test score 0.7175\n",
      "Number of features: 11324\n"
     ]
    }
   ],
   "source": [
    "from sklearn.naive_bayes import MultinomialNB\n",
    "from sklearn.pipeline import make_pipeline\n",
    "from sklearn.metrics import roc_auc_score\n",
    "\n",
    "\n",
    "mnb_model = make_pipeline(\n",
    "    CountVectorizer(stop_words='english'),\n",
    "    MultinomialNB()\n",
    ")\n",
    "cv_scores = cross_val_score(mnb_model, X_train, y_train, cv=5, scoring='roc_auc')\n",
    "mnb_model.fit(X_train, y_train)\n",
    "y_pred = mnb_model.predict(X_test)\n",
    "print('Multinomial naive Bayes classifier')\n",
    "print('Train score: {}, Test score {}'.format(round(cv_scores.mean(), 4), round(roc_auc_score(y_test, y_pred), 4)))\n",
    "print('Number of features: {}'.format(len(mnb_model.named_steps.countvectorizer.get_feature_names())))"
   ]
  },
  {
   "cell_type": "code",
   "execution_count": 515,
   "metadata": {},
   "outputs": [
    {
     "name": "stdout",
     "output_type": "stream",
     "text": [
      "Multinomial naive Bayes classifier\n",
      "Train score: 0.8654, Test score 0.7175\n",
      "Number of features: 11324\n"
     ]
    }
   ],
   "source": [
    "#code help from https://www.programcreek.com/python/example/85919/sklearn.naive_bayes.MultinomialNB\n",
    "\n",
    "# Fit and predict a multinomial naive Bayes classifier (suits with discrete features)\n",
    "from sklearn.naive_bayes import MultinomialNB\n",
    "\n",
    "mnb_model = make_pipeline(\n",
    "    CountVectorizer(stop_words='english'),\n",
    "    MultinomialNB()\n",
    ")\n",
    "cv_scores = cross_val_score(mnb_model, X_train, y_train, cv=5, scoring='roc_auc')\n",
    "mnb_model.fit(X_train, y_train)\n",
    "y_pred = mnb_model.predict(X_test)\n",
    "print('Multinomial naive Bayes classifier')\n",
    "print('Train score: {}, Test score {}'.format(round(cv_scores.mean(), 4), round(roc_auc_score(y_test, y_pred), 4)))\n",
    "print('Number of features: {}'.format(len(mnb_model.named_steps.countvectorizer.get_feature_names())))"
   ]
  },
  {
   "cell_type": "code",
   "execution_count": 516,
   "metadata": {},
   "outputs": [
    {
     "name": "stdout",
     "output_type": "stream",
     "text": [
      "Fitting 5 folds for each of 36 candidates, totalling 180 fits\n"
     ]
    },
    {
     "name": "stderr",
     "output_type": "stream",
     "text": [
      "[Parallel(n_jobs=-1)]: Using backend LokyBackend with 4 concurrent workers.\n",
      "[Parallel(n_jobs=-1)]: Done  42 tasks      | elapsed:  7.7min\n"
     ]
    },
    {
     "name": "stdout",
     "output_type": "stream",
     "text": [
      "Best params: {'cvec__max_df': 0.5, 'cvec__ngram_range': (1, 1), 'cvec__stop_words': None, 'tfidf': None}\n",
      "Train score: 0.8654, Test score 0.7993\n",
      "Number of features: 11586\n"
     ]
    },
    {
     "name": "stderr",
     "output_type": "stream",
     "text": [
      "[Parallel(n_jobs=-1)]: Done 180 out of 180 | elapsed:  7.9min finished\n"
     ]
    }
   ],
   "source": [
    "#code help from https://www.ritchieng.com/machine-learning-multinomial-naive-bayes-vectorization/\n",
    "# Explore parameters for vectorizer\n",
    "from sklearn.pipeline import Pipeline\n",
    "from sklearn.feature_extraction.text import TfidfTransformer\n",
    "from sklearn.model_selection import GridSearchCV\n",
    "\n",
    "pipe = Pipeline([\n",
    "    ('cvec', CountVectorizer()),\n",
    "    ('tfidf', None),\n",
    "    ('mnb', MultinomialNB())\n",
    "])\n",
    "\n",
    "params = dict(\n",
    "    cvec__stop_words = [None, 'english'],\n",
    "    cvec__max_df = (0.5, 0.75, 1.0),\n",
    "    cvec__ngram_range = [(1, 1), (2, 2)],\n",
    "    tfidf = [None, TfidfTransformer(use_idf=True), TfidfTransformer(use_idf=False)]\n",
    ")\n",
    "\n",
    "gs = GridSearchCV(pipe, params, cv=5, scoring='roc_auc', iid=False, n_jobs=-1, verbose=1)\n",
    "gs.fit(X_train, y_train)\n",
    "print(\"Best params: {}\".format(gs.best_params_))\n",
    "print('Train score: {}, Test score {}'.format(round(gs.best_score_, 4), round(gs.best_estimator_.score(X_test, y_test), 4)))\n",
    "print('Number of features: {}'.format(len(gs.best_estimator_.named_steps.cvec.get_feature_names())))"
   ]
  },
  {
   "cell_type": "code",
   "execution_count": 517,
   "metadata": {},
   "outputs": [
    {
     "name": "stdout",
     "output_type": "stream",
     "text": [
      "Fitting 5 folds for each of 20 candidates, totalling 100 fits\n"
     ]
    },
    {
     "name": "stderr",
     "output_type": "stream",
     "text": [
      "[Parallel(n_jobs=-1)]: Using backend LokyBackend with 4 concurrent workers.\n",
      "[Parallel(n_jobs=-1)]: Done  42 tasks      | elapsed:    3.3s\n",
      "[Parallel(n_jobs=-1)]: Done 100 out of 100 | elapsed:    7.0s finished\n"
     ]
    },
    {
     "name": "stdout",
     "output_type": "stream",
     "text": [
      "Best params: {'cvec__stop_words': 'english', 'mnb__alpha': 0.24210526315789474, 'tfidf': TfidfTransformer(norm='l2', smooth_idf=True, sublinear_tf=False, use_idf=True)}\n",
      "Train score: 0.8664, Test score 0.7927\n",
      "Number of features: 11324\n"
     ]
    }
   ],
   "source": [
    "#code help from https://www.ritchieng.com/machine-learning-multinomial-naive-bayes-vectorization/\n",
    "# Tune hyperparameter for multinomial naive Bayes\n",
    "params = dict(\n",
    "    cvec__stop_words = ['english'],\n",
    "    tfidf = [TfidfTransformer(use_idf=True)],\n",
    "    mnb__alpha = np.linspace(0.1, 1.0, 20)\n",
    ")\n",
    "\n",
    "gs = GridSearchCV(pipe, params, cv=5, scoring='roc_auc', iid=False, n_jobs=-1, verbose=1)\n",
    "gs.fit(X_train, y_train)\n",
    "print(\"Best params: {}\".format(gs.best_params_))\n",
    "print('Train score: {}, Test score {}'.format(round(gs.best_score_, 4), round(gs.best_estimator_.score(X_test, y_test), 4)))\n",
    "print('Number of features: {}'.format(len(gs.best_estimator_.named_steps.cvec.get_feature_names())))"
   ]
  },
  {
   "cell_type": "code",
   "execution_count": null,
   "metadata": {},
   "outputs": [],
   "source": []
  },
  {
   "cell_type": "code",
   "execution_count": 558,
   "metadata": {},
   "outputs": [
    {
     "data": {
      "text/html": [
       "<div>\n",
       "<style scoped>\n",
       "    .dataframe tbody tr th:only-of-type {\n",
       "        vertical-align: middle;\n",
       "    }\n",
       "\n",
       "    .dataframe tbody tr th {\n",
       "        vertical-align: top;\n",
       "    }\n",
       "\n",
       "    .dataframe thead th {\n",
       "        text-align: right;\n",
       "    }\n",
       "</style>\n",
       "<table border=\"1\" class=\"dataframe\">\n",
       "  <thead>\n",
       "    <tr style=\"text-align: right;\">\n",
       "      <th></th>\n",
       "      <th>predict /r/elonmusk</th>\n",
       "      <th>predict /r/Futurology</th>\n",
       "    </tr>\n",
       "  </thead>\n",
       "  <tbody>\n",
       "    <tr>\n",
       "      <th>actual /r/elonmusk</th>\n",
       "      <td>876</td>\n",
       "      <td>68</td>\n",
       "    </tr>\n",
       "    <tr>\n",
       "      <th>actual /r/Futurology</th>\n",
       "      <td>210</td>\n",
       "      <td>216</td>\n",
       "    </tr>\n",
       "  </tbody>\n",
       "</table>\n",
       "</div>"
      ],
      "text/plain": [
       "                      predict /r/elonmusk  predict /r/Futurology\n",
       "actual /r/elonmusk                    876                     68\n",
       "actual /r/Futurology                  210                    216"
      ]
     },
     "execution_count": 558,
     "metadata": {},
     "output_type": "execute_result"
    }
   ],
   "source": [
    "# Generate a confusion matrix\n",
    "from sklearn.metrics import confusion_matrix\n",
    "y_pred = mnb_model.predict(X_test)\n",
    "\n",
    "pd.DataFrame(confusion_matrix(y_test, y_pred),\n",
    "            columns=['predict /r/elonmusk', 'predict /r/Futurology'],\n",
    "            index=['actual /r/elonmusk', 'actual /r/Futurology'])"
   ]
  },
  {
   "cell_type": "code",
   "execution_count": 559,
   "metadata": {},
   "outputs": [
    {
     "name": "stdout",
     "output_type": "stream",
     "text": [
      "Accuracy: 0.7971\n",
      "Misclassification rate: 0.2029\n",
      "Precision: 0.7606\n",
      "Recall: 0.507\n",
      "Specificity: 0.928\n"
     ]
    }
   ],
   "source": [
    "#code help from https://scikit-learn.org/stable/modules/model_evaluation.html\n",
    "# Examine some classification metrics \n",
    "tn, fp, fn, tp = confusion_matrix(y_test, y_pred).ravel()\n",
    "print('Accuracy: {}'.format(round((tp+tn)/(tp+fp+tn+fn),4)))\n",
    "print('Misclassification rate: {}'.format(round((fp+fn)/(tp+fp+tn+fn),4)))\n",
    "print('Precision: {}'.format(round(tp/(tp+fp),4)))\n",
    "print('Recall: {}'.format(round(tp/(tp+fn),4)))\n",
    "print('Specificity: {}'.format(round(tn/(tn+fp),4)))"
   ]
  },
  {
   "cell_type": "markdown",
   "metadata": {},
   "source": [
    "- Our model correctly predicts 79.71% of observations.\n",
    "- Among posts that our model predicted to be in /r/Futurology, we have 76.06% of them correctly classified.\n",
    "- Among posts that are in /r/Futurology, our model has 51% of them correctly classified.\n",
    "- Among posts that are in /r/elonmusk, our model has 92.8% of them correctly classified."
   ]
  },
  {
   "cell_type": "code",
   "execution_count": 540,
   "metadata": {},
   "outputs": [],
   "source": [
    "#Average the y_test_hat vectors to see if we can improve the score\n",
    "#y_test_hat_agg = sum(df.loc['y_test_hat',:])\n",
    "#y_test_hat = np.round(y_test_hat_agg/df.shape[1])\n",
    "#print(\"The accuracy score of the average test solutions is {:.2f}%.\".format(accuracy_score(y_test,y_test_hat)*100))"
   ]
  },
  {
   "cell_type": "code",
   "execution_count": null,
   "metadata": {},
   "outputs": [],
   "source": [
    "# Examine incorrectly classified posts\n",
    "df_pred = pd.DataFrame({\n",
    "    'X_test': X_test,\n",
    "    'y_test': y_test,\n",
    "    'y_pred': y_pred\n",
    "})\n",
    "\n",
    "# Posts incorrectly predicted to be in /r/relationship_advice\n",
    "for i in df_pred[(df_pred.y_test - df_pred.y_pred) > 0]['X_test']:\n",
    "    print(i)\n",
    "    print('-'*20)"
   ]
  },
  {
   "cell_type": "markdown",
   "metadata": {},
   "source": [
    "#### Model 11 - Bayes, BernoulliNB classifier, custom stop words, GridSearchCV"
   ]
  },
  {
   "cell_type": "code",
   "execution_count": 523,
   "metadata": {},
   "outputs": [],
   "source": [
    "from sklearn.naive_bayes import BernoulliNB"
   ]
  },
  {
   "cell_type": "code",
   "execution_count": 524,
   "metadata": {},
   "outputs": [],
   "source": [
    "# set up pipeline, using mnb\n",
    "\n",
    "# initialize\n",
    "cvec = CountVectorizer(stop_words = stop_words)\n",
    "bnb = BernoulliNB(alpha=1.0, binarize=0.0)\n",
    "\n",
    "pipe11 = Pipeline([\n",
    "    ('cvec', cvec),\n",
    "    ('bnb', bnb)\n",
    "])"
   ]
  },
  {
   "cell_type": "code",
   "execution_count": 525,
   "metadata": {},
   "outputs": [
    {
     "name": "stdout",
     "output_type": "stream",
     "text": [
      "There are 11391 features in the model.\n",
      "train score: 1.0\n",
      "test score: 1.0\n"
     ]
    }
   ],
   "source": [
    "# baseline BernoulliNB model\n",
    "\n",
    "pipe11.fit(X_train3, y_train3)\n",
    "print(\"There are {} features in the model.\".format(len(cvec.get_feature_names())))\n",
    "print('train score:', pipe11.score(X_train3, y_train3))\n",
    "print('test score:', pipe11.score(X_test3, y_test3))"
   ]
  },
  {
   "cell_type": "code",
   "execution_count": 526,
   "metadata": {},
   "outputs": [
    {
     "data": {
      "text/plain": [
       "dict_keys(['alpha', 'binarize', 'class_prior', 'fit_prior'])"
      ]
     },
     "execution_count": 526,
     "metadata": {},
     "output_type": "execute_result"
    }
   ],
   "source": [
    "bnb.get_params().keys()"
   ]
  },
  {
   "cell_type": "code",
   "execution_count": 527,
   "metadata": {},
   "outputs": [
    {
     "name": "stdout",
     "output_type": "stream",
     "text": [
      "Fitting 3 folds for each of 5 candidates, totalling 15 fits\n"
     ]
    },
    {
     "name": "stderr",
     "output_type": "stream",
     "text": [
      "[Parallel(n_jobs=1)]: Using backend SequentialBackend with 1 concurrent workers.\n"
     ]
    },
    {
     "name": "stdout",
     "output_type": "stream",
     "text": [
      "CPU times: user 1.97 s, sys: 30.7 ms, total: 2 s\n",
      "Wall time: 2.34 s\n"
     ]
    },
    {
     "name": "stderr",
     "output_type": "stream",
     "text": [
      "[Parallel(n_jobs=1)]: Done  15 out of  15 | elapsed:    2.0s finished\n"
     ]
    },
    {
     "data": {
      "text/plain": [
       "GridSearchCV(cv=3, error_score=nan,\n",
       "             estimator=Pipeline(memory=None,\n",
       "                                steps=[('cvec',\n",
       "                                        CountVectorizer(analyzer='word',\n",
       "                                                        binary=False,\n",
       "                                                        decode_error='strict',\n",
       "                                                        dtype=<class 'numpy.int64'>,\n",
       "                                                        encoding='utf-8',\n",
       "                                                        input='content',\n",
       "                                                        lowercase=True,\n",
       "                                                        max_df=1.0,\n",
       "                                                        max_features=None,\n",
       "                                                        min_df=1,\n",
       "                                                        ngram_range=(1, 1),\n",
       "                                                        preprocessor=None,\n",
       "                                                        stop_words=frozenset({'a',\n",
       "                                                                              'about',\n",
       "                                                                              'above',\n",
       "                                                                              'across',\n",
       "                                                                              'af...\n",
       "                                                        token_pattern='(?u)\\\\b\\\\w\\\\w+\\\\b',\n",
       "                                                        tokenizer=None,\n",
       "                                                        vocabulary=None)),\n",
       "                                       ('bnb',\n",
       "                                        BernoulliNB(alpha=1.0, binarize=0.0,\n",
       "                                                    class_prior=None,\n",
       "                                                    fit_prior=True))],\n",
       "                                verbose=False),\n",
       "             iid='deprecated', n_jobs=None,\n",
       "             param_grid={'bnb__alpha': [0, 0.25, 0.5, 0.75, 1],\n",
       "                         'cvec__max_features': [10000],\n",
       "                         'cvec__ngram_range': [(1, 1)]},\n",
       "             pre_dispatch='2*n_jobs', refit=True, return_train_score=False,\n",
       "             scoring=None, verbose=1)"
      ]
     },
     "execution_count": 527,
     "metadata": {},
     "output_type": "execute_result"
    }
   ],
   "source": [
    "%%time\n",
    "\n",
    "# gridsearchCV tests cross-validation for the parameters\n",
    "\n",
    "params = {\n",
    "#     'cvec__stop_words': [None, 'english'], \n",
    "#     'cvec__max_features': [5000, 10000, 20000], \n",
    "#     'cvec__ngram_range': [(1, 1), (1, 2)]\n",
    "    'cvec__max_features': [10000], \n",
    "    'cvec__ngram_range': [(1, 1)], \n",
    "    'bnb__alpha': [0, 0.25, 0.5, 0.75, 1]\n",
    "    # min_df\n",
    "    # max_df\n",
    "    #binarizer__threshold': np.logspace(0, 5, 20) #use for BernoulliNB\n",
    "}\n",
    "gs2 = GridSearchCV(pipe11, param_grid=params, cv=3, verbose=1)\n",
    "gs2.fit(X_train, y_train)"
   ]
  },
  {
   "cell_type": "code",
   "execution_count": 557,
   "metadata": {},
   "outputs": [
    {
     "name": "stdout",
     "output_type": "stream",
     "text": [
      "Bernoulli naive Bayes classifier\n",
      "Train score: 0.8541, Test score 0.768\n",
      "Number of features: 11324\n"
     ]
    }
   ],
   "source": [
    "#code help from https://towardsdatascience.com/understanding-data-science-classification-metrics-in-scikit-learn-in-python-3bc336865019\n",
    "#Tuning model\n",
    "\n",
    "bnb_model = make_pipeline(\n",
    "    CountVectorizer(stop_words='english'),\n",
    "    BernoulliNB()\n",
    ")\n",
    "cv_scores = cross_val_score(bnb_model, X_train, y_train, cv=5, scoring='roc_auc')\n",
    "bnb_model.fit(X_train, y_train)\n",
    "y_pred = bnb_model.predict(X_test)\n",
    "print('Bernoulli naive Bayes classifier')\n",
    "print('Train score: {}, Test score {}'.format(round(cv_scores.mean(), 4), round(roc_auc_score(y_test, y_pred), 4)))\n",
    "print('Number of features: {}'.format(len(bnb_model.named_steps.countvectorizer.get_feature_names())))"
   ]
  },
  {
   "cell_type": "code",
   "execution_count": 528,
   "metadata": {},
   "outputs": [
    {
     "name": "stdout",
     "output_type": "stream",
     "text": [
      "gs2.best_score_ 0.7888970051132214\n",
      "gs2.best_params_ {'bnb__alpha': 1, 'cvec__max_features': 10000, 'cvec__ngram_range': (1, 1)}\n",
      "gs2.score(X_test, y_test) 0.7394160583941606\n"
     ]
    }
   ],
   "source": [
    "print('gs2.best_score_', gs2.best_score_)\n",
    "print('gs2.best_params_', gs2.best_params_)\n",
    "print('gs2.score(X_test, y_test)', gs2.score(X_test, y_test))"
   ]
  },
  {
   "cell_type": "code",
   "execution_count": 529,
   "metadata": {},
   "outputs": [
    {
     "data": {
      "text/plain": [
       "array([[-4.79457444, -7.62778779, -7.62778779, ..., -7.22232268,\n",
       "        -7.62778779, -7.62778779],\n",
       "       [-0.69314718, -0.69314718, -0.69314718, ..., -0.69314718,\n",
       "        -0.69314718, -0.69314718]])"
      ]
     },
     "execution_count": 529,
     "metadata": {},
     "output_type": "execute_result"
    }
   ],
   "source": [
    "bnb.feature_log_prob_"
   ]
  },
  {
   "cell_type": "markdown",
   "metadata": {},
   "source": [
    "# Part 4: Function to run gridsearch on anything we want "
   ]
  },
  {
   "cell_type": "code",
   "execution_count": 530,
   "metadata": {},
   "outputs": [],
   "source": [
    "#code help from https://hpc-carpentry.github.io/hpc-python/05-functions/\n",
    "#code help from https://medium.com/@kadirmalak/how-to-pipe-chain-functions-in-python-137c36150c1\n",
    "#code help from https://medium.com/@ManningBooks/function-pipelines-for-mapping-complex-transformations-66b09bf29c68\n",
    "#https://medium.com/@yanhann10/a-brief-view-of-machine-learning-pipeline-in-python-5f50b941fca8\n",
    "\n",
    "def create_pipline(items, use_params, X_train, X_test, y_train, y_test):\n",
    "\n",
    "    # Add a pipe, add a param !\n",
    "    pipe_items = {\n",
    "        'cv': CountVectorizer(),\n",
    "        'tv': TfidfVectorizer(),\n",
    "        'hv': HashingVectorizer(),\n",
    "\n",
    "        'ss' : StandardScaler(),\n",
    "        'pf' : PolynomialFeatures(),\n",
    "\n",
    "        'lr' : LogisticRegression(),\n",
    "        'bnb' : BernoulliNB(),\n",
    "        'mnb' : MultinomialNB(),\n",
    "        'rf' : RandomForestClassifier(),\n",
    "        'gb' : GradientBoostingClassifier(),\n",
    "        'ab' : AdaBoostClassifier(),\n",
    "        'svc' : SVC(),\n",
    "        'knn' : KNeighborsClassifier()\n",
    "    }\n",
    "\n",
    "    # Include at least one param for each pipe item\n",
    "    param_items = {\n",
    "        'cv' : {\n",
    "            'cv__stop_words' : [None, 'english'],\n",
    "            'cv__ngram_range' : [(1,1), (1,2)],\n",
    "            'cv__max_df' : [1.0, 0.95],\n",
    "            'cv__min_df' : [1],\n",
    "            'cv__max_features' : [2000, 2250, 2500, 2750]\n",
    "        },\n",
    "        'tv' : {\n",
    "            'tv__stop_words' : [None, 'english'],\n",
    "            'tv__ngram_range' : [(1,1), (1,2)],\n",
    "            'tv__max_df' : [1.0, 0.95],\n",
    "            'tv__min_df' : [1, 2],\n",
    "            'tv__max_features' : [2000, 2250, 2500, 2750]\n",
    "        },\n",
    "        'hv' : {\n",
    "            'hv__stop_words' : [None, 'english'],\n",
    "            'hv__ngram_range' : [(1,1), (1,2)]\n",
    "        },\n",
    "        'ss' : {\n",
    "            'ss__with_mean' : [False]\n",
    "        },\n",
    "        'pf' : {\n",
    "            'pf__degree' : [2]\n",
    "        },\n",
    "        'lr' : {\n",
    "            'lr__C' : [1, .05],\n",
    "            'lr__penalty' : ['l2']\n",
    "        },\n",
    "        'bnb' : {\n",
    "            'bnb__alpha' : [1.0, 1.5, 1.8, 2.0]\n",
    "        },\n",
    "        'mnb' : {\n",
    "            'mnb__alpha' : [0.8, 1.0, 1.2]\n",
    "        },\n",
    "        'rf' : {\n",
    "            'rf__n_estimators' : [8, 10, 15]\n",
    "        },\n",
    "        'gb' : {\n",
    "            'gb__n_estimators' : [80, 100, 120]\n",
    "        },\n",
    "        'ab' : {\n",
    "            'ab__n_estimators' : [75, 50, 125]\n",
    "        },\n",
    "        'svc' : {\n",
    "            'svc__kernel' : ['linear','poly']\n",
    "        },\n",
    "        'knn' : {\n",
    "            'knn__n_neighbors' : [25,35,45]\n",
    "        }\n",
    "    }\n",
    "\n",
    "    # Create the parameters for GridSearch\n",
    "    params = dict()\n",
    "    if use_params:\n",
    "        for i in items:\n",
    "            for p in param_items[i]:\n",
    "                params[p] = param_items[i][p]\n",
    "\n",
    "    # Create the pipeline\n",
    "    pipe_list = [(i,pipe_items[i]) for i in items]\n",
    "    print(\"Using:\")\n",
    "    for p in pipe_list:\n",
    "        print(\"\\t\" + str(p[1]).split('(')[0])\n",
    "    pipe = Pipeline(pipe_list)\n",
    "\n",
    "    # Grid search\n",
    "    gs = GridSearchCV(pipe, param_grid=params, verbose=1)\n",
    "    gs.fit(X_train, y_train)\n",
    "\n",
    "    # Print the results\n",
    "    train_params = gs.best_params_\n",
    "    train_score = gs.best_score_\n",
    "    y_test_hat = gs.predict(X_test)\n",
    "    test_score = gs.score(X_test, y_test)\n",
    "\n",
    "    for k in train_params:\n",
    "        print(\"{}: {}\".format(k,train_params[k]))\n",
    "\n",
    "    print(\"Train score: {} Test score {}\".format(train_score, test_score))\n",
    "    print(\"\")\n",
    "\n",
    "    return train_score, test_score, y_test_hat, train_params"
   ]
  },
  {
   "cell_type": "code",
   "execution_count": 531,
   "metadata": {},
   "outputs": [],
   "source": [
    "from itertools import combinations\n",
    "from sklearn.feature_extraction.text import HashingVectorizer\n",
    "from sklearn.preprocessing import StandardScaler, PolynomialFeatures\n",
    "from sklearn.naive_bayes import MultinomialNB, BernoulliNB\n",
    "from sklearn.svm import SVC\n",
    "from sklearn.neighbors import KNeighborsClassifier"
   ]
  },
  {
   "cell_type": "code",
   "execution_count": 532,
   "metadata": {},
   "outputs": [
    {
     "name": "stdout",
     "output_type": "stream",
     "text": [
      "Using:\n",
      "\tCountVectorizer\n",
      "\tLogisticRegression\n",
      "Fitting 5 folds for each of 64 candidates, totalling 320 fits\n"
     ]
    },
    {
     "name": "stderr",
     "output_type": "stream",
     "text": [
      "[Parallel(n_jobs=1)]: Using backend SequentialBackend with 1 concurrent workers.\n",
      "[Parallel(n_jobs=1)]: Done 320 out of 320 | elapsed:  1.5min finished\n"
     ]
    },
    {
     "name": "stdout",
     "output_type": "stream",
     "text": [
      "cv__max_df: 1.0\n",
      "cv__max_features: 2750\n",
      "cv__min_df: 1\n",
      "cv__ngram_range: (1, 1)\n",
      "cv__stop_words: None\n",
      "lr__C: 1\n",
      "lr__penalty: l2\n",
      "Train score: 0.7857280451410806 Test score 0.7824817518248175\n",
      "\n",
      "Using:\n",
      "\tCountVectorizer\n",
      "\tBernoulliNB\n",
      "Fitting 5 folds for each of 128 candidates, totalling 640 fits\n"
     ]
    },
    {
     "name": "stderr",
     "output_type": "stream",
     "text": [
      "[Parallel(n_jobs=1)]: Using backend SequentialBackend with 1 concurrent workers.\n",
      "[Parallel(n_jobs=1)]: Done 640 out of 640 | elapsed:  2.4min finished\n",
      "[Parallel(n_jobs=1)]: Using backend SequentialBackend with 1 concurrent workers.\n"
     ]
    },
    {
     "name": "stdout",
     "output_type": "stream",
     "text": [
      "bnb__alpha: 2.0\n",
      "cv__max_df: 1.0\n",
      "cv__max_features: 2750\n",
      "cv__min_df: 1\n",
      "cv__ngram_range: (1, 1)\n",
      "cv__stop_words: english\n",
      "Train score: 0.6985641508930714 Test score 0.6744525547445256\n",
      "\n",
      "Using:\n",
      "\tCountVectorizer\n",
      "\tMultinomialNB\n",
      "Fitting 5 folds for each of 96 candidates, totalling 480 fits\n"
     ]
    },
    {
     "name": "stderr",
     "output_type": "stream",
     "text": [
      "[Parallel(n_jobs=1)]: Done 480 out of 480 | elapsed:  1.9min finished\n"
     ]
    },
    {
     "name": "stdout",
     "output_type": "stream",
     "text": [
      "cv__max_df: 1.0\n",
      "cv__max_features: 2750\n",
      "cv__min_df: 1\n",
      "cv__ngram_range: (1, 1)\n",
      "cv__stop_words: None\n",
      "mnb__alpha: 1.2\n",
      "Train score: 0.7786703059292122 Test score 0.775912408759124\n",
      "\n",
      "Using:\n",
      "\tTfidfVectorizer\n",
      "\tLogisticRegression\n",
      "Fitting 5 folds for each of 128 candidates, totalling 640 fits\n"
     ]
    },
    {
     "name": "stderr",
     "output_type": "stream",
     "text": [
      "[Parallel(n_jobs=1)]: Using backend SequentialBackend with 1 concurrent workers.\n",
      "[Parallel(n_jobs=1)]: Done 640 out of 640 | elapsed:  3.1min finished\n"
     ]
    },
    {
     "name": "stdout",
     "output_type": "stream",
     "text": [
      "lr__C: 1\n",
      "lr__penalty: l2\n",
      "tv__max_df: 1.0\n",
      "tv__max_features: 2000\n",
      "tv__min_df: 1\n",
      "tv__ngram_range: (1, 1)\n",
      "tv__stop_words: None\n",
      "Train score: 0.7774481301362354 Test score 0.7875912408759124\n",
      "\n",
      "Using:\n",
      "\tTfidfVectorizer\n",
      "\tBernoulliNB\n",
      "Fitting 5 folds for each of 256 candidates, totalling 1280 fits\n"
     ]
    },
    {
     "name": "stderr",
     "output_type": "stream",
     "text": [
      "[Parallel(n_jobs=1)]: Using backend SequentialBackend with 1 concurrent workers.\n",
      "[Parallel(n_jobs=1)]: Done 1280 out of 1280 | elapsed:  8.6min finished\n",
      "[Parallel(n_jobs=1)]: Using backend SequentialBackend with 1 concurrent workers.\n"
     ]
    },
    {
     "name": "stdout",
     "output_type": "stream",
     "text": [
      "bnb__alpha: 2.0\n",
      "tv__max_df: 1.0\n",
      "tv__max_features: 2750\n",
      "tv__min_df: 2\n",
      "tv__ngram_range: (1, 1)\n",
      "tv__stop_words: english\n",
      "Train score: 0.6985647436068411 Test score 0.6722627737226278\n",
      "\n",
      "Using:\n",
      "\tTfidfVectorizer\n",
      "\tMultinomialNB\n",
      "Fitting 5 folds for each of 192 candidates, totalling 960 fits\n"
     ]
    },
    {
     "name": "stderr",
     "output_type": "stream",
     "text": [
      "[Parallel(n_jobs=1)]: Done 960 out of 960 | elapsed:  3.7min finished\n"
     ]
    },
    {
     "name": "stdout",
     "output_type": "stream",
     "text": [
      "mnb__alpha: 0.8\n",
      "tv__max_df: 1.0\n",
      "tv__max_features: 2250\n",
      "tv__min_df: 1\n",
      "tv__ngram_range: (1, 2)\n",
      "tv__stop_words: english\n",
      "Train score: 0.7745290148208077 Test score 0.7766423357664234\n",
      "\n"
     ]
    }
   ],
   "source": [
    "#code help from https://towardsdatascience.com/a-simple-example-of-pipeline-in-machine-learning-with-scikit-learn-e726ffbb6976\n",
    "#Decide what to put into the pipline, grid searh, and save the \"best\" for each grid search\n",
    "use_params = True\n",
    "vects = ['cvec, cvec2, cvec3, cvec5, cvec6, cvec7, tf']\n",
    "models = ['lr','bnb', 'mnb','rf']\n",
    "other = ['pf','ss']\n",
    "\n",
    "# After some initial tests, these seem like the best to pursue further\n",
    "vects = ['cv','tv']\n",
    "models = ['lr','bnb', 'mnb']\n",
    "other = []\n",
    "\n",
    "model_solns = {}\n",
    "idx = 0\n",
    "for v in vects:\n",
    "    for i in range(len(other)+1):\n",
    "        for o in list(combinations(other, i)):\n",
    "            for m in models:\n",
    "                idx += 1\n",
    "                pipe_items = [v]\n",
    "                pipe_items.extend(list(o))\n",
    "                pipe_items.append(m)\n",
    "                [train_score, test_score, y_test_hat, best_params] = create_pipline(pipe_items, use_params,\n",
    "                                                                        X_train, X_test,\n",
    "                                                                        y_train, y_test)\n",
    "                model_solns[idx] = {'vectorizer' : v, 'model': m, 'features': list(o),\n",
    "                                    'train_score': train_score, 'test_score': test_score,\n",
    "                                    'best_params': best_params, 'y_test_hat' : y_test_hat}"
   ]
  },
  {
   "cell_type": "code",
   "execution_count": 533,
   "metadata": {},
   "outputs": [
    {
     "data": {
      "text/html": [
       "<style>\n",
       ".output_wrapper, .output {\n",
       "    height:auto !important;\n",
       "    max-height:1000px;  /* 500px */\n",
       "}\n",
       ".output_scroll {\n",
       "    box-shadow:none !important;\n",
       "    webkit-box-shadow:none !important;\n",
       "}\n",
       "</style>\n"
      ],
      "text/plain": [
       "<IPython.core.display.HTML object>"
      ]
     },
     "metadata": {},
     "output_type": "display_data"
    }
   ],
   "source": [
    "#changing output options\n",
    "%%html\n",
    "<style>\n",
    ".output_wrapper, .output {\n",
    "    height:auto !important;\n",
    "    max-height:1000px;  /* 500px */\n",
    "}\n",
    ".output_scroll {\n",
    "    box-shadow:none !important;\n",
    "    webkit-box-shadow:none !important;\n",
    "}\n",
    "</style>"
   ]
  },
  {
   "cell_type": "code",
   "execution_count": 534,
   "metadata": {},
   "outputs": [
    {
     "data": {
      "text/html": [
       "<div>\n",
       "<style scoped>\n",
       "    .dataframe tbody tr th:only-of-type {\n",
       "        vertical-align: middle;\n",
       "    }\n",
       "\n",
       "    .dataframe tbody tr th {\n",
       "        vertical-align: top;\n",
       "    }\n",
       "\n",
       "    .dataframe thead th {\n",
       "        text-align: right;\n",
       "    }\n",
       "</style>\n",
       "<table border=\"1\" class=\"dataframe\">\n",
       "  <thead>\n",
       "    <tr style=\"text-align: right;\">\n",
       "      <th></th>\n",
       "      <th>4</th>\n",
       "      <th>1</th>\n",
       "      <th>6</th>\n",
       "      <th>3</th>\n",
       "      <th>2</th>\n",
       "      <th>5</th>\n",
       "    </tr>\n",
       "  </thead>\n",
       "  <tbody>\n",
       "    <tr>\n",
       "      <th>vectorizer</th>\n",
       "      <td>tv</td>\n",
       "      <td>cv</td>\n",
       "      <td>tv</td>\n",
       "      <td>cv</td>\n",
       "      <td>cv</td>\n",
       "      <td>tv</td>\n",
       "    </tr>\n",
       "    <tr>\n",
       "      <th>model</th>\n",
       "      <td>lr</td>\n",
       "      <td>lr</td>\n",
       "      <td>mnb</td>\n",
       "      <td>mnb</td>\n",
       "      <td>bnb</td>\n",
       "      <td>bnb</td>\n",
       "    </tr>\n",
       "    <tr>\n",
       "      <th>features</th>\n",
       "      <td>[]</td>\n",
       "      <td>[]</td>\n",
       "      <td>[]</td>\n",
       "      <td>[]</td>\n",
       "      <td>[]</td>\n",
       "      <td>[]</td>\n",
       "    </tr>\n",
       "    <tr>\n",
       "      <th>train_score</th>\n",
       "      <td>0.777448</td>\n",
       "      <td>0.785728</td>\n",
       "      <td>0.774529</td>\n",
       "      <td>0.77867</td>\n",
       "      <td>0.698564</td>\n",
       "      <td>0.698565</td>\n",
       "    </tr>\n",
       "    <tr>\n",
       "      <th>test_score</th>\n",
       "      <td>0.787591</td>\n",
       "      <td>0.782482</td>\n",
       "      <td>0.776642</td>\n",
       "      <td>0.775912</td>\n",
       "      <td>0.674453</td>\n",
       "      <td>0.672263</td>\n",
       "    </tr>\n",
       "    <tr>\n",
       "      <th>best_params</th>\n",
       "      <td>{'lr__C': 1, 'lr__penalty': 'l2', 'tv__max_df'...</td>\n",
       "      <td>{'cv__max_df': 1.0, 'cv__max_features': 2750, ...</td>\n",
       "      <td>{'mnb__alpha': 0.8, 'tv__max_df': 1.0, 'tv__ma...</td>\n",
       "      <td>{'cv__max_df': 1.0, 'cv__max_features': 2750, ...</td>\n",
       "      <td>{'bnb__alpha': 2.0, 'cv__max_df': 1.0, 'cv__ma...</td>\n",
       "      <td>{'bnb__alpha': 2.0, 'tv__max_df': 1.0, 'tv__ma...</td>\n",
       "    </tr>\n",
       "    <tr>\n",
       "      <th>y_test_hat</th>\n",
       "      <td>[0, 0, 1, 1, 0, 1, 0, 0, 0, 0, 0, 0, 0, 0, 0, ...</td>\n",
       "      <td>[0, 0, 1, 1, 0, 1, 0, 0, 0, 0, 0, 1, 0, 0, 0, ...</td>\n",
       "      <td>[0, 0, 1, 1, 0, 1, 0, 0, 0, 0, 0, 0, 0, 0, 0, ...</td>\n",
       "      <td>[0, 0, 1, 1, 0, 1, 0, 0, 0, 0, 0, 0, 0, 0, 0, ...</td>\n",
       "      <td>[1, 0, 1, 1, 0, 1, 0, 0, 1, 1, 1, 1, 0, 0, 0, ...</td>\n",
       "      <td>[1, 0, 1, 1, 0, 1, 0, 0, 1, 1, 1, 1, 0, 0, 0, ...</td>\n",
       "    </tr>\n",
       "  </tbody>\n",
       "</table>\n",
       "</div>"
      ],
      "text/plain": [
       "                                                             4  \\\n",
       "vectorizer                                                  tv   \n",
       "model                                                       lr   \n",
       "features                                                    []   \n",
       "train_score                                           0.777448   \n",
       "test_score                                            0.787591   \n",
       "best_params  {'lr__C': 1, 'lr__penalty': 'l2', 'tv__max_df'...   \n",
       "y_test_hat   [0, 0, 1, 1, 0, 1, 0, 0, 0, 0, 0, 0, 0, 0, 0, ...   \n",
       "\n",
       "                                                             1  \\\n",
       "vectorizer                                                  cv   \n",
       "model                                                       lr   \n",
       "features                                                    []   \n",
       "train_score                                           0.785728   \n",
       "test_score                                            0.782482   \n",
       "best_params  {'cv__max_df': 1.0, 'cv__max_features': 2750, ...   \n",
       "y_test_hat   [0, 0, 1, 1, 0, 1, 0, 0, 0, 0, 0, 1, 0, 0, 0, ...   \n",
       "\n",
       "                                                             6  \\\n",
       "vectorizer                                                  tv   \n",
       "model                                                      mnb   \n",
       "features                                                    []   \n",
       "train_score                                           0.774529   \n",
       "test_score                                            0.776642   \n",
       "best_params  {'mnb__alpha': 0.8, 'tv__max_df': 1.0, 'tv__ma...   \n",
       "y_test_hat   [0, 0, 1, 1, 0, 1, 0, 0, 0, 0, 0, 0, 0, 0, 0, ...   \n",
       "\n",
       "                                                             3  \\\n",
       "vectorizer                                                  cv   \n",
       "model                                                      mnb   \n",
       "features                                                    []   \n",
       "train_score                                            0.77867   \n",
       "test_score                                            0.775912   \n",
       "best_params  {'cv__max_df': 1.0, 'cv__max_features': 2750, ...   \n",
       "y_test_hat   [0, 0, 1, 1, 0, 1, 0, 0, 0, 0, 0, 0, 0, 0, 0, ...   \n",
       "\n",
       "                                                             2  \\\n",
       "vectorizer                                                  cv   \n",
       "model                                                      bnb   \n",
       "features                                                    []   \n",
       "train_score                                           0.698564   \n",
       "test_score                                            0.674453   \n",
       "best_params  {'bnb__alpha': 2.0, 'cv__max_df': 1.0, 'cv__ma...   \n",
       "y_test_hat   [1, 0, 1, 1, 0, 1, 0, 0, 1, 1, 1, 1, 0, 0, 0, ...   \n",
       "\n",
       "                                                             5  \n",
       "vectorizer                                                  tv  \n",
       "model                                                      bnb  \n",
       "features                                                    []  \n",
       "train_score                                           0.698565  \n",
       "test_score                                            0.672263  \n",
       "best_params  {'bnb__alpha': 2.0, 'tv__max_df': 1.0, 'tv__ma...  \n",
       "y_test_hat   [1, 0, 1, 1, 0, 1, 0, 0, 1, 1, 1, 1, 0, 0, 0, ...  "
      ]
     },
     "execution_count": 534,
     "metadata": {},
     "output_type": "execute_result"
    }
   ],
   "source": [
    "best_df = pd.DataFrame(model_solns)\n",
    "best_df.sort_values(ascending=False, by='test_score',axis=1)"
   ]
  },
  {
   "cell_type": "code",
   "execution_count": 535,
   "metadata": {},
   "outputs": [
    {
     "data": {
      "text/html": [
       "<div>\n",
       "<style scoped>\n",
       "    .dataframe tbody tr th:only-of-type {\n",
       "        vertical-align: middle;\n",
       "    }\n",
       "\n",
       "    .dataframe tbody tr th {\n",
       "        vertical-align: top;\n",
       "    }\n",
       "\n",
       "    .dataframe thead th {\n",
       "        text-align: right;\n",
       "    }\n",
       "</style>\n",
       "<table border=\"1\" class=\"dataframe\">\n",
       "  <thead>\n",
       "    <tr style=\"text-align: right;\">\n",
       "      <th></th>\n",
       "      <th>1</th>\n",
       "      <th>2</th>\n",
       "      <th>3</th>\n",
       "      <th>4</th>\n",
       "      <th>5</th>\n",
       "      <th>6</th>\n",
       "    </tr>\n",
       "  </thead>\n",
       "  <tbody>\n",
       "    <tr>\n",
       "      <th>vectorizer</th>\n",
       "      <td>cv</td>\n",
       "      <td>cv</td>\n",
       "      <td>cv</td>\n",
       "      <td>tv</td>\n",
       "      <td>tv</td>\n",
       "      <td>tv</td>\n",
       "    </tr>\n",
       "    <tr>\n",
       "      <th>model</th>\n",
       "      <td>lr</td>\n",
       "      <td>bnb</td>\n",
       "      <td>mnb</td>\n",
       "      <td>lr</td>\n",
       "      <td>bnb</td>\n",
       "      <td>mnb</td>\n",
       "    </tr>\n",
       "    <tr>\n",
       "      <th>train_score</th>\n",
       "      <td>0.785728</td>\n",
       "      <td>0.698564</td>\n",
       "      <td>0.77867</td>\n",
       "      <td>0.777448</td>\n",
       "      <td>0.698565</td>\n",
       "      <td>0.774529</td>\n",
       "    </tr>\n",
       "    <tr>\n",
       "      <th>test_score</th>\n",
       "      <td>0.782482</td>\n",
       "      <td>0.674453</td>\n",
       "      <td>0.775912</td>\n",
       "      <td>0.787591</td>\n",
       "      <td>0.672263</td>\n",
       "      <td>0.776642</td>\n",
       "    </tr>\n",
       "    <tr>\n",
       "      <th>best_params</th>\n",
       "      <td>{'cv__max_df': 1.0, 'cv__max_features': 2750, ...</td>\n",
       "      <td>{'bnb__alpha': 2.0, 'cv__max_df': 1.0, 'cv__ma...</td>\n",
       "      <td>{'cv__max_df': 1.0, 'cv__max_features': 2750, ...</td>\n",
       "      <td>{'lr__C': 1, 'lr__penalty': 'l2', 'tv__max_df'...</td>\n",
       "      <td>{'bnb__alpha': 2.0, 'tv__max_df': 1.0, 'tv__ma...</td>\n",
       "      <td>{'mnb__alpha': 0.8, 'tv__max_df': 1.0, 'tv__ma...</td>\n",
       "    </tr>\n",
       "  </tbody>\n",
       "</table>\n",
       "</div>"
      ],
      "text/plain": [
       "                                                             1  \\\n",
       "vectorizer                                                  cv   \n",
       "model                                                       lr   \n",
       "train_score                                           0.785728   \n",
       "test_score                                            0.782482   \n",
       "best_params  {'cv__max_df': 1.0, 'cv__max_features': 2750, ...   \n",
       "\n",
       "                                                             2  \\\n",
       "vectorizer                                                  cv   \n",
       "model                                                      bnb   \n",
       "train_score                                           0.698564   \n",
       "test_score                                            0.674453   \n",
       "best_params  {'bnb__alpha': 2.0, 'cv__max_df': 1.0, 'cv__ma...   \n",
       "\n",
       "                                                             3  \\\n",
       "vectorizer                                                  cv   \n",
       "model                                                      mnb   \n",
       "train_score                                            0.77867   \n",
       "test_score                                            0.775912   \n",
       "best_params  {'cv__max_df': 1.0, 'cv__max_features': 2750, ...   \n",
       "\n",
       "                                                             4  \\\n",
       "vectorizer                                                  tv   \n",
       "model                                                       lr   \n",
       "train_score                                           0.777448   \n",
       "test_score                                            0.787591   \n",
       "best_params  {'lr__C': 1, 'lr__penalty': 'l2', 'tv__max_df'...   \n",
       "\n",
       "                                                             5  \\\n",
       "vectorizer                                                  tv   \n",
       "model                                                      bnb   \n",
       "train_score                                           0.698565   \n",
       "test_score                                            0.672263   \n",
       "best_params  {'bnb__alpha': 2.0, 'tv__max_df': 1.0, 'tv__ma...   \n",
       "\n",
       "                                                             6  \n",
       "vectorizer                                                  tv  \n",
       "model                                                      mnb  \n",
       "train_score                                           0.774529  \n",
       "test_score                                            0.776642  \n",
       "best_params  {'mnb__alpha': 0.8, 'tv__max_df': 1.0, 'tv__ma...  "
      ]
     },
     "execution_count": 535,
     "metadata": {},
     "output_type": "execute_result"
    }
   ],
   "source": [
    "best_df.loc[['vectorizer','model','train_score','test_score','best_params'], :]"
   ]
  },
  {
   "cell_type": "code",
   "execution_count": 536,
   "metadata": {},
   "outputs": [
    {
     "name": "stdout",
     "output_type": "stream",
     "text": [
      "{'cv__max_df': 1.0, 'cv__max_features': 2750, 'cv__min_df': 1, 'cv__ngram_range': (1, 1), 'cv__stop_words': None, 'lr__C': 1, 'lr__penalty': 'l2'}\n"
     ]
    }
   ],
   "source": [
    "print(best_df.loc['best_params'][1])"
   ]
  },
  {
   "cell_type": "code",
   "execution_count": 537,
   "metadata": {},
   "outputs": [],
   "source": [
    "from sklearn.metrics import accuracy_score"
   ]
  },
  {
   "cell_type": "code",
   "execution_count": 538,
   "metadata": {},
   "outputs": [
    {
     "name": "stdout",
     "output_type": "stream",
     "text": [
      "The accuracy score of the average test solutions is 78.83%.\n"
     ]
    }
   ],
   "source": [
    "#code help from https://www.dataquest.io/blog/data-pipelines-tutorial/\n",
    "# Average the y_test_hat vectors to see if we can improve the score\n",
    "y_test_hat_agg = sum(best_df.loc['y_test_hat',:])\n",
    "y_test_hat = np.round(y_test_hat_agg/best_df.shape[1])\n",
    "print(\"The accuracy score of the average test solutions is {:.2f}%.\".format(accuracy_score(y_test,y_test_hat)*100))"
   ]
  },
  {
   "cell_type": "code",
   "execution_count": null,
   "metadata": {},
   "outputs": [],
   "source": []
  },
  {
   "cell_type": "code",
   "execution_count": null,
   "metadata": {},
   "outputs": [],
   "source": []
  }
 ],
 "metadata": {
  "kernelspec": {
   "display_name": "Python 3",
   "language": "python",
   "name": "python3"
  },
  "language_info": {
   "codemirror_mode": {
    "name": "ipython",
    "version": 3
   },
   "file_extension": ".py",
   "mimetype": "text/x-python",
   "name": "python",
   "nbconvert_exporter": "python",
   "pygments_lexer": "ipython3",
   "version": "3.7.6"
  }
 },
 "nbformat": 4,
 "nbformat_minor": 4
}
