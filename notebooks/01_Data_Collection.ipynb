{
 "cells": [
  {
   "cell_type": "code",
   "execution_count": 1,
   "metadata": {},
   "outputs": [],
   "source": [
    "import numpy as np\n",
    "import pandas as pd\n",
    "import requests\n",
    "import time\n",
    "import datetime as dt\n",
    "import json\n",
    "from bs4 import BeautifulSoup "
   ]
  },
  {
   "cell_type": "markdown",
   "metadata": {},
   "source": [
    "### Using Pushshift Search Function"
   ]
  },
  {
   "cell_type": "code",
   "execution_count": 2,
   "metadata": {},
   "outputs": [],
   "source": [
    "# References used to create this code: \n",
    "# https://github.com/pushshift/api\n",
    "# DSI instructor Chuck Dye\n",
    "# https://pushshift.io/author/stuck_in_the_matrix/\n",
    "\n",
    "def pushshift(subreddit, post_type='submission', loops=1, size=500, skip=50):\n",
    "# subreddit: str, name of subreddit to search for\n",
    "# post_type: {'submission', 'comment'}, type of post to search for\n",
    "# loops: int, number of times to request posts\n",
    "# size: int, number of posts per request (max 500 per pushshift api guide)\n",
    "# skip: int, number of days back to search in each loop \n",
    "        # increase if too many duplicate posts are returned, decrease if you want to skip fewer posts\n",
    "    \n",
    "    # data fields to return for submissions\n",
    "    subfields = ['author', 'author_fullname', 'created_utc', 'id', 'num_comments', 'permalink', \n",
    "                 'score', 'selftext', 'subreddit', 'title', 'url', 'is_self']  \n",
    "    \n",
    "    # data fields to return for comments\n",
    "    comfields = ['author', 'author_fullname', 'body', 'created_utc', 'id', 'parent_id', \n",
    "                'permalink', 'score', 'subreddit']\n",
    "    \n",
    "    # instantiate list for posts data\n",
    "    list_posts = [] \n",
    "    url_stem = \"https://api.pushshift.io/reddit/search/{}/?subreddit={}&size={}\".format(post_type, subreddit, size)\n",
    "    # skip a minimum of 1 day\n",
    "    after = 1    \n",
    "    \n",
    "    \n",
    "    # check before requesting data\n",
    "    if post_type not in ['comment', 'submission']:\n",
    "        print(\"post_type must be 'comment', 'submission'\")\n",
    "        return None\n",
    "    \n",
    "    \n",
    "    for i in range(loops):\n",
    "        # add parameters to url to skip posts (after could be used to match up to post at end of previous loop if skip = 0)\n",
    "        url = '{}&after={}d'.format(url_stem, skip * i + after) \n",
    "        # monitor status as loops run\n",
    "        print(i, url)\n",
    "        # get data\n",
    "        res = requests.get(url)\n",
    "        # add dictionaries for posts to list_posts\n",
    "        list_posts.extend(res.json()['data']) \n",
    "        # sleep\n",
    "        #Suspend execution of the calling thread for the given number of seconds. \n",
    "        #The argument may be a floating point number to indicate a more precise sleep time. \n",
    "        #The actual suspension time may be less than that requested because any caught signal will terminate the sleep() following execution of that signal’s catching routine. \n",
    "        #Also, the suspension time may be longer than requested by an arbitrary amount because of the scheduling of other activity in the system.\n",
    "        time.sleep(1) \n",
    "        \n",
    "    # turn list_posts (a list of dictionaries where each dictionary contains data on one post) into a dataframe\n",
    "    df_posts = pd.DataFrame.from_dict(list_posts) \n",
    "\n",
    "    # filter fields for submissions or comments\n",
    "    if post_type == 'submission':\n",
    "        df_posts = df_posts[subfields]\n",
    "    elif post_type == 'comment':\n",
    "        df_posts = df_posts[comfields]  \n",
    "#     else:\n",
    "#         print(\"post_type must be 'submission' or 'comment'\")\n",
    "#         return None\n",
    "\n",
    "    # drop any duplicates\n",
    "    df_posts.drop_duplicates(inplace=True)\n",
    "    # add a field identifying submissions or comments\n",
    "    df_posts['post_type'] = post_type\n",
    "    \n",
    "    return df_posts"
   ]
  },
  {
   "cell_type": "markdown",
   "metadata": {},
   "source": [
    "### Get Reddit posts and save to csv"
   ]
  },
  {
   "cell_type": "code",
   "execution_count": 3,
   "metadata": {},
   "outputs": [],
   "source": [
    "page = requests.get(\"https://www.reddit.com/r/elonmusk/\")"
   ]
  },
  {
   "cell_type": "code",
   "execution_count": 4,
   "metadata": {},
   "outputs": [
    {
     "name": "stdout",
     "output_type": "stream",
     "text": [
      "0 https://api.pushshift.io/reddit/search/submission/?subreddit=elonmusk&size=500&after=1d\n",
      "1 https://api.pushshift.io/reddit/search/submission/?subreddit=elonmusk&size=500&after=2d\n",
      "2 https://api.pushshift.io/reddit/search/submission/?subreddit=elonmusk&size=500&after=3d\n",
      "3 https://api.pushshift.io/reddit/search/submission/?subreddit=elonmusk&size=500&after=4d\n",
      "4 https://api.pushshift.io/reddit/search/submission/?subreddit=elonmusk&size=500&after=5d\n",
      "5 https://api.pushshift.io/reddit/search/submission/?subreddit=elonmusk&size=500&after=6d\n",
      "6 https://api.pushshift.io/reddit/search/submission/?subreddit=elonmusk&size=500&after=7d\n",
      "7 https://api.pushshift.io/reddit/search/submission/?subreddit=elonmusk&size=500&after=8d\n",
      "8 https://api.pushshift.io/reddit/search/submission/?subreddit=elonmusk&size=500&after=9d\n",
      "9 https://api.pushshift.io/reddit/search/submission/?subreddit=elonmusk&size=500&after=10d\n",
      "10 https://api.pushshift.io/reddit/search/submission/?subreddit=elonmusk&size=500&after=11d\n",
      "11 https://api.pushshift.io/reddit/search/submission/?subreddit=elonmusk&size=500&after=12d\n",
      "12 https://api.pushshift.io/reddit/search/submission/?subreddit=elonmusk&size=500&after=13d\n",
      "13 https://api.pushshift.io/reddit/search/submission/?subreddit=elonmusk&size=500&after=14d\n",
      "14 https://api.pushshift.io/reddit/search/submission/?subreddit=elonmusk&size=500&after=15d\n",
      "15 https://api.pushshift.io/reddit/search/submission/?subreddit=elonmusk&size=500&after=16d\n",
      "16 https://api.pushshift.io/reddit/search/submission/?subreddit=elonmusk&size=500&after=17d\n",
      "17 https://api.pushshift.io/reddit/search/submission/?subreddit=elonmusk&size=500&after=18d\n",
      "18 https://api.pushshift.io/reddit/search/submission/?subreddit=elonmusk&size=500&after=19d\n",
      "19 https://api.pushshift.io/reddit/search/submission/?subreddit=elonmusk&size=500&after=20d\n",
      "20 https://api.pushshift.io/reddit/search/submission/?subreddit=elonmusk&size=500&after=21d\n",
      "21 https://api.pushshift.io/reddit/search/submission/?subreddit=elonmusk&size=500&after=22d\n",
      "22 https://api.pushshift.io/reddit/search/submission/?subreddit=elonmusk&size=500&after=23d\n",
      "23 https://api.pushshift.io/reddit/search/submission/?subreddit=elonmusk&size=500&after=24d\n",
      "24 https://api.pushshift.io/reddit/search/submission/?subreddit=elonmusk&size=500&after=25d\n",
      "25 https://api.pushshift.io/reddit/search/submission/?subreddit=elonmusk&size=500&after=26d\n",
      "26 https://api.pushshift.io/reddit/search/submission/?subreddit=elonmusk&size=500&after=27d\n",
      "27 https://api.pushshift.io/reddit/search/submission/?subreddit=elonmusk&size=500&after=28d\n",
      "28 https://api.pushshift.io/reddit/search/submission/?subreddit=elonmusk&size=500&after=29d\n",
      "29 https://api.pushshift.io/reddit/search/submission/?subreddit=elonmusk&size=500&after=30d\n",
      "30 https://api.pushshift.io/reddit/search/submission/?subreddit=elonmusk&size=500&after=31d\n",
      "31 https://api.pushshift.io/reddit/search/submission/?subreddit=elonmusk&size=500&after=32d\n",
      "32 https://api.pushshift.io/reddit/search/submission/?subreddit=elonmusk&size=500&after=33d\n",
      "33 https://api.pushshift.io/reddit/search/submission/?subreddit=elonmusk&size=500&after=34d\n",
      "34 https://api.pushshift.io/reddit/search/submission/?subreddit=elonmusk&size=500&after=35d\n",
      "35 https://api.pushshift.io/reddit/search/submission/?subreddit=elonmusk&size=500&after=36d\n",
      "36 https://api.pushshift.io/reddit/search/submission/?subreddit=elonmusk&size=500&after=37d\n",
      "37 https://api.pushshift.io/reddit/search/submission/?subreddit=elonmusk&size=500&after=38d\n",
      "38 https://api.pushshift.io/reddit/search/submission/?subreddit=elonmusk&size=500&after=39d\n",
      "39 https://api.pushshift.io/reddit/search/submission/?subreddit=elonmusk&size=500&after=40d\n",
      "40 https://api.pushshift.io/reddit/search/submission/?subreddit=elonmusk&size=500&after=41d\n",
      "41 https://api.pushshift.io/reddit/search/submission/?subreddit=elonmusk&size=500&after=42d\n",
      "42 https://api.pushshift.io/reddit/search/submission/?subreddit=elonmusk&size=500&after=43d\n",
      "43 https://api.pushshift.io/reddit/search/submission/?subreddit=elonmusk&size=500&after=44d\n",
      "44 https://api.pushshift.io/reddit/search/submission/?subreddit=elonmusk&size=500&after=45d\n",
      "45 https://api.pushshift.io/reddit/search/submission/?subreddit=elonmusk&size=500&after=46d\n",
      "46 https://api.pushshift.io/reddit/search/submission/?subreddit=elonmusk&size=500&after=47d\n",
      "47 https://api.pushshift.io/reddit/search/submission/?subreddit=elonmusk&size=500&after=48d\n",
      "48 https://api.pushshift.io/reddit/search/submission/?subreddit=elonmusk&size=500&after=49d\n",
      "49 https://api.pushshift.io/reddit/search/submission/?subreddit=elonmusk&size=500&after=50d\n",
      "shape (903, 13)\n"
     ]
    }
   ],
   "source": [
    "elon_subs = pushshift('elonmusk', post_type='submission', loops=50, skip=1)\n",
    "print('shape', elon_subs.shape)\n",
    "elon_subs.to_csv('elon-pushshift.csv')"
   ]
  },
  {
   "cell_type": "code",
   "execution_count": 5,
   "metadata": {},
   "outputs": [
    {
     "name": "stdout",
     "output_type": "stream",
     "text": [
      "0 https://api.pushshift.io/reddit/search/submission/?subreddit=Futurology&size=500&after=1d\n",
      "1 https://api.pushshift.io/reddit/search/submission/?subreddit=Futurology&size=500&after=2d\n",
      "2 https://api.pushshift.io/reddit/search/submission/?subreddit=Futurology&size=500&after=3d\n",
      "3 https://api.pushshift.io/reddit/search/submission/?subreddit=Futurology&size=500&after=4d\n",
      "4 https://api.pushshift.io/reddit/search/submission/?subreddit=Futurology&size=500&after=5d\n",
      "5 https://api.pushshift.io/reddit/search/submission/?subreddit=Futurology&size=500&after=6d\n",
      "6 https://api.pushshift.io/reddit/search/submission/?subreddit=Futurology&size=500&after=7d\n",
      "7 https://api.pushshift.io/reddit/search/submission/?subreddit=Futurology&size=500&after=8d\n",
      "8 https://api.pushshift.io/reddit/search/submission/?subreddit=Futurology&size=500&after=9d\n",
      "9 https://api.pushshift.io/reddit/search/submission/?subreddit=Futurology&size=500&after=10d\n",
      "10 https://api.pushshift.io/reddit/search/submission/?subreddit=Futurology&size=500&after=11d\n",
      "11 https://api.pushshift.io/reddit/search/submission/?subreddit=Futurology&size=500&after=12d\n",
      "12 https://api.pushshift.io/reddit/search/submission/?subreddit=Futurology&size=500&after=13d\n",
      "13 https://api.pushshift.io/reddit/search/submission/?subreddit=Futurology&size=500&after=14d\n",
      "14 https://api.pushshift.io/reddit/search/submission/?subreddit=Futurology&size=500&after=15d\n",
      "15 https://api.pushshift.io/reddit/search/submission/?subreddit=Futurology&size=500&after=16d\n",
      "16 https://api.pushshift.io/reddit/search/submission/?subreddit=Futurology&size=500&after=17d\n",
      "17 https://api.pushshift.io/reddit/search/submission/?subreddit=Futurology&size=500&after=18d\n",
      "18 https://api.pushshift.io/reddit/search/submission/?subreddit=Futurology&size=500&after=19d\n",
      "19 https://api.pushshift.io/reddit/search/submission/?subreddit=Futurology&size=500&after=20d\n",
      "20 https://api.pushshift.io/reddit/search/submission/?subreddit=Futurology&size=500&after=21d\n",
      "21 https://api.pushshift.io/reddit/search/submission/?subreddit=Futurology&size=500&after=22d\n",
      "22 https://api.pushshift.io/reddit/search/submission/?subreddit=Futurology&size=500&after=23d\n",
      "23 https://api.pushshift.io/reddit/search/submission/?subreddit=Futurology&size=500&after=24d\n",
      "24 https://api.pushshift.io/reddit/search/submission/?subreddit=Futurology&size=500&after=25d\n",
      "25 https://api.pushshift.io/reddit/search/submission/?subreddit=Futurology&size=500&after=26d\n",
      "26 https://api.pushshift.io/reddit/search/submission/?subreddit=Futurology&size=500&after=27d\n",
      "27 https://api.pushshift.io/reddit/search/submission/?subreddit=Futurology&size=500&after=28d\n",
      "28 https://api.pushshift.io/reddit/search/submission/?subreddit=Futurology&size=500&after=29d\n",
      "29 https://api.pushshift.io/reddit/search/submission/?subreddit=Futurology&size=500&after=30d\n",
      "30 https://api.pushshift.io/reddit/search/submission/?subreddit=Futurology&size=500&after=31d\n",
      "31 https://api.pushshift.io/reddit/search/submission/?subreddit=Futurology&size=500&after=32d\n",
      "32 https://api.pushshift.io/reddit/search/submission/?subreddit=Futurology&size=500&after=33d\n",
      "33 https://api.pushshift.io/reddit/search/submission/?subreddit=Futurology&size=500&after=34d\n",
      "34 https://api.pushshift.io/reddit/search/submission/?subreddit=Futurology&size=500&after=35d\n",
      "35 https://api.pushshift.io/reddit/search/submission/?subreddit=Futurology&size=500&after=36d\n",
      "36 https://api.pushshift.io/reddit/search/submission/?subreddit=Futurology&size=500&after=37d\n",
      "37 https://api.pushshift.io/reddit/search/submission/?subreddit=Futurology&size=500&after=38d\n",
      "38 https://api.pushshift.io/reddit/search/submission/?subreddit=Futurology&size=500&after=39d\n",
      "39 https://api.pushshift.io/reddit/search/submission/?subreddit=Futurology&size=500&after=40d\n",
      "40 https://api.pushshift.io/reddit/search/submission/?subreddit=Futurology&size=500&after=41d\n",
      "41 https://api.pushshift.io/reddit/search/submission/?subreddit=Futurology&size=500&after=42d\n",
      "42 https://api.pushshift.io/reddit/search/submission/?subreddit=Futurology&size=500&after=43d\n",
      "43 https://api.pushshift.io/reddit/search/submission/?subreddit=Futurology&size=500&after=44d\n",
      "44 https://api.pushshift.io/reddit/search/submission/?subreddit=Futurology&size=500&after=45d\n",
      "45 https://api.pushshift.io/reddit/search/submission/?subreddit=Futurology&size=500&after=46d\n",
      "46 https://api.pushshift.io/reddit/search/submission/?subreddit=Futurology&size=500&after=47d\n",
      "47 https://api.pushshift.io/reddit/search/submission/?subreddit=Futurology&size=500&after=48d\n",
      "48 https://api.pushshift.io/reddit/search/submission/?subreddit=Futurology&size=500&after=49d\n",
      "49 https://api.pushshift.io/reddit/search/submission/?subreddit=Futurology&size=500&after=50d\n"
     ]
    }
   ],
   "source": [
    "futurology = pushshift('Futurology', post_type='submission', loops=50, skip=1)\n",
    "futurology.to_csv('futurology-pushshift.csv')"
   ]
  },
  {
   "cell_type": "code",
   "execution_count": 18,
   "metadata": {},
   "outputs": [
    {
     "name": "stdout",
     "output_type": "stream",
     "text": [
      "shape (3944, 13)\n"
     ]
    }
   ],
   "source": [
    "print('shape', futurology.shape)"
   ]
  },
  {
   "cell_type": "code",
   "execution_count": 6,
   "metadata": {},
   "outputs": [],
   "source": [
    "page2 = requests.get(\"https://www.reddit.com/r/https://www.reddit.com/r/Futurology/\")"
   ]
  },
  {
   "cell_type": "code",
   "execution_count": 7,
   "metadata": {},
   "outputs": [
    {
     "name": "stdout",
     "output_type": "stream",
     "text": [
      "0 https://api.pushshift.io/reddit/search/comment/?subreddit=elonmusk&size=500&after=1d\n",
      "1 https://api.pushshift.io/reddit/search/comment/?subreddit=elonmusk&size=500&after=2d\n",
      "2 https://api.pushshift.io/reddit/search/comment/?subreddit=elonmusk&size=500&after=3d\n",
      "3 https://api.pushshift.io/reddit/search/comment/?subreddit=elonmusk&size=500&after=4d\n",
      "4 https://api.pushshift.io/reddit/search/comment/?subreddit=elonmusk&size=500&after=5d\n",
      "5 https://api.pushshift.io/reddit/search/comment/?subreddit=elonmusk&size=500&after=6d\n",
      "6 https://api.pushshift.io/reddit/search/comment/?subreddit=elonmusk&size=500&after=7d\n",
      "7 https://api.pushshift.io/reddit/search/comment/?subreddit=elonmusk&size=500&after=8d\n",
      "8 https://api.pushshift.io/reddit/search/comment/?subreddit=elonmusk&size=500&after=9d\n",
      "9 https://api.pushshift.io/reddit/search/comment/?subreddit=elonmusk&size=500&after=10d\n",
      "10 https://api.pushshift.io/reddit/search/comment/?subreddit=elonmusk&size=500&after=11d\n",
      "11 https://api.pushshift.io/reddit/search/comment/?subreddit=elonmusk&size=500&after=12d\n",
      "12 https://api.pushshift.io/reddit/search/comment/?subreddit=elonmusk&size=500&after=13d\n",
      "13 https://api.pushshift.io/reddit/search/comment/?subreddit=elonmusk&size=500&after=14d\n",
      "14 https://api.pushshift.io/reddit/search/comment/?subreddit=elonmusk&size=500&after=15d\n",
      "15 https://api.pushshift.io/reddit/search/comment/?subreddit=elonmusk&size=500&after=16d\n",
      "16 https://api.pushshift.io/reddit/search/comment/?subreddit=elonmusk&size=500&after=17d\n",
      "17 https://api.pushshift.io/reddit/search/comment/?subreddit=elonmusk&size=500&after=18d\n",
      "18 https://api.pushshift.io/reddit/search/comment/?subreddit=elonmusk&size=500&after=19d\n",
      "19 https://api.pushshift.io/reddit/search/comment/?subreddit=elonmusk&size=500&after=20d\n",
      "shape (1860, 10)\n"
     ]
    }
   ],
   "source": [
    "elon_coms = pushshift('elonmusk', post_type='comment', loops=20, skip=1)\n",
    "print('shape', elon_coms.shape)\n",
    "elon_coms.to_csv('elon_coms-pushshift.csv')"
   ]
  },
  {
   "cell_type": "code",
   "execution_count": 8,
   "metadata": {},
   "outputs": [
    {
     "name": "stdout",
     "output_type": "stream",
     "text": [
      "0 https://api.pushshift.io/reddit/search/comment/?subreddit=Futurology&size=500&after=1d\n",
      "1 https://api.pushshift.io/reddit/search/comment/?subreddit=Futurology&size=500&after=2d\n",
      "2 https://api.pushshift.io/reddit/search/comment/?subreddit=Futurology&size=500&after=3d\n",
      "3 https://api.pushshift.io/reddit/search/comment/?subreddit=Futurology&size=500&after=4d\n",
      "4 https://api.pushshift.io/reddit/search/comment/?subreddit=Futurology&size=500&after=5d\n",
      "5 https://api.pushshift.io/reddit/search/comment/?subreddit=Futurology&size=500&after=6d\n",
      "6 https://api.pushshift.io/reddit/search/comment/?subreddit=Futurology&size=500&after=7d\n",
      "7 https://api.pushshift.io/reddit/search/comment/?subreddit=Futurology&size=500&after=8d\n",
      "8 https://api.pushshift.io/reddit/search/comment/?subreddit=Futurology&size=500&after=9d\n",
      "9 https://api.pushshift.io/reddit/search/comment/?subreddit=Futurology&size=500&after=10d\n",
      "10 https://api.pushshift.io/reddit/search/comment/?subreddit=Futurology&size=500&after=11d\n",
      "11 https://api.pushshift.io/reddit/search/comment/?subreddit=Futurology&size=500&after=12d\n",
      "12 https://api.pushshift.io/reddit/search/comment/?subreddit=Futurology&size=500&after=13d\n",
      "13 https://api.pushshift.io/reddit/search/comment/?subreddit=Futurology&size=500&after=14d\n",
      "14 https://api.pushshift.io/reddit/search/comment/?subreddit=Futurology&size=500&after=15d\n",
      "15 https://api.pushshift.io/reddit/search/comment/?subreddit=Futurology&size=500&after=16d\n",
      "16 https://api.pushshift.io/reddit/search/comment/?subreddit=Futurology&size=500&after=17d\n",
      "17 https://api.pushshift.io/reddit/search/comment/?subreddit=Futurology&size=500&after=18d\n",
      "18 https://api.pushshift.io/reddit/search/comment/?subreddit=Futurology&size=500&after=19d\n",
      "19 https://api.pushshift.io/reddit/search/comment/?subreddit=Futurology&size=500&after=20d\n",
      "shape (1900, 10)\n"
     ]
    }
   ],
   "source": [
    "future_coms = pushshift('Futurology', post_type='comment', loops=20, skip=1)\n",
    "print('shape', future_coms.shape)\n",
    "future_coms.to_csv('future_coms.csv')"
   ]
  },
  {
   "cell_type": "code",
   "execution_count": 9,
   "metadata": {},
   "outputs": [],
   "source": [
    "def pushshift_2(subreddit, post_type='submission', loops=1, size=500, skip=75):\n",
    "# subreddit: str, name of subreddit to search for\n",
    "# post_type: {'submission', 'comment'}, type of post to search for\n",
    "# loops: int, number of times to request posts\n",
    "# size: int, number of posts per request (max 500 per pushshift api guide)\n",
    "# skip: int, number of days back to search in each loop \n",
    "        # increase if too many duplicate posts are returned, decrease if you want to skip fewer posts\n",
    "    \n",
    "    # data fields to return for submissions\n",
    "    subfields = ['author', 'author_fullname', 'created_utc', 'id', 'num_comments', 'permalink', \n",
    "                 'score', 'selftext', 'subreddit', 'title', 'url', 'is_self']  \n",
    "    \n",
    "    # data fields to return for comments\n",
    "    comfields = ['author', 'author_fullname', 'body', 'created_utc', 'id', 'parent_id', \n",
    "                'permalink', 'score', 'subreddit']\n",
    "    \n",
    "    # instantiate list for posts data\n",
    "    list_posts = [] \n",
    "    url_stem = \"https://api.pushshift.io/reddit/search/{}/?subreddit={}&size={}\".format(post_type, subreddit, size)\n",
    "    # skip a minimum of 1 day\n",
    "    after = 1    \n",
    "    \n",
    "    \n",
    "    # check before requesting data\n",
    "    if post_type not in ['comment', 'submission']:\n",
    "        print(\"post_type must be 'comment', 'submission'\")\n",
    "        return None\n",
    "    \n",
    "    \n",
    "    for i in range(loops):\n",
    "        # add parameters to url to skip posts (after could be used to match up to post at end of previous loop if skip = 0)\n",
    "        url = '{}&after={}d'.format(url_stem, skip * i + after) \n",
    "        # monitor status as loops run\n",
    "        print(i, url)\n",
    "        # get data\n",
    "        res = requests.get(url)\n",
    "        # add dictionaries for posts to list_posts\n",
    "        list_posts.extend(res.json()['data']) \n",
    "        # sleep\n",
    "        time.sleep(1) \n",
    "        \n",
    "    # turn list_posts (a list of dictionaries where each dictionary contains data on one post) into a dataframe\n",
    "    df_posts = pd.DataFrame.from_dict(list_posts) \n",
    "\n",
    "    # filter fields for submissions or comments\n",
    "    if post_type == 'submission':\n",
    "        df_posts = df_posts[subfields]\n",
    "    elif post_type == 'comment':\n",
    "        df_posts = df_posts[comfields]  \n",
    "#     else:\n",
    "#         print(\"post_type must be 'submission' or 'comment'\")\n",
    "#         return None\n",
    "\n",
    "    # drop any duplicates\n",
    "    df_posts.drop_duplicates(inplace=True)\n",
    "    # add a field identifying submissions or comments\n",
    "    df_posts['post_type'] = post_type\n",
    "    \n",
    "    return df_posts"
   ]
  },
  {
   "cell_type": "code",
   "execution_count": 10,
   "metadata": {},
   "outputs": [
    {
     "name": "stdout",
     "output_type": "stream",
     "text": [
      "0 https://api.pushshift.io/reddit/search/comment/?subreddit=elonmusk&size=500&after=1d\n",
      "1 https://api.pushshift.io/reddit/search/comment/?subreddit=elonmusk&size=500&after=2d\n",
      "2 https://api.pushshift.io/reddit/search/comment/?subreddit=elonmusk&size=500&after=3d\n",
      "3 https://api.pushshift.io/reddit/search/comment/?subreddit=elonmusk&size=500&after=4d\n",
      "4 https://api.pushshift.io/reddit/search/comment/?subreddit=elonmusk&size=500&after=5d\n",
      "5 https://api.pushshift.io/reddit/search/comment/?subreddit=elonmusk&size=500&after=6d\n",
      "6 https://api.pushshift.io/reddit/search/comment/?subreddit=elonmusk&size=500&after=7d\n",
      "7 https://api.pushshift.io/reddit/search/comment/?subreddit=elonmusk&size=500&after=8d\n",
      "8 https://api.pushshift.io/reddit/search/comment/?subreddit=elonmusk&size=500&after=9d\n",
      "9 https://api.pushshift.io/reddit/search/comment/?subreddit=elonmusk&size=500&after=10d\n",
      "10 https://api.pushshift.io/reddit/search/comment/?subreddit=elonmusk&size=500&after=11d\n",
      "11 https://api.pushshift.io/reddit/search/comment/?subreddit=elonmusk&size=500&after=12d\n",
      "12 https://api.pushshift.io/reddit/search/comment/?subreddit=elonmusk&size=500&after=13d\n",
      "13 https://api.pushshift.io/reddit/search/comment/?subreddit=elonmusk&size=500&after=14d\n",
      "14 https://api.pushshift.io/reddit/search/comment/?subreddit=elonmusk&size=500&after=15d\n",
      "15 https://api.pushshift.io/reddit/search/comment/?subreddit=elonmusk&size=500&after=16d\n",
      "16 https://api.pushshift.io/reddit/search/comment/?subreddit=elonmusk&size=500&after=17d\n",
      "17 https://api.pushshift.io/reddit/search/comment/?subreddit=elonmusk&size=500&after=18d\n",
      "18 https://api.pushshift.io/reddit/search/comment/?subreddit=elonmusk&size=500&after=19d\n",
      "19 https://api.pushshift.io/reddit/search/comment/?subreddit=elonmusk&size=500&after=20d\n",
      "shape (1851, 10)\n"
     ]
    }
   ],
   "source": [
    "elon_coms_2 = pushshift_2('elonmusk', post_type='comment', loops=20, skip=1)\n",
    "print('shape', elon_coms_2.shape)\n",
    "elon_coms_2.to_csv('elon_coms-pushshift2.csv')"
   ]
  },
  {
   "cell_type": "code",
   "execution_count": 11,
   "metadata": {},
   "outputs": [
    {
     "name": "stdout",
     "output_type": "stream",
     "text": [
      "0 https://api.pushshift.io/reddit/search/comment/?subreddit=Futurology&size=500&after=1d\n",
      "1 https://api.pushshift.io/reddit/search/comment/?subreddit=Futurology&size=500&after=2d\n",
      "2 https://api.pushshift.io/reddit/search/comment/?subreddit=Futurology&size=500&after=3d\n",
      "3 https://api.pushshift.io/reddit/search/comment/?subreddit=Futurology&size=500&after=4d\n",
      "4 https://api.pushshift.io/reddit/search/comment/?subreddit=Futurology&size=500&after=5d\n",
      "5 https://api.pushshift.io/reddit/search/comment/?subreddit=Futurology&size=500&after=6d\n",
      "6 https://api.pushshift.io/reddit/search/comment/?subreddit=Futurology&size=500&after=7d\n",
      "7 https://api.pushshift.io/reddit/search/comment/?subreddit=Futurology&size=500&after=8d\n",
      "8 https://api.pushshift.io/reddit/search/comment/?subreddit=Futurology&size=500&after=9d\n",
      "9 https://api.pushshift.io/reddit/search/comment/?subreddit=Futurology&size=500&after=10d\n",
      "10 https://api.pushshift.io/reddit/search/comment/?subreddit=Futurology&size=500&after=11d\n",
      "11 https://api.pushshift.io/reddit/search/comment/?subreddit=Futurology&size=500&after=12d\n",
      "12 https://api.pushshift.io/reddit/search/comment/?subreddit=Futurology&size=500&after=13d\n",
      "13 https://api.pushshift.io/reddit/search/comment/?subreddit=Futurology&size=500&after=14d\n",
      "14 https://api.pushshift.io/reddit/search/comment/?subreddit=Futurology&size=500&after=15d\n",
      "15 https://api.pushshift.io/reddit/search/comment/?subreddit=Futurology&size=500&after=16d\n",
      "16 https://api.pushshift.io/reddit/search/comment/?subreddit=Futurology&size=500&after=17d\n",
      "17 https://api.pushshift.io/reddit/search/comment/?subreddit=Futurology&size=500&after=18d\n",
      "18 https://api.pushshift.io/reddit/search/comment/?subreddit=Futurology&size=500&after=19d\n",
      "19 https://api.pushshift.io/reddit/search/comment/?subreddit=Futurology&size=500&after=20d\n",
      "shape (1900, 10)\n"
     ]
    }
   ],
   "source": [
    "future_coms_2 = pushshift_2('Futurology', post_type='comment', loops=20, skip=1)\n",
    "print('shape', future_coms_2.shape)\n",
    "future_coms_2.to_csv('future_coms_2.csv')"
   ]
  },
  {
   "cell_type": "code",
   "execution_count": 12,
   "metadata": {},
   "outputs": [],
   "source": [
    "def pushshift_3(subreddit, post_type='submission', loops=1, size=500, skip=200):\n",
    "# subreddit: str, name of subreddit to search for\n",
    "# post_type: {'submission', 'comment'}, type of post to search for\n",
    "# loops: int, number of times to request posts\n",
    "# size: int, number of posts per request (max 500 per pushshift api guide)\n",
    "# skip: int, number of days back to search in each loop \n",
    "        # increase if too many duplicate posts are returned, decrease if you want to skip fewer posts\n",
    "    \n",
    "    # data fields to return for submissions\n",
    "    subfields = ['author', 'author_fullname', 'created_utc', 'id', 'num_comments', 'permalink', \n",
    "                 'score', 'selftext', 'subreddit', 'title', 'url', 'is_self']  \n",
    "    \n",
    "    # data fields to return for comments\n",
    "    comfields = ['author', 'author_fullname', 'body', 'created_utc', 'id', 'parent_id', \n",
    "                'permalink', 'score', 'subreddit']\n",
    "    \n",
    "    # instantiate list for posts data\n",
    "    list_posts = [] \n",
    "    url_stem = \"https://api.pushshift.io/reddit/search/{}/?subreddit={}&size={}\".format(post_type, subreddit, size)\n",
    "    # skip a minimum of 1 day\n",
    "    after = 1    \n",
    "    \n",
    "    \n",
    "    # check before requesting data\n",
    "    if post_type not in ['comment', 'submission']:\n",
    "        print(\"post_type must be 'comment', 'submission'\")\n",
    "        return None\n",
    "    \n",
    "    \n",
    "    for i in range(loops):\n",
    "        # add parameters to url to skip posts (after could be used to match up to post at end of previous loop if skip = 0)\n",
    "        url = '{}&after={}d'.format(url_stem, skip * i + after) \n",
    "        # monitor status as loops run\n",
    "        print(i, url)\n",
    "        # get data\n",
    "        res = requests.get(url)\n",
    "        # add dictionaries for posts to list_posts\n",
    "        list_posts.extend(res.json()['data']) \n",
    "        # sleep\n",
    "        time.sleep(1) \n",
    "        \n",
    "    # turn list_posts (a list of dictionaries where each dictionary contains data on one post) into a dataframe\n",
    "    df_posts = pd.DataFrame.from_dict(list_posts) \n",
    "\n",
    "    # filter fields for submissions or comments\n",
    "    if post_type == 'submission':\n",
    "        df_posts = df_posts[subfields]\n",
    "    elif post_type == 'comment':\n",
    "        df_posts = df_posts[comfields]  \n",
    "#     else:\n",
    "#         print(\"post_type must be 'submission' or 'comment'\")\n",
    "#         return None\n",
    "\n",
    "    # drop any duplicates\n",
    "    df_posts.drop_duplicates(inplace=True)\n",
    "    # add a field identifying submissions or comments\n",
    "    df_posts['post_type'] = post_type\n",
    "    \n",
    "    return df_posts"
   ]
  },
  {
   "cell_type": "code",
   "execution_count": 13,
   "metadata": {},
   "outputs": [
    {
     "name": "stdout",
     "output_type": "stream",
     "text": [
      "0 https://api.pushshift.io/reddit/search/comment/?subreddit=elonmusk&size=500&after=1d\n",
      "1 https://api.pushshift.io/reddit/search/comment/?subreddit=elonmusk&size=500&after=2d\n",
      "2 https://api.pushshift.io/reddit/search/comment/?subreddit=elonmusk&size=500&after=3d\n",
      "3 https://api.pushshift.io/reddit/search/comment/?subreddit=elonmusk&size=500&after=4d\n",
      "4 https://api.pushshift.io/reddit/search/comment/?subreddit=elonmusk&size=500&after=5d\n",
      "5 https://api.pushshift.io/reddit/search/comment/?subreddit=elonmusk&size=500&after=6d\n",
      "6 https://api.pushshift.io/reddit/search/comment/?subreddit=elonmusk&size=500&after=7d\n",
      "7 https://api.pushshift.io/reddit/search/comment/?subreddit=elonmusk&size=500&after=8d\n",
      "8 https://api.pushshift.io/reddit/search/comment/?subreddit=elonmusk&size=500&after=9d\n",
      "9 https://api.pushshift.io/reddit/search/comment/?subreddit=elonmusk&size=500&after=10d\n",
      "10 https://api.pushshift.io/reddit/search/comment/?subreddit=elonmusk&size=500&after=11d\n",
      "11 https://api.pushshift.io/reddit/search/comment/?subreddit=elonmusk&size=500&after=12d\n",
      "12 https://api.pushshift.io/reddit/search/comment/?subreddit=elonmusk&size=500&after=13d\n",
      "13 https://api.pushshift.io/reddit/search/comment/?subreddit=elonmusk&size=500&after=14d\n",
      "14 https://api.pushshift.io/reddit/search/comment/?subreddit=elonmusk&size=500&after=15d\n",
      "15 https://api.pushshift.io/reddit/search/comment/?subreddit=elonmusk&size=500&after=16d\n",
      "16 https://api.pushshift.io/reddit/search/comment/?subreddit=elonmusk&size=500&after=17d\n",
      "17 https://api.pushshift.io/reddit/search/comment/?subreddit=elonmusk&size=500&after=18d\n",
      "18 https://api.pushshift.io/reddit/search/comment/?subreddit=elonmusk&size=500&after=19d\n",
      "19 https://api.pushshift.io/reddit/search/comment/?subreddit=elonmusk&size=500&after=20d\n",
      "shape (1850, 10)\n"
     ]
    }
   ],
   "source": [
    "elon_coms_3 = pushshift_3('elonmusk', post_type='comment', loops=20, skip=1)\n",
    "print('shape', elon_coms_3.shape)\n",
    "elon_coms_3.to_csv('elon_coms-pushshift3.csv')"
   ]
  },
  {
   "cell_type": "code",
   "execution_count": 14,
   "metadata": {},
   "outputs": [
    {
     "name": "stdout",
     "output_type": "stream",
     "text": [
      "0 https://api.pushshift.io/reddit/search/comment/?subreddit=Futurology&size=500&after=1d\n",
      "1 https://api.pushshift.io/reddit/search/comment/?subreddit=Futurology&size=500&after=2d\n",
      "2 https://api.pushshift.io/reddit/search/comment/?subreddit=Futurology&size=500&after=3d\n",
      "3 https://api.pushshift.io/reddit/search/comment/?subreddit=Futurology&size=500&after=4d\n",
      "4 https://api.pushshift.io/reddit/search/comment/?subreddit=Futurology&size=500&after=5d\n",
      "5 https://api.pushshift.io/reddit/search/comment/?subreddit=Futurology&size=500&after=6d\n",
      "6 https://api.pushshift.io/reddit/search/comment/?subreddit=Futurology&size=500&after=7d\n",
      "7 https://api.pushshift.io/reddit/search/comment/?subreddit=Futurology&size=500&after=8d\n",
      "8 https://api.pushshift.io/reddit/search/comment/?subreddit=Futurology&size=500&after=9d\n",
      "9 https://api.pushshift.io/reddit/search/comment/?subreddit=Futurology&size=500&after=10d\n",
      "10 https://api.pushshift.io/reddit/search/comment/?subreddit=Futurology&size=500&after=11d\n",
      "11 https://api.pushshift.io/reddit/search/comment/?subreddit=Futurology&size=500&after=12d\n",
      "12 https://api.pushshift.io/reddit/search/comment/?subreddit=Futurology&size=500&after=13d\n",
      "13 https://api.pushshift.io/reddit/search/comment/?subreddit=Futurology&size=500&after=14d\n",
      "14 https://api.pushshift.io/reddit/search/comment/?subreddit=Futurology&size=500&after=15d\n",
      "15 https://api.pushshift.io/reddit/search/comment/?subreddit=Futurology&size=500&after=16d\n",
      "16 https://api.pushshift.io/reddit/search/comment/?subreddit=Futurology&size=500&after=17d\n",
      "17 https://api.pushshift.io/reddit/search/comment/?subreddit=Futurology&size=500&after=18d\n",
      "18 https://api.pushshift.io/reddit/search/comment/?subreddit=Futurology&size=500&after=19d\n",
      "19 https://api.pushshift.io/reddit/search/comment/?subreddit=Futurology&size=500&after=20d\n",
      "shape (1900, 10)\n"
     ]
    }
   ],
   "source": [
    "future_coms_3 = pushshift_3('Futurology', post_type='comment', loops=20, skip=1)\n",
    "print('shape', future_coms_3.shape)\n",
    "future_coms_3.to_csv('future_coms_3.csv')"
   ]
  },
  {
   "cell_type": "markdown",
   "metadata": {},
   "source": [
    "### Create CSV for analysis of comment body text only"
   ]
  },
  {
   "cell_type": "code",
   "execution_count": 15,
   "metadata": {},
   "outputs": [],
   "source": [
    "df = pd.concat([elon_coms[['body', 'subreddit']], \n",
    "                future_coms[['body', 'subreddit']], \n",
    "                elon_coms_2[['body', 'subreddit']], \n",
    "                 future_coms_2[['body', 'subreddit']],\n",
    "                 elon_coms_3[['body', 'subreddit']], \n",
    "                 future_coms_3[['body', 'subreddit']]], \n",
    "                ignore_index=True)\n",
    "df.to_csv('comments.csv', index=False)"
   ]
  },
  {
   "cell_type": "code",
   "execution_count": 16,
   "metadata": {},
   "outputs": [
    {
     "data": {
      "text/plain": [
       "(11261, 2)"
      ]
     },
     "execution_count": 16,
     "metadata": {},
     "output_type": "execute_result"
    }
   ],
   "source": [
    "df.shape"
   ]
  },
  {
   "cell_type": "code",
   "execution_count": 17,
   "metadata": {},
   "outputs": [
    {
     "data": {
      "text/html": [
       "<div>\n",
       "<style scoped>\n",
       "    .dataframe tbody tr th:only-of-type {\n",
       "        vertical-align: middle;\n",
       "    }\n",
       "\n",
       "    .dataframe tbody tr th {\n",
       "        vertical-align: top;\n",
       "    }\n",
       "\n",
       "    .dataframe thead th {\n",
       "        text-align: right;\n",
       "    }\n",
       "</style>\n",
       "<table border=\"1\" class=\"dataframe\">\n",
       "  <thead>\n",
       "    <tr style=\"text-align: right;\">\n",
       "      <th></th>\n",
       "      <th>body</th>\n",
       "      <th>subreddit</th>\n",
       "    </tr>\n",
       "  </thead>\n",
       "  <tbody>\n",
       "    <tr>\n",
       "      <th>0</th>\n",
       "      <td>They shared.\\nThey did not share.\\nThey resist...</td>\n",
       "      <td>elonmusk</td>\n",
       "    </tr>\n",
       "    <tr>\n",
       "      <th>1</th>\n",
       "      <td>Sorry to break it to you, but corporate monopo...</td>\n",
       "      <td>elonmusk</td>\n",
       "    </tr>\n",
       "    <tr>\n",
       "      <th>2</th>\n",
       "      <td>And wearing his Elon's Musk</td>\n",
       "      <td>elonmusk</td>\n",
       "    </tr>\n",
       "    <tr>\n",
       "      <th>3</th>\n",
       "      <td>This is where it starts getting a little weird</td>\n",
       "      <td>elonmusk</td>\n",
       "    </tr>\n",
       "    <tr>\n",
       "      <th>4</th>\n",
       "      <td>[removed]</td>\n",
       "      <td>elonmusk</td>\n",
       "    </tr>\n",
       "  </tbody>\n",
       "</table>\n",
       "</div>"
      ],
      "text/plain": [
       "                                                body subreddit\n",
       "0  They shared.\\nThey did not share.\\nThey resist...  elonmusk\n",
       "1  Sorry to break it to you, but corporate monopo...  elonmusk\n",
       "2                        And wearing his Elon's Musk  elonmusk\n",
       "3     This is where it starts getting a little weird  elonmusk\n",
       "4                                          [removed]  elonmusk"
      ]
     },
     "execution_count": 17,
     "metadata": {},
     "output_type": "execute_result"
    }
   ],
   "source": [
    "df.head()"
   ]
  },
  {
   "cell_type": "code",
   "execution_count": null,
   "metadata": {},
   "outputs": [],
   "source": []
  }
 ],
 "metadata": {
  "kernelspec": {
   "display_name": "Python 3",
   "language": "python",
   "name": "python3"
  },
  "language_info": {
   "codemirror_mode": {
    "name": "ipython",
    "version": 3
   },
   "file_extension": ".py",
   "mimetype": "text/x-python",
   "name": "python",
   "nbconvert_exporter": "python",
   "pygments_lexer": "ipython3",
   "version": "3.7.6"
  }
 },
 "nbformat": 4,
 "nbformat_minor": 4
}
